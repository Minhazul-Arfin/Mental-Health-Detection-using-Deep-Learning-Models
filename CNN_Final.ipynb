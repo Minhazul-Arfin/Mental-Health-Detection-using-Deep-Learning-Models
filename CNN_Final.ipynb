{
  "nbformat": 4,
  "nbformat_minor": 0,
  "metadata": {
    "colab": {
      "provenance": [],
      "collapsed_sections": [
        "zCTWphZhgwp3",
        "QO4I_qbXxEug"
      ],
      "machine_shape": "hm"
    },
    "kernelspec": {
      "name": "python3",
      "display_name": "Python 3"
    },
    "gpuClass": "standard",
    "accelerator": "GPU"
  },
  "cells": [
    {
      "cell_type": "code",
      "source": [
        "gpu_info = !nvidia-smi\n",
        "gpu_info = '\\n'.join(gpu_info)\n",
        "if gpu_info.find('failed') >= 0:\n",
        "  print('Not connected to a GPU')\n",
        "else:\n",
        "  print(gpu_info)"
      ],
      "metadata": {
        "colab": {
          "base_uri": "https://localhost:8080/"
        },
        "id": "gUpCFjey-mVg",
        "outputId": "de11ff08-ef34-4856-b485-a939468901d0"
      },
      "execution_count": null,
      "outputs": [
        {
          "output_type": "stream",
          "name": "stdout",
          "text": [
            "Sun Oct 16 11:38:32 2022       \n",
            "+-----------------------------------------------------------------------------+\n",
            "| NVIDIA-SMI 460.32.03    Driver Version: 460.32.03    CUDA Version: 11.2     |\n",
            "|-------------------------------+----------------------+----------------------+\n",
            "| GPU  Name        Persistence-M| Bus-Id        Disp.A | Volatile Uncorr. ECC |\n",
            "| Fan  Temp  Perf  Pwr:Usage/Cap|         Memory-Usage | GPU-Util  Compute M. |\n",
            "|                               |                      |               MIG M. |\n",
            "|===============================+======================+======================|\n",
            "|   0  Tesla T4            Off  | 00000000:00:04.0 Off |                    0 |\n",
            "| N/A   36C    P8     9W /  70W |      0MiB / 15109MiB |      0%      Default |\n",
            "|                               |                      |                  N/A |\n",
            "+-------------------------------+----------------------+----------------------+\n",
            "                                                                               \n",
            "+-----------------------------------------------------------------------------+\n",
            "| Processes:                                                                  |\n",
            "|  GPU   GI   CI        PID   Type   Process name                  GPU Memory |\n",
            "|        ID   ID                                                   Usage      |\n",
            "|=============================================================================|\n",
            "|  No running processes found                                                 |\n",
            "+-----------------------------------------------------------------------------+\n"
          ]
        }
      ]
    },
    {
      "cell_type": "code",
      "source": [
        "import numpy as np \n",
        "import pandas as pd \n",
        "import matplotlib.pyplot as plt\n",
        "import keras\n",
        "from warnings import filterwarnings\n",
        "filterwarnings('ignore')\n",
        "import os\n",
        "from sklearn.model_selection import StratifiedKFold"
      ],
      "metadata": {
        "id": "TrlhO9q8etSv"
      },
      "execution_count": null,
      "outputs": []
    },
    {
      "cell_type": "code",
      "source": [
        "from google.colab import drive\n",
        "drive.mount('/content/drive')"
      ],
      "metadata": {
        "id": "G77n-5j_ezHt",
        "colab": {
          "base_uri": "https://localhost:8080/"
        },
        "outputId": "d52d060b-26e4-41d4-bac6-ae72f99585d3"
      },
      "execution_count": null,
      "outputs": [
        {
          "output_type": "stream",
          "name": "stdout",
          "text": [
            "Mounted at /content/drive\n"
          ]
        }
      ]
    },
    {
      "cell_type": "code",
      "source": [
        "# Let us pre-process the data\n",
        "data= pd.read_csv(\"/content/drive/MyDrive/Colab Notebooks/Mental Health/Mental-health-related-subreddits-modified.csv\")\n",
        "data.head(5)"
      ],
      "metadata": {
        "id": "fL6NUQGQe1A9",
        "colab": {
          "base_uri": "https://localhost:8080/",
          "height": 206
        },
        "outputId": "7667b394-0fcf-456b-d413-a5de02dd9e32"
      },
      "execution_count": null,
      "outputs": [
        {
          "output_type": "execute_result",
          "data": {
            "text/plain": [
              "                                             Content       Category  label\n",
              "0  guys the civil war movies and games. keep givi...  schizophrenia      0\n",
              "1  What do I have? Hi everyone, I just found this...        anxiety      1\n",
              "2  Buster from Arthur... A possibly random and we...  schizophrenia      0\n",
              "3  anxiety attack at the movies I took about 50mg...        anxiety      1\n",
              "4  Today’s reflections on depression I don’t know...            BPD      2"
            ],
            "text/html": [
              "\n",
              "  <div id=\"df-dfc3acad-a5f5-45d5-8ef9-79ccc545e50a\">\n",
              "    <div class=\"colab-df-container\">\n",
              "      <div>\n",
              "<style scoped>\n",
              "    .dataframe tbody tr th:only-of-type {\n",
              "        vertical-align: middle;\n",
              "    }\n",
              "\n",
              "    .dataframe tbody tr th {\n",
              "        vertical-align: top;\n",
              "    }\n",
              "\n",
              "    .dataframe thead th {\n",
              "        text-align: right;\n",
              "    }\n",
              "</style>\n",
              "<table border=\"1\" class=\"dataframe\">\n",
              "  <thead>\n",
              "    <tr style=\"text-align: right;\">\n",
              "      <th></th>\n",
              "      <th>Content</th>\n",
              "      <th>Category</th>\n",
              "      <th>label</th>\n",
              "    </tr>\n",
              "  </thead>\n",
              "  <tbody>\n",
              "    <tr>\n",
              "      <th>0</th>\n",
              "      <td>guys the civil war movies and games. keep givi...</td>\n",
              "      <td>schizophrenia</td>\n",
              "      <td>0</td>\n",
              "    </tr>\n",
              "    <tr>\n",
              "      <th>1</th>\n",
              "      <td>What do I have? Hi everyone, I just found this...</td>\n",
              "      <td>anxiety</td>\n",
              "      <td>1</td>\n",
              "    </tr>\n",
              "    <tr>\n",
              "      <th>2</th>\n",
              "      <td>Buster from Arthur... A possibly random and we...</td>\n",
              "      <td>schizophrenia</td>\n",
              "      <td>0</td>\n",
              "    </tr>\n",
              "    <tr>\n",
              "      <th>3</th>\n",
              "      <td>anxiety attack at the movies I took about 50mg...</td>\n",
              "      <td>anxiety</td>\n",
              "      <td>1</td>\n",
              "    </tr>\n",
              "    <tr>\n",
              "      <th>4</th>\n",
              "      <td>Today’s reflections on depression I don’t know...</td>\n",
              "      <td>BPD</td>\n",
              "      <td>2</td>\n",
              "    </tr>\n",
              "  </tbody>\n",
              "</table>\n",
              "</div>\n",
              "      <button class=\"colab-df-convert\" onclick=\"convertToInteractive('df-dfc3acad-a5f5-45d5-8ef9-79ccc545e50a')\"\n",
              "              title=\"Convert this dataframe to an interactive table.\"\n",
              "              style=\"display:none;\">\n",
              "        \n",
              "  <svg xmlns=\"http://www.w3.org/2000/svg\" height=\"24px\"viewBox=\"0 0 24 24\"\n",
              "       width=\"24px\">\n",
              "    <path d=\"M0 0h24v24H0V0z\" fill=\"none\"/>\n",
              "    <path d=\"M18.56 5.44l.94 2.06.94-2.06 2.06-.94-2.06-.94-.94-2.06-.94 2.06-2.06.94zm-11 1L8.5 8.5l.94-2.06 2.06-.94-2.06-.94L8.5 2.5l-.94 2.06-2.06.94zm10 10l.94 2.06.94-2.06 2.06-.94-2.06-.94-.94-2.06-.94 2.06-2.06.94z\"/><path d=\"M17.41 7.96l-1.37-1.37c-.4-.4-.92-.59-1.43-.59-.52 0-1.04.2-1.43.59L10.3 9.45l-7.72 7.72c-.78.78-.78 2.05 0 2.83L4 21.41c.39.39.9.59 1.41.59.51 0 1.02-.2 1.41-.59l7.78-7.78 2.81-2.81c.8-.78.8-2.07 0-2.86zM5.41 20L4 18.59l7.72-7.72 1.47 1.35L5.41 20z\"/>\n",
              "  </svg>\n",
              "      </button>\n",
              "      \n",
              "  <style>\n",
              "    .colab-df-container {\n",
              "      display:flex;\n",
              "      flex-wrap:wrap;\n",
              "      gap: 12px;\n",
              "    }\n",
              "\n",
              "    .colab-df-convert {\n",
              "      background-color: #E8F0FE;\n",
              "      border: none;\n",
              "      border-radius: 50%;\n",
              "      cursor: pointer;\n",
              "      display: none;\n",
              "      fill: #1967D2;\n",
              "      height: 32px;\n",
              "      padding: 0 0 0 0;\n",
              "      width: 32px;\n",
              "    }\n",
              "\n",
              "    .colab-df-convert:hover {\n",
              "      background-color: #E2EBFA;\n",
              "      box-shadow: 0px 1px 2px rgba(60, 64, 67, 0.3), 0px 1px 3px 1px rgba(60, 64, 67, 0.15);\n",
              "      fill: #174EA6;\n",
              "    }\n",
              "\n",
              "    [theme=dark] .colab-df-convert {\n",
              "      background-color: #3B4455;\n",
              "      fill: #D2E3FC;\n",
              "    }\n",
              "\n",
              "    [theme=dark] .colab-df-convert:hover {\n",
              "      background-color: #434B5C;\n",
              "      box-shadow: 0px 1px 3px 1px rgba(0, 0, 0, 0.15);\n",
              "      filter: drop-shadow(0px 1px 2px rgba(0, 0, 0, 0.3));\n",
              "      fill: #FFFFFF;\n",
              "    }\n",
              "  </style>\n",
              "\n",
              "      <script>\n",
              "        const buttonEl =\n",
              "          document.querySelector('#df-dfc3acad-a5f5-45d5-8ef9-79ccc545e50a button.colab-df-convert');\n",
              "        buttonEl.style.display =\n",
              "          google.colab.kernel.accessAllowed ? 'block' : 'none';\n",
              "\n",
              "        async function convertToInteractive(key) {\n",
              "          const element = document.querySelector('#df-dfc3acad-a5f5-45d5-8ef9-79ccc545e50a');\n",
              "          const dataTable =\n",
              "            await google.colab.kernel.invokeFunction('convertToInteractive',\n",
              "                                                     [key], {});\n",
              "          if (!dataTable) return;\n",
              "\n",
              "          const docLinkHtml = 'Like what you see? Visit the ' +\n",
              "            '<a target=\"_blank\" href=https://colab.research.google.com/notebooks/data_table.ipynb>data table notebook</a>'\n",
              "            + ' to learn more about interactive tables.';\n",
              "          element.innerHTML = '';\n",
              "          dataTable['output_type'] = 'display_data';\n",
              "          await google.colab.output.renderOutput(dataTable, element);\n",
              "          const docLink = document.createElement('div');\n",
              "          docLink.innerHTML = docLinkHtml;\n",
              "          element.appendChild(docLink);\n",
              "        }\n",
              "      </script>\n",
              "    </div>\n",
              "  </div>\n",
              "  "
            ]
          },
          "metadata": {},
          "execution_count": 4
        }
      ]
    },
    {
      "cell_type": "code",
      "source": [
        "data.shape"
      ],
      "metadata": {
        "colab": {
          "base_uri": "https://localhost:8080/"
        },
        "id": "1bYoUugrayTq",
        "outputId": "a9c9cb75-b04f-4e96-9f24-2ecc0b0156bd"
      },
      "execution_count": null,
      "outputs": [
        {
          "output_type": "execute_result",
          "data": {
            "text/plain": [
              "(275906, 3)"
            ]
          },
          "metadata": {},
          "execution_count": 5
        }
      ]
    },
    {
      "cell_type": "code",
      "source": [
        "# x = len(data)\n",
        "# x = int((x/100) * 80) # dividing to consider 80% data\n",
        "# print(x)"
      ],
      "metadata": {
        "colab": {
          "base_uri": "https://localhost:8080/"
        },
        "id": "MPTWH3gmhSTv",
        "outputId": "75b20c89-f09e-418f-8c04-7fe5699dbbf4"
      },
      "execution_count": null,
      "outputs": [
        {
          "output_type": "stream",
          "name": "stdout",
          "text": [
            "220724\n"
          ]
        }
      ]
    },
    {
      "cell_type": "code",
      "source": [
        "# data=data.sample(x)"
      ],
      "metadata": {
        "id": "LlGprmiRhS4o"
      },
      "execution_count": null,
      "outputs": []
    },
    {
      "cell_type": "code",
      "source": [
        "data.shape"
      ],
      "metadata": {
        "id": "QcqlvjO2hV14",
        "colab": {
          "base_uri": "https://localhost:8080/"
        },
        "outputId": "261fa20d-52e7-4bea-9a1b-65d98e255ad2"
      },
      "execution_count": null,
      "outputs": [
        {
          "output_type": "execute_result",
          "data": {
            "text/plain": [
              "(275906, 3)"
            ]
          },
          "metadata": {},
          "execution_count": 6
        }
      ]
    },
    {
      "cell_type": "code",
      "source": [
        "data.Category.value_counts()"
      ],
      "metadata": {
        "colab": {
          "base_uri": "https://localhost:8080/"
        },
        "id": "ZZ7ewkUehb1P",
        "outputId": "8a557592-a4a0-495b-92be-e247cc011ede"
      },
      "execution_count": null,
      "outputs": [
        {
          "output_type": "execute_result",
          "data": {
            "text/plain": [
              "anxiety          86132\n",
              "depression       85994\n",
              "bipolar          41052\n",
              "BPD              38137\n",
              "schizophrenia    17459\n",
              "autism            7132\n",
              "Name: Category, dtype: int64"
            ]
          },
          "metadata": {},
          "execution_count": 7
        }
      ]
    },
    {
      "cell_type": "markdown",
      "source": [
        "# Data Preparation"
      ],
      "metadata": {
        "id": "zCTWphZhgwp3"
      }
    },
    {
      "cell_type": "code",
      "source": [
        "data['Subreddit'].replace(['mentalhealth'], ['other'], inplace=True)\n",
        "data['Subreddit'].replace(['Anxiety'], ['anxiety'], inplace=True)"
      ],
      "metadata": {
        "id": "NHIeSBGNa0k0"
      },
      "execution_count": null,
      "outputs": []
    },
    {
      "cell_type": "code",
      "source": [
        "data = data[data.Subreddit != 'other']"
      ],
      "metadata": {
        "id": "vufGGSpM5W0q"
      },
      "execution_count": null,
      "outputs": []
    },
    {
      "cell_type": "code",
      "source": [
        "data['Subreddit'].value_counts()"
      ],
      "metadata": {
        "colab": {
          "base_uri": "https://localhost:8080/"
        },
        "id": "sN4W_wxda2nS",
        "outputId": "b66d8a45-79c8-4384-9522-72a104285fcd"
      },
      "execution_count": null,
      "outputs": [
        {
          "output_type": "execute_result",
          "data": {
            "text/plain": [
              "depression       258496\n",
              "anxiety           86243\n",
              "bipolar           41493\n",
              "BPD               38216\n",
              "schizophrenia     17506\n",
              "autism             7142\n",
              "Name: Subreddit, dtype: int64"
            ]
          },
          "metadata": {},
          "execution_count": 8
        }
      ]
    },
    {
      "cell_type": "code",
      "source": [
        "#merge data columns and rename the final column\n",
        "data[\"Title\"] = data[\"Title\"] + \" \" + data[\"Text\"]\n",
        "data.drop('Text', inplace=True, axis=1)\n",
        "data.rename(columns={\"Title\": \"Content\"}, inplace=True)\n",
        "data.rename(columns={\"Subreddit\": \"Category\"}, inplace=True)\n",
        "data = data[['Content', 'Category']]\n",
        "data.head()"
      ],
      "metadata": {
        "colab": {
          "base_uri": "https://localhost:8080/",
          "height": 206
        },
        "id": "0uqTCCtSa4RK",
        "outputId": "1bfb2c4d-fe4f-4e71-d42d-7f707aad94c5"
      },
      "execution_count": null,
      "outputs": [
        {
          "output_type": "execute_result",
          "data": {
            "text/plain": [
              "                                             Content Category\n",
              "0  exposure does not work! I have struggled with ...  anxiety\n",
              "1  Panic attack? derealization? can't go to docto...  anxiety\n",
              "2  How long can a panic attack last?! I've been w...  anxiety\n",
              "3  Stepping stones First time poster, long time l...  anxiety\n",
              "4  Coping with anxiety over climate change, on th...  anxiety"
            ],
            "text/html": [
              "\n",
              "  <div id=\"df-8ff33c98-cef1-4a9c-be74-b783bbf4158f\">\n",
              "    <div class=\"colab-df-container\">\n",
              "      <div>\n",
              "<style scoped>\n",
              "    .dataframe tbody tr th:only-of-type {\n",
              "        vertical-align: middle;\n",
              "    }\n",
              "\n",
              "    .dataframe tbody tr th {\n",
              "        vertical-align: top;\n",
              "    }\n",
              "\n",
              "    .dataframe thead th {\n",
              "        text-align: right;\n",
              "    }\n",
              "</style>\n",
              "<table border=\"1\" class=\"dataframe\">\n",
              "  <thead>\n",
              "    <tr style=\"text-align: right;\">\n",
              "      <th></th>\n",
              "      <th>Content</th>\n",
              "      <th>Category</th>\n",
              "    </tr>\n",
              "  </thead>\n",
              "  <tbody>\n",
              "    <tr>\n",
              "      <th>0</th>\n",
              "      <td>exposure does not work! I have struggled with ...</td>\n",
              "      <td>anxiety</td>\n",
              "    </tr>\n",
              "    <tr>\n",
              "      <th>1</th>\n",
              "      <td>Panic attack? derealization? can't go to docto...</td>\n",
              "      <td>anxiety</td>\n",
              "    </tr>\n",
              "    <tr>\n",
              "      <th>2</th>\n",
              "      <td>How long can a panic attack last?! I've been w...</td>\n",
              "      <td>anxiety</td>\n",
              "    </tr>\n",
              "    <tr>\n",
              "      <th>3</th>\n",
              "      <td>Stepping stones First time poster, long time l...</td>\n",
              "      <td>anxiety</td>\n",
              "    </tr>\n",
              "    <tr>\n",
              "      <th>4</th>\n",
              "      <td>Coping with anxiety over climate change, on th...</td>\n",
              "      <td>anxiety</td>\n",
              "    </tr>\n",
              "  </tbody>\n",
              "</table>\n",
              "</div>\n",
              "      <button class=\"colab-df-convert\" onclick=\"convertToInteractive('df-8ff33c98-cef1-4a9c-be74-b783bbf4158f')\"\n",
              "              title=\"Convert this dataframe to an interactive table.\"\n",
              "              style=\"display:none;\">\n",
              "        \n",
              "  <svg xmlns=\"http://www.w3.org/2000/svg\" height=\"24px\"viewBox=\"0 0 24 24\"\n",
              "       width=\"24px\">\n",
              "    <path d=\"M0 0h24v24H0V0z\" fill=\"none\"/>\n",
              "    <path d=\"M18.56 5.44l.94 2.06.94-2.06 2.06-.94-2.06-.94-.94-2.06-.94 2.06-2.06.94zm-11 1L8.5 8.5l.94-2.06 2.06-.94-2.06-.94L8.5 2.5l-.94 2.06-2.06.94zm10 10l.94 2.06.94-2.06 2.06-.94-2.06-.94-.94-2.06-.94 2.06-2.06.94z\"/><path d=\"M17.41 7.96l-1.37-1.37c-.4-.4-.92-.59-1.43-.59-.52 0-1.04.2-1.43.59L10.3 9.45l-7.72 7.72c-.78.78-.78 2.05 0 2.83L4 21.41c.39.39.9.59 1.41.59.51 0 1.02-.2 1.41-.59l7.78-7.78 2.81-2.81c.8-.78.8-2.07 0-2.86zM5.41 20L4 18.59l7.72-7.72 1.47 1.35L5.41 20z\"/>\n",
              "  </svg>\n",
              "      </button>\n",
              "      \n",
              "  <style>\n",
              "    .colab-df-container {\n",
              "      display:flex;\n",
              "      flex-wrap:wrap;\n",
              "      gap: 12px;\n",
              "    }\n",
              "\n",
              "    .colab-df-convert {\n",
              "      background-color: #E8F0FE;\n",
              "      border: none;\n",
              "      border-radius: 50%;\n",
              "      cursor: pointer;\n",
              "      display: none;\n",
              "      fill: #1967D2;\n",
              "      height: 32px;\n",
              "      padding: 0 0 0 0;\n",
              "      width: 32px;\n",
              "    }\n",
              "\n",
              "    .colab-df-convert:hover {\n",
              "      background-color: #E2EBFA;\n",
              "      box-shadow: 0px 1px 2px rgba(60, 64, 67, 0.3), 0px 1px 3px 1px rgba(60, 64, 67, 0.15);\n",
              "      fill: #174EA6;\n",
              "    }\n",
              "\n",
              "    [theme=dark] .colab-df-convert {\n",
              "      background-color: #3B4455;\n",
              "      fill: #D2E3FC;\n",
              "    }\n",
              "\n",
              "    [theme=dark] .colab-df-convert:hover {\n",
              "      background-color: #434B5C;\n",
              "      box-shadow: 0px 1px 3px 1px rgba(0, 0, 0, 0.15);\n",
              "      filter: drop-shadow(0px 1px 2px rgba(0, 0, 0, 0.3));\n",
              "      fill: #FFFFFF;\n",
              "    }\n",
              "  </style>\n",
              "\n",
              "      <script>\n",
              "        const buttonEl =\n",
              "          document.querySelector('#df-8ff33c98-cef1-4a9c-be74-b783bbf4158f button.colab-df-convert');\n",
              "        buttonEl.style.display =\n",
              "          google.colab.kernel.accessAllowed ? 'block' : 'none';\n",
              "\n",
              "        async function convertToInteractive(key) {\n",
              "          const element = document.querySelector('#df-8ff33c98-cef1-4a9c-be74-b783bbf4158f');\n",
              "          const dataTable =\n",
              "            await google.colab.kernel.invokeFunction('convertToInteractive',\n",
              "                                                     [key], {});\n",
              "          if (!dataTable) return;\n",
              "\n",
              "          const docLinkHtml = 'Like what you see? Visit the ' +\n",
              "            '<a target=\"_blank\" href=https://colab.research.google.com/notebooks/data_table.ipynb>data table notebook</a>'\n",
              "            + ' to learn more about interactive tables.';\n",
              "          element.innerHTML = '';\n",
              "          dataTable['output_type'] = 'display_data';\n",
              "          await google.colab.output.renderOutput(dataTable, element);\n",
              "          const docLink = document.createElement('div');\n",
              "          docLink.innerHTML = docLinkHtml;\n",
              "          element.appendChild(docLink);\n",
              "        }\n",
              "      </script>\n",
              "    </div>\n",
              "  </div>\n",
              "  "
            ]
          },
          "metadata": {},
          "execution_count": 9
        }
      ]
    },
    {
      "cell_type": "code",
      "source": [
        "data['Category'].value_counts()"
      ],
      "metadata": {
        "colab": {
          "base_uri": "https://localhost:8080/"
        },
        "id": "io9jIQHwa6T6",
        "outputId": "dd7d2b27-4fde-45bb-fa23-6b18e5972a6f"
      },
      "execution_count": null,
      "outputs": [
        {
          "output_type": "execute_result",
          "data": {
            "text/plain": [
              "depression       258496\n",
              "anxiety           86243\n",
              "bipolar           41493\n",
              "BPD               38216\n",
              "schizophrenia     17506\n",
              "autism             7142\n",
              "Name: Category, dtype: int64"
            ]
          },
          "metadata": {},
          "execution_count": 10
        }
      ]
    },
    {
      "cell_type": "code",
      "source": [
        "data.head(10)"
      ],
      "metadata": {
        "colab": {
          "base_uri": "https://localhost:8080/",
          "height": 363
        },
        "id": "4UUZ1Pkja9N8",
        "outputId": "38c27972-5c07-4a5e-c273-d027ab44d7ff"
      },
      "execution_count": null,
      "outputs": [
        {
          "output_type": "execute_result",
          "data": {
            "text/plain": [
              "                                             Content Category\n",
              "0  exposure does not work! I have struggled with ...  anxiety\n",
              "1  Panic attack? derealization? can't go to docto...  anxiety\n",
              "2  How long can a panic attack last?! I've been w...  anxiety\n",
              "3  Stepping stones First time poster, long time l...  anxiety\n",
              "4  Coping with anxiety over climate change, on th...  anxiety\n",
              "5  I don't even know what I'm looking for by post...  anxiety\n",
              "6  Literally numb, not sure what to do. I'm (21, ...  anxiety\n",
              "7  Lifetime anxiety 47M\\n\\nI've been anxious for ...  anxiety\n",
              "8  went and saw the fireworks alone and finally f...  anxiety\n",
              "9  Social anxiety help for NYE - I don't know any...  anxiety"
            ],
            "text/html": [
              "\n",
              "  <div id=\"df-02a5a966-9bfa-486e-ad5f-1ff4c43f684b\">\n",
              "    <div class=\"colab-df-container\">\n",
              "      <div>\n",
              "<style scoped>\n",
              "    .dataframe tbody tr th:only-of-type {\n",
              "        vertical-align: middle;\n",
              "    }\n",
              "\n",
              "    .dataframe tbody tr th {\n",
              "        vertical-align: top;\n",
              "    }\n",
              "\n",
              "    .dataframe thead th {\n",
              "        text-align: right;\n",
              "    }\n",
              "</style>\n",
              "<table border=\"1\" class=\"dataframe\">\n",
              "  <thead>\n",
              "    <tr style=\"text-align: right;\">\n",
              "      <th></th>\n",
              "      <th>Content</th>\n",
              "      <th>Category</th>\n",
              "    </tr>\n",
              "  </thead>\n",
              "  <tbody>\n",
              "    <tr>\n",
              "      <th>0</th>\n",
              "      <td>exposure does not work! I have struggled with ...</td>\n",
              "      <td>anxiety</td>\n",
              "    </tr>\n",
              "    <tr>\n",
              "      <th>1</th>\n",
              "      <td>Panic attack? derealization? can't go to docto...</td>\n",
              "      <td>anxiety</td>\n",
              "    </tr>\n",
              "    <tr>\n",
              "      <th>2</th>\n",
              "      <td>How long can a panic attack last?! I've been w...</td>\n",
              "      <td>anxiety</td>\n",
              "    </tr>\n",
              "    <tr>\n",
              "      <th>3</th>\n",
              "      <td>Stepping stones First time poster, long time l...</td>\n",
              "      <td>anxiety</td>\n",
              "    </tr>\n",
              "    <tr>\n",
              "      <th>4</th>\n",
              "      <td>Coping with anxiety over climate change, on th...</td>\n",
              "      <td>anxiety</td>\n",
              "    </tr>\n",
              "    <tr>\n",
              "      <th>5</th>\n",
              "      <td>I don't even know what I'm looking for by post...</td>\n",
              "      <td>anxiety</td>\n",
              "    </tr>\n",
              "    <tr>\n",
              "      <th>6</th>\n",
              "      <td>Literally numb, not sure what to do. I'm (21, ...</td>\n",
              "      <td>anxiety</td>\n",
              "    </tr>\n",
              "    <tr>\n",
              "      <th>7</th>\n",
              "      <td>Lifetime anxiety 47M\\n\\nI've been anxious for ...</td>\n",
              "      <td>anxiety</td>\n",
              "    </tr>\n",
              "    <tr>\n",
              "      <th>8</th>\n",
              "      <td>went and saw the fireworks alone and finally f...</td>\n",
              "      <td>anxiety</td>\n",
              "    </tr>\n",
              "    <tr>\n",
              "      <th>9</th>\n",
              "      <td>Social anxiety help for NYE - I don't know any...</td>\n",
              "      <td>anxiety</td>\n",
              "    </tr>\n",
              "  </tbody>\n",
              "</table>\n",
              "</div>\n",
              "      <button class=\"colab-df-convert\" onclick=\"convertToInteractive('df-02a5a966-9bfa-486e-ad5f-1ff4c43f684b')\"\n",
              "              title=\"Convert this dataframe to an interactive table.\"\n",
              "              style=\"display:none;\">\n",
              "        \n",
              "  <svg xmlns=\"http://www.w3.org/2000/svg\" height=\"24px\"viewBox=\"0 0 24 24\"\n",
              "       width=\"24px\">\n",
              "    <path d=\"M0 0h24v24H0V0z\" fill=\"none\"/>\n",
              "    <path d=\"M18.56 5.44l.94 2.06.94-2.06 2.06-.94-2.06-.94-.94-2.06-.94 2.06-2.06.94zm-11 1L8.5 8.5l.94-2.06 2.06-.94-2.06-.94L8.5 2.5l-.94 2.06-2.06.94zm10 10l.94 2.06.94-2.06 2.06-.94-2.06-.94-.94-2.06-.94 2.06-2.06.94z\"/><path d=\"M17.41 7.96l-1.37-1.37c-.4-.4-.92-.59-1.43-.59-.52 0-1.04.2-1.43.59L10.3 9.45l-7.72 7.72c-.78.78-.78 2.05 0 2.83L4 21.41c.39.39.9.59 1.41.59.51 0 1.02-.2 1.41-.59l7.78-7.78 2.81-2.81c.8-.78.8-2.07 0-2.86zM5.41 20L4 18.59l7.72-7.72 1.47 1.35L5.41 20z\"/>\n",
              "  </svg>\n",
              "      </button>\n",
              "      \n",
              "  <style>\n",
              "    .colab-df-container {\n",
              "      display:flex;\n",
              "      flex-wrap:wrap;\n",
              "      gap: 12px;\n",
              "    }\n",
              "\n",
              "    .colab-df-convert {\n",
              "      background-color: #E8F0FE;\n",
              "      border: none;\n",
              "      border-radius: 50%;\n",
              "      cursor: pointer;\n",
              "      display: none;\n",
              "      fill: #1967D2;\n",
              "      height: 32px;\n",
              "      padding: 0 0 0 0;\n",
              "      width: 32px;\n",
              "    }\n",
              "\n",
              "    .colab-df-convert:hover {\n",
              "      background-color: #E2EBFA;\n",
              "      box-shadow: 0px 1px 2px rgba(60, 64, 67, 0.3), 0px 1px 3px 1px rgba(60, 64, 67, 0.15);\n",
              "      fill: #174EA6;\n",
              "    }\n",
              "\n",
              "    [theme=dark] .colab-df-convert {\n",
              "      background-color: #3B4455;\n",
              "      fill: #D2E3FC;\n",
              "    }\n",
              "\n",
              "    [theme=dark] .colab-df-convert:hover {\n",
              "      background-color: #434B5C;\n",
              "      box-shadow: 0px 1px 3px 1px rgba(0, 0, 0, 0.15);\n",
              "      filter: drop-shadow(0px 1px 2px rgba(0, 0, 0, 0.3));\n",
              "      fill: #FFFFFF;\n",
              "    }\n",
              "  </style>\n",
              "\n",
              "      <script>\n",
              "        const buttonEl =\n",
              "          document.querySelector('#df-02a5a966-9bfa-486e-ad5f-1ff4c43f684b button.colab-df-convert');\n",
              "        buttonEl.style.display =\n",
              "          google.colab.kernel.accessAllowed ? 'block' : 'none';\n",
              "\n",
              "        async function convertToInteractive(key) {\n",
              "          const element = document.querySelector('#df-02a5a966-9bfa-486e-ad5f-1ff4c43f684b');\n",
              "          const dataTable =\n",
              "            await google.colab.kernel.invokeFunction('convertToInteractive',\n",
              "                                                     [key], {});\n",
              "          if (!dataTable) return;\n",
              "\n",
              "          const docLinkHtml = 'Like what you see? Visit the ' +\n",
              "            '<a target=\"_blank\" href=https://colab.research.google.com/notebooks/data_table.ipynb>data table notebook</a>'\n",
              "            + ' to learn more about interactive tables.';\n",
              "          element.innerHTML = '';\n",
              "          dataTable['output_type'] = 'display_data';\n",
              "          await google.colab.output.renderOutput(dataTable, element);\n",
              "          const docLink = document.createElement('div');\n",
              "          docLink.innerHTML = docLinkHtml;\n",
              "          element.appendChild(docLink);\n",
              "        }\n",
              "      </script>\n",
              "    </div>\n",
              "  </div>\n",
              "  "
            ]
          },
          "metadata": {},
          "execution_count": 11
        }
      ]
    },
    {
      "cell_type": "code",
      "source": [
        "data = data.dropna()\n",
        "data.shape"
      ],
      "metadata": {
        "colab": {
          "base_uri": "https://localhost:8080/"
        },
        "id": "8DshKrLfa_Qc",
        "outputId": "ac3a3651-e1d9-403f-9e92-9a32f77609a7"
      },
      "execution_count": null,
      "outputs": [
        {
          "output_type": "execute_result",
          "data": {
            "text/plain": [
              "(449095, 2)"
            ]
          },
          "metadata": {},
          "execution_count": 12
        }
      ]
    },
    {
      "cell_type": "code",
      "source": [
        "data.Content.duplicated(keep=\"first\").value_counts()"
      ],
      "metadata": {
        "colab": {
          "base_uri": "https://localhost:8080/"
        },
        "id": "thVcnA0qbBEy",
        "outputId": "1d99cf85-beb6-4d99-a4a3-9519f4850da3"
      },
      "execution_count": null,
      "outputs": [
        {
          "output_type": "execute_result",
          "data": {
            "text/plain": [
              "False    447894\n",
              "True       1201\n",
              "Name: Content, dtype: int64"
            ]
          },
          "metadata": {},
          "execution_count": 13
        }
      ]
    },
    {
      "cell_type": "code",
      "source": [
        "data.drop_duplicates(subset=\"Content\",keep=\"first\",inplace=True,ignore_index=True)\n",
        "data.shape"
      ],
      "metadata": {
        "colab": {
          "base_uri": "https://localhost:8080/"
        },
        "id": "briV6wmwbC1E",
        "outputId": "eac84f59-d7ca-4266-ecb5-4619a6553d35"
      },
      "execution_count": null,
      "outputs": [
        {
          "output_type": "execute_result",
          "data": {
            "text/plain": [
              "(447894, 2)"
            ]
          },
          "metadata": {},
          "execution_count": 14
        }
      ]
    },
    {
      "cell_type": "code",
      "source": [
        "data['Category'].value_counts()"
      ],
      "metadata": {
        "colab": {
          "base_uri": "https://localhost:8080/"
        },
        "id": "mStEvpoUbETw",
        "outputId": "b5d89cd9-35b9-47b3-c170-278da958f820"
      },
      "execution_count": null,
      "outputs": [
        {
          "output_type": "execute_result",
          "data": {
            "text/plain": [
              "anxiety          86132\n",
              "depression       85994\n",
              "bipolar          41052\n",
              "BPD              38137\n",
              "schizophrenia    17459\n",
              "autism            7132\n",
              "Name: Category, dtype: int64"
            ]
          },
          "metadata": {},
          "execution_count": 6
        }
      ]
    },
    {
      "cell_type": "code",
      "source": [
        "data.head(15)"
      ],
      "metadata": {
        "id": "ldHo345ifgMt",
        "colab": {
          "base_uri": "https://localhost:8080/",
          "height": 520
        },
        "outputId": "39856c8a-9b8b-47d1-9bff-5882f11c0d48"
      },
      "execution_count": null,
      "outputs": [
        {
          "output_type": "execute_result",
          "data": {
            "text/plain": [
              "                                              Content Category\n",
              "0   exposure does not work! I have struggled with ...  anxiety\n",
              "1   Panic attack? derealization? can't go to docto...  anxiety\n",
              "2   How long can a panic attack last?! I've been w...  anxiety\n",
              "3   Stepping stones First time poster, long time l...  anxiety\n",
              "4   Coping with anxiety over climate change, on th...  anxiety\n",
              "5   I don't even know what I'm looking for by post...  anxiety\n",
              "6   Literally numb, not sure what to do. I'm (21, ...  anxiety\n",
              "7   Lifetime anxiety 47M\\n\\nI've been anxious for ...  anxiety\n",
              "8   went and saw the fireworks alone and finally f...  anxiety\n",
              "9   Social anxiety help for NYE - I don't know any...  anxiety\n",
              "10  Difficulty relaxing Does anyone else find that...  anxiety\n",
              "11  I wanna change but it's hard Hi guys! First of...  anxiety\n",
              "12  How to deal with Chest pain / tightness ? Is t...  anxiety\n",
              "13  i feel like a fraud I signed up for a tutoring...  anxiety\n",
              "14  I feel that I will never be free I have had an...  anxiety"
            ],
            "text/html": [
              "\n",
              "  <div id=\"df-4a346c21-4dc8-4206-8dc4-6bf6ff722364\">\n",
              "    <div class=\"colab-df-container\">\n",
              "      <div>\n",
              "<style scoped>\n",
              "    .dataframe tbody tr th:only-of-type {\n",
              "        vertical-align: middle;\n",
              "    }\n",
              "\n",
              "    .dataframe tbody tr th {\n",
              "        vertical-align: top;\n",
              "    }\n",
              "\n",
              "    .dataframe thead th {\n",
              "        text-align: right;\n",
              "    }\n",
              "</style>\n",
              "<table border=\"1\" class=\"dataframe\">\n",
              "  <thead>\n",
              "    <tr style=\"text-align: right;\">\n",
              "      <th></th>\n",
              "      <th>Content</th>\n",
              "      <th>Category</th>\n",
              "    </tr>\n",
              "  </thead>\n",
              "  <tbody>\n",
              "    <tr>\n",
              "      <th>0</th>\n",
              "      <td>exposure does not work! I have struggled with ...</td>\n",
              "      <td>anxiety</td>\n",
              "    </tr>\n",
              "    <tr>\n",
              "      <th>1</th>\n",
              "      <td>Panic attack? derealization? can't go to docto...</td>\n",
              "      <td>anxiety</td>\n",
              "    </tr>\n",
              "    <tr>\n",
              "      <th>2</th>\n",
              "      <td>How long can a panic attack last?! I've been w...</td>\n",
              "      <td>anxiety</td>\n",
              "    </tr>\n",
              "    <tr>\n",
              "      <th>3</th>\n",
              "      <td>Stepping stones First time poster, long time l...</td>\n",
              "      <td>anxiety</td>\n",
              "    </tr>\n",
              "    <tr>\n",
              "      <th>4</th>\n",
              "      <td>Coping with anxiety over climate change, on th...</td>\n",
              "      <td>anxiety</td>\n",
              "    </tr>\n",
              "    <tr>\n",
              "      <th>5</th>\n",
              "      <td>I don't even know what I'm looking for by post...</td>\n",
              "      <td>anxiety</td>\n",
              "    </tr>\n",
              "    <tr>\n",
              "      <th>6</th>\n",
              "      <td>Literally numb, not sure what to do. I'm (21, ...</td>\n",
              "      <td>anxiety</td>\n",
              "    </tr>\n",
              "    <tr>\n",
              "      <th>7</th>\n",
              "      <td>Lifetime anxiety 47M\\n\\nI've been anxious for ...</td>\n",
              "      <td>anxiety</td>\n",
              "    </tr>\n",
              "    <tr>\n",
              "      <th>8</th>\n",
              "      <td>went and saw the fireworks alone and finally f...</td>\n",
              "      <td>anxiety</td>\n",
              "    </tr>\n",
              "    <tr>\n",
              "      <th>9</th>\n",
              "      <td>Social anxiety help for NYE - I don't know any...</td>\n",
              "      <td>anxiety</td>\n",
              "    </tr>\n",
              "    <tr>\n",
              "      <th>10</th>\n",
              "      <td>Difficulty relaxing Does anyone else find that...</td>\n",
              "      <td>anxiety</td>\n",
              "    </tr>\n",
              "    <tr>\n",
              "      <th>11</th>\n",
              "      <td>I wanna change but it's hard Hi guys! First of...</td>\n",
              "      <td>anxiety</td>\n",
              "    </tr>\n",
              "    <tr>\n",
              "      <th>12</th>\n",
              "      <td>How to deal with Chest pain / tightness ? Is t...</td>\n",
              "      <td>anxiety</td>\n",
              "    </tr>\n",
              "    <tr>\n",
              "      <th>13</th>\n",
              "      <td>i feel like a fraud I signed up for a tutoring...</td>\n",
              "      <td>anxiety</td>\n",
              "    </tr>\n",
              "    <tr>\n",
              "      <th>14</th>\n",
              "      <td>I feel that I will never be free I have had an...</td>\n",
              "      <td>anxiety</td>\n",
              "    </tr>\n",
              "  </tbody>\n",
              "</table>\n",
              "</div>\n",
              "      <button class=\"colab-df-convert\" onclick=\"convertToInteractive('df-4a346c21-4dc8-4206-8dc4-6bf6ff722364')\"\n",
              "              title=\"Convert this dataframe to an interactive table.\"\n",
              "              style=\"display:none;\">\n",
              "        \n",
              "  <svg xmlns=\"http://www.w3.org/2000/svg\" height=\"24px\"viewBox=\"0 0 24 24\"\n",
              "       width=\"24px\">\n",
              "    <path d=\"M0 0h24v24H0V0z\" fill=\"none\"/>\n",
              "    <path d=\"M18.56 5.44l.94 2.06.94-2.06 2.06-.94-2.06-.94-.94-2.06-.94 2.06-2.06.94zm-11 1L8.5 8.5l.94-2.06 2.06-.94-2.06-.94L8.5 2.5l-.94 2.06-2.06.94zm10 10l.94 2.06.94-2.06 2.06-.94-2.06-.94-.94-2.06-.94 2.06-2.06.94z\"/><path d=\"M17.41 7.96l-1.37-1.37c-.4-.4-.92-.59-1.43-.59-.52 0-1.04.2-1.43.59L10.3 9.45l-7.72 7.72c-.78.78-.78 2.05 0 2.83L4 21.41c.39.39.9.59 1.41.59.51 0 1.02-.2 1.41-.59l7.78-7.78 2.81-2.81c.8-.78.8-2.07 0-2.86zM5.41 20L4 18.59l7.72-7.72 1.47 1.35L5.41 20z\"/>\n",
              "  </svg>\n",
              "      </button>\n",
              "      \n",
              "  <style>\n",
              "    .colab-df-container {\n",
              "      display:flex;\n",
              "      flex-wrap:wrap;\n",
              "      gap: 12px;\n",
              "    }\n",
              "\n",
              "    .colab-df-convert {\n",
              "      background-color: #E8F0FE;\n",
              "      border: none;\n",
              "      border-radius: 50%;\n",
              "      cursor: pointer;\n",
              "      display: none;\n",
              "      fill: #1967D2;\n",
              "      height: 32px;\n",
              "      padding: 0 0 0 0;\n",
              "      width: 32px;\n",
              "    }\n",
              "\n",
              "    .colab-df-convert:hover {\n",
              "      background-color: #E2EBFA;\n",
              "      box-shadow: 0px 1px 2px rgba(60, 64, 67, 0.3), 0px 1px 3px 1px rgba(60, 64, 67, 0.15);\n",
              "      fill: #174EA6;\n",
              "    }\n",
              "\n",
              "    [theme=dark] .colab-df-convert {\n",
              "      background-color: #3B4455;\n",
              "      fill: #D2E3FC;\n",
              "    }\n",
              "\n",
              "    [theme=dark] .colab-df-convert:hover {\n",
              "      background-color: #434B5C;\n",
              "      box-shadow: 0px 1px 3px 1px rgba(0, 0, 0, 0.15);\n",
              "      filter: drop-shadow(0px 1px 2px rgba(0, 0, 0, 0.3));\n",
              "      fill: #FFFFFF;\n",
              "    }\n",
              "  </style>\n",
              "\n",
              "      <script>\n",
              "        const buttonEl =\n",
              "          document.querySelector('#df-4a346c21-4dc8-4206-8dc4-6bf6ff722364 button.colab-df-convert');\n",
              "        buttonEl.style.display =\n",
              "          google.colab.kernel.accessAllowed ? 'block' : 'none';\n",
              "\n",
              "        async function convertToInteractive(key) {\n",
              "          const element = document.querySelector('#df-4a346c21-4dc8-4206-8dc4-6bf6ff722364');\n",
              "          const dataTable =\n",
              "            await google.colab.kernel.invokeFunction('convertToInteractive',\n",
              "                                                     [key], {});\n",
              "          if (!dataTable) return;\n",
              "\n",
              "          const docLinkHtml = 'Like what you see? Visit the ' +\n",
              "            '<a target=\"_blank\" href=https://colab.research.google.com/notebooks/data_table.ipynb>data table notebook</a>'\n",
              "            + ' to learn more about interactive tables.';\n",
              "          element.innerHTML = '';\n",
              "          dataTable['output_type'] = 'display_data';\n",
              "          await google.colab.output.renderOutput(dataTable, element);\n",
              "          const docLink = document.createElement('div');\n",
              "          docLink.innerHTML = docLinkHtml;\n",
              "          element.appendChild(docLink);\n",
              "        }\n",
              "      </script>\n",
              "    </div>\n",
              "  </div>\n",
              "  "
            ]
          },
          "metadata": {},
          "execution_count": 16
        }
      ]
    },
    {
      "cell_type": "code",
      "source": [
        "data.Category.value_counts()"
      ],
      "metadata": {
        "id": "aezACr9nfqq9",
        "colab": {
          "base_uri": "https://localhost:8080/"
        },
        "outputId": "d977952c-f2c2-489a-eb22-e3879f558dd6"
      },
      "execution_count": null,
      "outputs": [
        {
          "output_type": "execute_result",
          "data": {
            "text/plain": [
              "anxiety          86132\n",
              "depression       85994\n",
              "bipolar          41052\n",
              "BPD              38137\n",
              "schizophrenia    17459\n",
              "autism            7132\n",
              "Name: Category, dtype: int64"
            ]
          },
          "metadata": {},
          "execution_count": 7
        }
      ]
    },
    {
      "cell_type": "markdown",
      "source": [
        "# Scaling down data"
      ],
      "metadata": {
        "id": "QO4I_qbXxEug"
      }
    },
    {
      "cell_type": "code",
      "source": [
        "temp_data = data[data.Category == 'depression']\n",
        "temp_data.sample(15)"
      ],
      "metadata": {
        "colab": {
          "base_uri": "https://localhost:8080/",
          "height": 520
        },
        "id": "74syH0fJxLuf",
        "outputId": "3d369e69-8b51-4500-b7c8-5a38f0164a2e"
      },
      "execution_count": null,
      "outputs": [
        {
          "output_type": "execute_result",
          "data": {
            "text/plain": [
              "                                                  Content    Category\n",
              "182909  I just want a father I'm safe now but when I w...  depression\n",
              "151550  Tired of school, feel like a failure, and just...  depression\n",
              "279634  Playing doctor. Has anyone bypassed the doctor...  depression\n",
              "334947  life insurance question i think tonight on the...  depression\n",
              "167290  Told my boyfriend about my depression Just som...  depression\n",
              "210842  Some of my thoughts on various subjects. Opini...  depression\n",
              "137467  What's the point? Really though, life is meani...  depression\n",
              "205151  I just had a major panic attack And I had nobo...  depression\n",
              "273268  I don't know how everyone does it How do you a...  depression\n",
              "247966  I watched coco today It just reminded me of ho...  depression\n",
              "377195  Not suicidal but have no interest in being ali...  depression\n",
              "206353  I can't escape I feel I've gotten to the point...  depression\n",
              "284766  Anyone else not working? Came back from travel...  depression\n",
              "178321  Why don't I want myself to get better? I'm not...  depression\n",
              "294044  Why I'm stressed out... a lot / another backst...  depression"
            ],
            "text/html": [
              "\n",
              "  <div id=\"df-6682a652-db2e-4cd2-b0a0-3d589725a0f2\">\n",
              "    <div class=\"colab-df-container\">\n",
              "      <div>\n",
              "<style scoped>\n",
              "    .dataframe tbody tr th:only-of-type {\n",
              "        vertical-align: middle;\n",
              "    }\n",
              "\n",
              "    .dataframe tbody tr th {\n",
              "        vertical-align: top;\n",
              "    }\n",
              "\n",
              "    .dataframe thead th {\n",
              "        text-align: right;\n",
              "    }\n",
              "</style>\n",
              "<table border=\"1\" class=\"dataframe\">\n",
              "  <thead>\n",
              "    <tr style=\"text-align: right;\">\n",
              "      <th></th>\n",
              "      <th>Content</th>\n",
              "      <th>Category</th>\n",
              "    </tr>\n",
              "  </thead>\n",
              "  <tbody>\n",
              "    <tr>\n",
              "      <th>182909</th>\n",
              "      <td>I just want a father I'm safe now but when I w...</td>\n",
              "      <td>depression</td>\n",
              "    </tr>\n",
              "    <tr>\n",
              "      <th>151550</th>\n",
              "      <td>Tired of school, feel like a failure, and just...</td>\n",
              "      <td>depression</td>\n",
              "    </tr>\n",
              "    <tr>\n",
              "      <th>279634</th>\n",
              "      <td>Playing doctor. Has anyone bypassed the doctor...</td>\n",
              "      <td>depression</td>\n",
              "    </tr>\n",
              "    <tr>\n",
              "      <th>334947</th>\n",
              "      <td>life insurance question i think tonight on the...</td>\n",
              "      <td>depression</td>\n",
              "    </tr>\n",
              "    <tr>\n",
              "      <th>167290</th>\n",
              "      <td>Told my boyfriend about my depression Just som...</td>\n",
              "      <td>depression</td>\n",
              "    </tr>\n",
              "    <tr>\n",
              "      <th>210842</th>\n",
              "      <td>Some of my thoughts on various subjects. Opini...</td>\n",
              "      <td>depression</td>\n",
              "    </tr>\n",
              "    <tr>\n",
              "      <th>137467</th>\n",
              "      <td>What's the point? Really though, life is meani...</td>\n",
              "      <td>depression</td>\n",
              "    </tr>\n",
              "    <tr>\n",
              "      <th>205151</th>\n",
              "      <td>I just had a major panic attack And I had nobo...</td>\n",
              "      <td>depression</td>\n",
              "    </tr>\n",
              "    <tr>\n",
              "      <th>273268</th>\n",
              "      <td>I don't know how everyone does it How do you a...</td>\n",
              "      <td>depression</td>\n",
              "    </tr>\n",
              "    <tr>\n",
              "      <th>247966</th>\n",
              "      <td>I watched coco today It just reminded me of ho...</td>\n",
              "      <td>depression</td>\n",
              "    </tr>\n",
              "    <tr>\n",
              "      <th>377195</th>\n",
              "      <td>Not suicidal but have no interest in being ali...</td>\n",
              "      <td>depression</td>\n",
              "    </tr>\n",
              "    <tr>\n",
              "      <th>206353</th>\n",
              "      <td>I can't escape I feel I've gotten to the point...</td>\n",
              "      <td>depression</td>\n",
              "    </tr>\n",
              "    <tr>\n",
              "      <th>284766</th>\n",
              "      <td>Anyone else not working? Came back from travel...</td>\n",
              "      <td>depression</td>\n",
              "    </tr>\n",
              "    <tr>\n",
              "      <th>178321</th>\n",
              "      <td>Why don't I want myself to get better? I'm not...</td>\n",
              "      <td>depression</td>\n",
              "    </tr>\n",
              "    <tr>\n",
              "      <th>294044</th>\n",
              "      <td>Why I'm stressed out... a lot / another backst...</td>\n",
              "      <td>depression</td>\n",
              "    </tr>\n",
              "  </tbody>\n",
              "</table>\n",
              "</div>\n",
              "      <button class=\"colab-df-convert\" onclick=\"convertToInteractive('df-6682a652-db2e-4cd2-b0a0-3d589725a0f2')\"\n",
              "              title=\"Convert this dataframe to an interactive table.\"\n",
              "              style=\"display:none;\">\n",
              "        \n",
              "  <svg xmlns=\"http://www.w3.org/2000/svg\" height=\"24px\"viewBox=\"0 0 24 24\"\n",
              "       width=\"24px\">\n",
              "    <path d=\"M0 0h24v24H0V0z\" fill=\"none\"/>\n",
              "    <path d=\"M18.56 5.44l.94 2.06.94-2.06 2.06-.94-2.06-.94-.94-2.06-.94 2.06-2.06.94zm-11 1L8.5 8.5l.94-2.06 2.06-.94-2.06-.94L8.5 2.5l-.94 2.06-2.06.94zm10 10l.94 2.06.94-2.06 2.06-.94-2.06-.94-.94-2.06-.94 2.06-2.06.94z\"/><path d=\"M17.41 7.96l-1.37-1.37c-.4-.4-.92-.59-1.43-.59-.52 0-1.04.2-1.43.59L10.3 9.45l-7.72 7.72c-.78.78-.78 2.05 0 2.83L4 21.41c.39.39.9.59 1.41.59.51 0 1.02-.2 1.41-.59l7.78-7.78 2.81-2.81c.8-.78.8-2.07 0-2.86zM5.41 20L4 18.59l7.72-7.72 1.47 1.35L5.41 20z\"/>\n",
              "  </svg>\n",
              "      </button>\n",
              "      \n",
              "  <style>\n",
              "    .colab-df-container {\n",
              "      display:flex;\n",
              "      flex-wrap:wrap;\n",
              "      gap: 12px;\n",
              "    }\n",
              "\n",
              "    .colab-df-convert {\n",
              "      background-color: #E8F0FE;\n",
              "      border: none;\n",
              "      border-radius: 50%;\n",
              "      cursor: pointer;\n",
              "      display: none;\n",
              "      fill: #1967D2;\n",
              "      height: 32px;\n",
              "      padding: 0 0 0 0;\n",
              "      width: 32px;\n",
              "    }\n",
              "\n",
              "    .colab-df-convert:hover {\n",
              "      background-color: #E2EBFA;\n",
              "      box-shadow: 0px 1px 2px rgba(60, 64, 67, 0.3), 0px 1px 3px 1px rgba(60, 64, 67, 0.15);\n",
              "      fill: #174EA6;\n",
              "    }\n",
              "\n",
              "    [theme=dark] .colab-df-convert {\n",
              "      background-color: #3B4455;\n",
              "      fill: #D2E3FC;\n",
              "    }\n",
              "\n",
              "    [theme=dark] .colab-df-convert:hover {\n",
              "      background-color: #434B5C;\n",
              "      box-shadow: 0px 1px 3px 1px rgba(0, 0, 0, 0.15);\n",
              "      filter: drop-shadow(0px 1px 2px rgba(0, 0, 0, 0.3));\n",
              "      fill: #FFFFFF;\n",
              "    }\n",
              "  </style>\n",
              "\n",
              "      <script>\n",
              "        const buttonEl =\n",
              "          document.querySelector('#df-6682a652-db2e-4cd2-b0a0-3d589725a0f2 button.colab-df-convert');\n",
              "        buttonEl.style.display =\n",
              "          google.colab.kernel.accessAllowed ? 'block' : 'none';\n",
              "\n",
              "        async function convertToInteractive(key) {\n",
              "          const element = document.querySelector('#df-6682a652-db2e-4cd2-b0a0-3d589725a0f2');\n",
              "          const dataTable =\n",
              "            await google.colab.kernel.invokeFunction('convertToInteractive',\n",
              "                                                     [key], {});\n",
              "          if (!dataTable) return;\n",
              "\n",
              "          const docLinkHtml = 'Like what you see? Visit the ' +\n",
              "            '<a target=\"_blank\" href=https://colab.research.google.com/notebooks/data_table.ipynb>data table notebook</a>'\n",
              "            + ' to learn more about interactive tables.';\n",
              "          element.innerHTML = '';\n",
              "          dataTable['output_type'] = 'display_data';\n",
              "          await google.colab.output.renderOutput(dataTable, element);\n",
              "          const docLink = document.createElement('div');\n",
              "          docLink.innerHTML = docLinkHtml;\n",
              "          element.appendChild(docLink);\n",
              "        }\n",
              "      </script>\n",
              "    </div>\n",
              "  </div>\n",
              "  "
            ]
          },
          "metadata": {},
          "execution_count": 18
        }
      ]
    },
    {
      "cell_type": "code",
      "source": [
        "temp_data.shape"
      ],
      "metadata": {
        "colab": {
          "base_uri": "https://localhost:8080/"
        },
        "id": "TG3yFkOHyE5i",
        "outputId": "e76b8ba2-ed17-49b6-c399-8c6bd17a8083"
      },
      "execution_count": null,
      "outputs": [
        {
          "output_type": "execute_result",
          "data": {
            "text/plain": [
              "(257982, 2)"
            ]
          },
          "metadata": {},
          "execution_count": 19
        }
      ]
    },
    {
      "cell_type": "code",
      "source": [
        "data.shape"
      ],
      "metadata": {
        "colab": {
          "base_uri": "https://localhost:8080/"
        },
        "id": "a6g7mNxtyImP",
        "outputId": "d3d3f661-5d99-4293-eb92-a68c239b6fd9"
      },
      "execution_count": null,
      "outputs": [
        {
          "output_type": "execute_result",
          "data": {
            "text/plain": [
              "(447894, 2)"
            ]
          },
          "metadata": {},
          "execution_count": 20
        }
      ]
    },
    {
      "cell_type": "code",
      "source": [
        "data = data[data.Category != 'depression']"
      ],
      "metadata": {
        "id": "vNQsTGdLyMr3"
      },
      "execution_count": null,
      "outputs": []
    },
    {
      "cell_type": "code",
      "source": [
        "data.shape"
      ],
      "metadata": {
        "colab": {
          "base_uri": "https://localhost:8080/"
        },
        "id": "2FptCE9oyOeO",
        "outputId": "d1ec2177-ae5a-47b6-a7f5-8fd202b58ab3"
      },
      "execution_count": null,
      "outputs": [
        {
          "output_type": "execute_result",
          "data": {
            "text/plain": [
              "(189912, 2)"
            ]
          },
          "metadata": {},
          "execution_count": 22
        }
      ]
    },
    {
      "cell_type": "code",
      "source": [
        "x = len(temp_data)\n",
        "x = int(x/3) # considering one-third data\n",
        "temp_data=temp_data.sample(x)"
      ],
      "metadata": {
        "id": "bOX7fp-zylNi"
      },
      "execution_count": null,
      "outputs": []
    },
    {
      "cell_type": "code",
      "source": [
        "temp_data.shape"
      ],
      "metadata": {
        "colab": {
          "base_uri": "https://localhost:8080/"
        },
        "id": "Ex_wQiQiy9a2",
        "outputId": "f0733bf0-2adf-45ac-aa9a-ed03d4df02b9"
      },
      "execution_count": null,
      "outputs": [
        {
          "output_type": "execute_result",
          "data": {
            "text/plain": [
              "(85994, 2)"
            ]
          },
          "metadata": {},
          "execution_count": 24
        }
      ]
    },
    {
      "cell_type": "code",
      "source": [
        "data = data.append(temp_data)\n",
        "data.head(10)"
      ],
      "metadata": {
        "colab": {
          "base_uri": "https://localhost:8080/",
          "height": 363
        },
        "id": "kCcRdkbRzID3",
        "outputId": "bed41d44-dbfb-4fd4-cdb9-43b90b95e733"
      },
      "execution_count": null,
      "outputs": [
        {
          "output_type": "execute_result",
          "data": {
            "text/plain": [
              "                                             Content Category\n",
              "0  exposure does not work! I have struggled with ...  anxiety\n",
              "1  Panic attack? derealization? can't go to docto...  anxiety\n",
              "2  How long can a panic attack last?! I've been w...  anxiety\n",
              "3  Stepping stones First time poster, long time l...  anxiety\n",
              "4  Coping with anxiety over climate change, on th...  anxiety\n",
              "5  I don't even know what I'm looking for by post...  anxiety\n",
              "6  Literally numb, not sure what to do. I'm (21, ...  anxiety\n",
              "7  Lifetime anxiety 47M\\n\\nI've been anxious for ...  anxiety\n",
              "8  went and saw the fireworks alone and finally f...  anxiety\n",
              "9  Social anxiety help for NYE - I don't know any...  anxiety"
            ],
            "text/html": [
              "\n",
              "  <div id=\"df-a589d0bb-e110-437e-b713-cea326ce59f1\">\n",
              "    <div class=\"colab-df-container\">\n",
              "      <div>\n",
              "<style scoped>\n",
              "    .dataframe tbody tr th:only-of-type {\n",
              "        vertical-align: middle;\n",
              "    }\n",
              "\n",
              "    .dataframe tbody tr th {\n",
              "        vertical-align: top;\n",
              "    }\n",
              "\n",
              "    .dataframe thead th {\n",
              "        text-align: right;\n",
              "    }\n",
              "</style>\n",
              "<table border=\"1\" class=\"dataframe\">\n",
              "  <thead>\n",
              "    <tr style=\"text-align: right;\">\n",
              "      <th></th>\n",
              "      <th>Content</th>\n",
              "      <th>Category</th>\n",
              "    </tr>\n",
              "  </thead>\n",
              "  <tbody>\n",
              "    <tr>\n",
              "      <th>0</th>\n",
              "      <td>exposure does not work! I have struggled with ...</td>\n",
              "      <td>anxiety</td>\n",
              "    </tr>\n",
              "    <tr>\n",
              "      <th>1</th>\n",
              "      <td>Panic attack? derealization? can't go to docto...</td>\n",
              "      <td>anxiety</td>\n",
              "    </tr>\n",
              "    <tr>\n",
              "      <th>2</th>\n",
              "      <td>How long can a panic attack last?! I've been w...</td>\n",
              "      <td>anxiety</td>\n",
              "    </tr>\n",
              "    <tr>\n",
              "      <th>3</th>\n",
              "      <td>Stepping stones First time poster, long time l...</td>\n",
              "      <td>anxiety</td>\n",
              "    </tr>\n",
              "    <tr>\n",
              "      <th>4</th>\n",
              "      <td>Coping with anxiety over climate change, on th...</td>\n",
              "      <td>anxiety</td>\n",
              "    </tr>\n",
              "    <tr>\n",
              "      <th>5</th>\n",
              "      <td>I don't even know what I'm looking for by post...</td>\n",
              "      <td>anxiety</td>\n",
              "    </tr>\n",
              "    <tr>\n",
              "      <th>6</th>\n",
              "      <td>Literally numb, not sure what to do. I'm (21, ...</td>\n",
              "      <td>anxiety</td>\n",
              "    </tr>\n",
              "    <tr>\n",
              "      <th>7</th>\n",
              "      <td>Lifetime anxiety 47M\\n\\nI've been anxious for ...</td>\n",
              "      <td>anxiety</td>\n",
              "    </tr>\n",
              "    <tr>\n",
              "      <th>8</th>\n",
              "      <td>went and saw the fireworks alone and finally f...</td>\n",
              "      <td>anxiety</td>\n",
              "    </tr>\n",
              "    <tr>\n",
              "      <th>9</th>\n",
              "      <td>Social anxiety help for NYE - I don't know any...</td>\n",
              "      <td>anxiety</td>\n",
              "    </tr>\n",
              "  </tbody>\n",
              "</table>\n",
              "</div>\n",
              "      <button class=\"colab-df-convert\" onclick=\"convertToInteractive('df-a589d0bb-e110-437e-b713-cea326ce59f1')\"\n",
              "              title=\"Convert this dataframe to an interactive table.\"\n",
              "              style=\"display:none;\">\n",
              "        \n",
              "  <svg xmlns=\"http://www.w3.org/2000/svg\" height=\"24px\"viewBox=\"0 0 24 24\"\n",
              "       width=\"24px\">\n",
              "    <path d=\"M0 0h24v24H0V0z\" fill=\"none\"/>\n",
              "    <path d=\"M18.56 5.44l.94 2.06.94-2.06 2.06-.94-2.06-.94-.94-2.06-.94 2.06-2.06.94zm-11 1L8.5 8.5l.94-2.06 2.06-.94-2.06-.94L8.5 2.5l-.94 2.06-2.06.94zm10 10l.94 2.06.94-2.06 2.06-.94-2.06-.94-.94-2.06-.94 2.06-2.06.94z\"/><path d=\"M17.41 7.96l-1.37-1.37c-.4-.4-.92-.59-1.43-.59-.52 0-1.04.2-1.43.59L10.3 9.45l-7.72 7.72c-.78.78-.78 2.05 0 2.83L4 21.41c.39.39.9.59 1.41.59.51 0 1.02-.2 1.41-.59l7.78-7.78 2.81-2.81c.8-.78.8-2.07 0-2.86zM5.41 20L4 18.59l7.72-7.72 1.47 1.35L5.41 20z\"/>\n",
              "  </svg>\n",
              "      </button>\n",
              "      \n",
              "  <style>\n",
              "    .colab-df-container {\n",
              "      display:flex;\n",
              "      flex-wrap:wrap;\n",
              "      gap: 12px;\n",
              "    }\n",
              "\n",
              "    .colab-df-convert {\n",
              "      background-color: #E8F0FE;\n",
              "      border: none;\n",
              "      border-radius: 50%;\n",
              "      cursor: pointer;\n",
              "      display: none;\n",
              "      fill: #1967D2;\n",
              "      height: 32px;\n",
              "      padding: 0 0 0 0;\n",
              "      width: 32px;\n",
              "    }\n",
              "\n",
              "    .colab-df-convert:hover {\n",
              "      background-color: #E2EBFA;\n",
              "      box-shadow: 0px 1px 2px rgba(60, 64, 67, 0.3), 0px 1px 3px 1px rgba(60, 64, 67, 0.15);\n",
              "      fill: #174EA6;\n",
              "    }\n",
              "\n",
              "    [theme=dark] .colab-df-convert {\n",
              "      background-color: #3B4455;\n",
              "      fill: #D2E3FC;\n",
              "    }\n",
              "\n",
              "    [theme=dark] .colab-df-convert:hover {\n",
              "      background-color: #434B5C;\n",
              "      box-shadow: 0px 1px 3px 1px rgba(0, 0, 0, 0.15);\n",
              "      filter: drop-shadow(0px 1px 2px rgba(0, 0, 0, 0.3));\n",
              "      fill: #FFFFFF;\n",
              "    }\n",
              "  </style>\n",
              "\n",
              "      <script>\n",
              "        const buttonEl =\n",
              "          document.querySelector('#df-a589d0bb-e110-437e-b713-cea326ce59f1 button.colab-df-convert');\n",
              "        buttonEl.style.display =\n",
              "          google.colab.kernel.accessAllowed ? 'block' : 'none';\n",
              "\n",
              "        async function convertToInteractive(key) {\n",
              "          const element = document.querySelector('#df-a589d0bb-e110-437e-b713-cea326ce59f1');\n",
              "          const dataTable =\n",
              "            await google.colab.kernel.invokeFunction('convertToInteractive',\n",
              "                                                     [key], {});\n",
              "          if (!dataTable) return;\n",
              "\n",
              "          const docLinkHtml = 'Like what you see? Visit the ' +\n",
              "            '<a target=\"_blank\" href=https://colab.research.google.com/notebooks/data_table.ipynb>data table notebook</a>'\n",
              "            + ' to learn more about interactive tables.';\n",
              "          element.innerHTML = '';\n",
              "          dataTable['output_type'] = 'display_data';\n",
              "          await google.colab.output.renderOutput(dataTable, element);\n",
              "          const docLink = document.createElement('div');\n",
              "          docLink.innerHTML = docLinkHtml;\n",
              "          element.appendChild(docLink);\n",
              "        }\n",
              "      </script>\n",
              "    </div>\n",
              "  </div>\n",
              "  "
            ]
          },
          "metadata": {},
          "execution_count": 25
        }
      ]
    },
    {
      "cell_type": "code",
      "source": [
        "data.shape"
      ],
      "metadata": {
        "colab": {
          "base_uri": "https://localhost:8080/"
        },
        "id": "6dId3BZJzSWw",
        "outputId": "74d5502e-a490-4e6a-a538-88f595fdb6fd"
      },
      "execution_count": null,
      "outputs": [
        {
          "output_type": "execute_result",
          "data": {
            "text/plain": [
              "(275906, 2)"
            ]
          },
          "metadata": {},
          "execution_count": 26
        }
      ]
    },
    {
      "cell_type": "code",
      "source": [
        "data = data.sample(n=len(data), ignore_index=True)"
      ],
      "metadata": {
        "id": "Q_O7QJjgzNnY"
      },
      "execution_count": null,
      "outputs": []
    },
    {
      "cell_type": "code",
      "source": [
        "data.shape"
      ],
      "metadata": {
        "colab": {
          "base_uri": "https://localhost:8080/"
        },
        "id": "qJVmsHPAzutv",
        "outputId": "54e3fe6b-861e-4c2a-f4ce-c457d8b544da"
      },
      "execution_count": null,
      "outputs": [
        {
          "output_type": "execute_result",
          "data": {
            "text/plain": [
              "(275906, 2)"
            ]
          },
          "metadata": {},
          "execution_count": 28
        }
      ]
    },
    {
      "cell_type": "code",
      "source": [
        "import seaborn as sns\n",
        "plt.figure(figsize=(10, 6))\n",
        "sns.countplot(x = 'Category', data=data)"
      ],
      "metadata": {
        "colab": {
          "base_uri": "https://localhost:8080/",
          "height": 405
        },
        "id": "0-voh2HP0FDz",
        "outputId": "e032fff1-7831-43f4-cd76-1819e2c03a40"
      },
      "execution_count": null,
      "outputs": [
        {
          "output_type": "execute_result",
          "data": {
            "text/plain": [
              "<matplotlib.axes._subplots.AxesSubplot at 0x7f84bad4fb10>"
            ]
          },
          "metadata": {},
          "execution_count": 29
        },
        {
          "output_type": "display_data",
          "data": {
            "text/plain": [
              "<Figure size 720x432 with 1 Axes>"
            ],
            "image/png": "[encoded data removed]"
          },
          "metadata": {
            "needs_background": "light"
          }
        }
      ]
    },
    {
      "cell_type": "markdown",
      "source": [
        "# Data preparation again"
      ],
      "metadata": {
        "id": "Xiz0MPGkzyFu"
      }
    },
    {
      "cell_type": "code",
      "source": [
        "# data['label'] = data['Category']"
      ],
      "metadata": {
        "id": "KjHPY0B6hTPi"
      },
      "execution_count": null,
      "outputs": []
    },
    {
      "cell_type": "code",
      "source": [
        "# data.head()"
      ],
      "metadata": {
        "colab": {
          "base_uri": "https://localhost:8080/",
          "height": 206
        },
        "id": "dPtRrC7zhdSe",
        "outputId": "472f7af0-1a02-46f5-ba49-3162e05ddbf1"
      },
      "execution_count": null,
      "outputs": [
        {
          "output_type": "execute_result",
          "data": {
            "text/plain": [
              "                                             Content       Category  label\n",
              "0  guys the civil war movies and games. keep givi...  schizophrenia      0\n",
              "1  What do I have? Hi everyone, I just found this...        anxiety      1\n",
              "2  Buster from Arthur... A possibly random and we...  schizophrenia      0\n",
              "3  anxiety attack at the movies I took about 50mg...        anxiety      1\n",
              "4  Today’s reflections on depression I don’t know...            BPD      2"
            ],
            "text/html": [
              "\n",
              "  <div id=\"df-8701ea37-9ebc-4128-bc59-0ec76209efea\">\n",
              "    <div class=\"colab-df-container\">\n",
              "      <div>\n",
              "<style scoped>\n",
              "    .dataframe tbody tr th:only-of-type {\n",
              "        vertical-align: middle;\n",
              "    }\n",
              "\n",
              "    .dataframe tbody tr th {\n",
              "        vertical-align: top;\n",
              "    }\n",
              "\n",
              "    .dataframe thead th {\n",
              "        text-align: right;\n",
              "    }\n",
              "</style>\n",
              "<table border=\"1\" class=\"dataframe\">\n",
              "  <thead>\n",
              "    <tr style=\"text-align: right;\">\n",
              "      <th></th>\n",
              "      <th>Content</th>\n",
              "      <th>Category</th>\n",
              "      <th>label</th>\n",
              "    </tr>\n",
              "  </thead>\n",
              "  <tbody>\n",
              "    <tr>\n",
              "      <th>0</th>\n",
              "      <td>guys the civil war movies and games. keep givi...</td>\n",
              "      <td>schizophrenia</td>\n",
              "      <td>0</td>\n",
              "    </tr>\n",
              "    <tr>\n",
              "      <th>1</th>\n",
              "      <td>What do I have? Hi everyone, I just found this...</td>\n",
              "      <td>anxiety</td>\n",
              "      <td>1</td>\n",
              "    </tr>\n",
              "    <tr>\n",
              "      <th>2</th>\n",
              "      <td>Buster from Arthur... A possibly random and we...</td>\n",
              "      <td>schizophrenia</td>\n",
              "      <td>0</td>\n",
              "    </tr>\n",
              "    <tr>\n",
              "      <th>3</th>\n",
              "      <td>anxiety attack at the movies I took about 50mg...</td>\n",
              "      <td>anxiety</td>\n",
              "      <td>1</td>\n",
              "    </tr>\n",
              "    <tr>\n",
              "      <th>4</th>\n",
              "      <td>Today’s reflections on depression I don’t know...</td>\n",
              "      <td>BPD</td>\n",
              "      <td>2</td>\n",
              "    </tr>\n",
              "  </tbody>\n",
              "</table>\n",
              "</div>\n",
              "      <button class=\"colab-df-convert\" onclick=\"convertToInteractive('df-8701ea37-9ebc-4128-bc59-0ec76209efea')\"\n",
              "              title=\"Convert this dataframe to an interactive table.\"\n",
              "              style=\"display:none;\">\n",
              "        \n",
              "  <svg xmlns=\"http://www.w3.org/2000/svg\" height=\"24px\"viewBox=\"0 0 24 24\"\n",
              "       width=\"24px\">\n",
              "    <path d=\"M0 0h24v24H0V0z\" fill=\"none\"/>\n",
              "    <path d=\"M18.56 5.44l.94 2.06.94-2.06 2.06-.94-2.06-.94-.94-2.06-.94 2.06-2.06.94zm-11 1L8.5 8.5l.94-2.06 2.06-.94-2.06-.94L8.5 2.5l-.94 2.06-2.06.94zm10 10l.94 2.06.94-2.06 2.06-.94-2.06-.94-.94-2.06-.94 2.06-2.06.94z\"/><path d=\"M17.41 7.96l-1.37-1.37c-.4-.4-.92-.59-1.43-.59-.52 0-1.04.2-1.43.59L10.3 9.45l-7.72 7.72c-.78.78-.78 2.05 0 2.83L4 21.41c.39.39.9.59 1.41.59.51 0 1.02-.2 1.41-.59l7.78-7.78 2.81-2.81c.8-.78.8-2.07 0-2.86zM5.41 20L4 18.59l7.72-7.72 1.47 1.35L5.41 20z\"/>\n",
              "  </svg>\n",
              "      </button>\n",
              "      \n",
              "  <style>\n",
              "    .colab-df-container {\n",
              "      display:flex;\n",
              "      flex-wrap:wrap;\n",
              "      gap: 12px;\n",
              "    }\n",
              "\n",
              "    .colab-df-convert {\n",
              "      background-color: #E8F0FE;\n",
              "      border: none;\n",
              "      border-radius: 50%;\n",
              "      cursor: pointer;\n",
              "      display: none;\n",
              "      fill: #1967D2;\n",
              "      height: 32px;\n",
              "      padding: 0 0 0 0;\n",
              "      width: 32px;\n",
              "    }\n",
              "\n",
              "    .colab-df-convert:hover {\n",
              "      background-color: #E2EBFA;\n",
              "      box-shadow: 0px 1px 2px rgba(60, 64, 67, 0.3), 0px 1px 3px 1px rgba(60, 64, 67, 0.15);\n",
              "      fill: #174EA6;\n",
              "    }\n",
              "\n",
              "    [theme=dark] .colab-df-convert {\n",
              "      background-color: #3B4455;\n",
              "      fill: #D2E3FC;\n",
              "    }\n",
              "\n",
              "    [theme=dark] .colab-df-convert:hover {\n",
              "      background-color: #434B5C;\n",
              "      box-shadow: 0px 1px 3px 1px rgba(0, 0, 0, 0.15);\n",
              "      filter: drop-shadow(0px 1px 2px rgba(0, 0, 0, 0.3));\n",
              "      fill: #FFFFFF;\n",
              "    }\n",
              "  </style>\n",
              "\n",
              "      <script>\n",
              "        const buttonEl =\n",
              "          document.querySelector('#df-8701ea37-9ebc-4128-bc59-0ec76209efea button.colab-df-convert');\n",
              "        buttonEl.style.display =\n",
              "          google.colab.kernel.accessAllowed ? 'block' : 'none';\n",
              "\n",
              "        async function convertToInteractive(key) {\n",
              "          const element = document.querySelector('#df-8701ea37-9ebc-4128-bc59-0ec76209efea');\n",
              "          const dataTable =\n",
              "            await google.colab.kernel.invokeFunction('convertToInteractive',\n",
              "                                                     [key], {});\n",
              "          if (!dataTable) return;\n",
              "\n",
              "          const docLinkHtml = 'Like what you see? Visit the ' +\n",
              "            '<a target=\"_blank\" href=https://colab.research.google.com/notebooks/data_table.ipynb>data table notebook</a>'\n",
              "            + ' to learn more about interactive tables.';\n",
              "          element.innerHTML = '';\n",
              "          dataTable['output_type'] = 'display_data';\n",
              "          await google.colab.output.renderOutput(dataTable, element);\n",
              "          const docLink = document.createElement('div');\n",
              "          docLink.innerHTML = docLinkHtml;\n",
              "          element.appendChild(docLink);\n",
              "        }\n",
              "      </script>\n",
              "    </div>\n",
              "  </div>\n",
              "  "
            ]
          },
          "metadata": {},
          "execution_count": 12
        }
      ]
    },
    {
      "cell_type": "code",
      "source": [
        "possible_labels = ['schizophrenia', 'anxiety', 'BPD', 'depression', 'bipolar',\n",
        "       'autism']"
      ],
      "metadata": {
        "id": "RjS1mRia0Uw0"
      },
      "execution_count": null,
      "outputs": []
    },
    {
      "cell_type": "code",
      "source": [
        "#possible_labels = data.Category.unique()\n",
        "\n",
        "label_dict = {}\n",
        "for index, possible_label in enumerate(possible_labels):\n",
        "    label_dict[possible_label] = index\n",
        "label_dict"
      ],
      "metadata": {
        "colab": {
          "base_uri": "https://localhost:8080/"
        },
        "id": "tS3pih1Uhg6o",
        "outputId": "f4d555c7-176c-4ae8-d1d4-ebe939126e16"
      },
      "execution_count": null,
      "outputs": [
        {
          "output_type": "execute_result",
          "data": {
            "text/plain": [
              "{'schizophrenia': 0,\n",
              " 'anxiety': 1,\n",
              " 'BPD': 2,\n",
              " 'depression': 3,\n",
              " 'bipolar': 4,\n",
              " 'autism': 5}"
            ]
          },
          "metadata": {},
          "execution_count": 9
        }
      ]
    },
    {
      "cell_type": "markdown",
      "source": [
        "['schizophrenia', 'anxiety', 'BPD', 'depression', 'bipolar',\n",
        "       'autism']"
      ],
      "metadata": {
        "id": "rOy4xdXyj5ak"
      }
    },
    {
      "cell_type": "code",
      "source": [
        "#data['label'].replace(possible_labels, [0, 1, 2, 3, 4, 5], inplace=True)"
      ],
      "metadata": {
        "id": "4b1MeoF4hnox"
      },
      "execution_count": null,
      "outputs": []
    },
    {
      "cell_type": "markdown",
      "source": [
        "# Data Preprocessing"
      ],
      "metadata": {
        "id": "u1G2Xgeukgxw"
      }
    },
    {
      "cell_type": "code",
      "source": [
        "import nltk\n",
        "nltk.download('punkt')\n",
        "nltk.download('stopwords')"
      ],
      "metadata": {
        "id": "gyF8jVq-g91d",
        "colab": {
          "base_uri": "https://localhost:8080/"
        },
        "outputId": "b3afa4c1-d2d5-46e6-d6a8-5c537bf86f04"
      },
      "execution_count": null,
      "outputs": [
        {
          "output_type": "stream",
          "name": "stderr",
          "text": [
            "[nltk_data] Downloading package punkt to /root/nltk_data...\n",
            "[nltk_data]   Unzipping tokenizers/punkt.zip.\n",
            "[nltk_data] Downloading package stopwords to /root/nltk_data...\n",
            "[nltk_data]   Unzipping corpora/stopwords.zip.\n"
          ]
        },
        {
          "output_type": "execute_result",
          "data": {
            "text/plain": [
              "True"
            ]
          },
          "metadata": {},
          "execution_count": 10
        }
      ]
    },
    {
      "cell_type": "code",
      "source": [
        "from nltk.corpus import stopwords\n",
        "from nltk.stem.porter import PorterStemmer\n",
        "from nltk import word_tokenize\n",
        "import time\n",
        "import re\n",
        "\n",
        "ps = PorterStemmer()\n",
        "stopwordSet = set(stopwords.words('english'))\n",
        "\n",
        "t = time.time()\n",
        "\n",
        "def leadMyWord(Content):\n",
        "    Content = re.sub('[^a-zA-ZğĞüÜşŞıİöÖçÇ]',\" \",Content)\n",
        "    Content = Content.lower()\n",
        "    Content = word_tokenize(Content,language='english')\n",
        "    Content = [word for word in Content if not word in stopwordSet]\n",
        "    Content = \" \".join(Content)\n",
        "    return Content   \n",
        "\n",
        "textList = data.Content.apply(leadMyWord)\n",
        "textList = list(textList)"
      ],
      "metadata": {
        "id": "TaFWUkMtg__0"
      },
      "execution_count": null,
      "outputs": []
    },
    {
      "cell_type": "code",
      "source": [
        "# #preparing y\n",
        "\n",
        "# from sklearn.preprocessing import LabelEncoder\n",
        "# from tensorflow.keras.utils import to_categorical\n",
        "\n",
        "# le = LabelEncoder()\n",
        "# labelEncode = le.fit_transform(data[\"Category\"])\n",
        "# print(\"LabelEncode\")\n",
        "# print(labelEncode)\n",
        "# categorical_y = to_categorical(labelEncode)\n",
        "# print(\"To_Categorical\")\n",
        "# print(categorical_y)"
      ],
      "metadata": {
        "id": "mhaf-ZN8hGl0"
      },
      "execution_count": null,
      "outputs": []
    },
    {
      "cell_type": "code",
      "source": [
        "from keras.preprocessing.text import one_hot\n",
        "#from keras.preprocessing.sequence import pad_sequences\n",
        "from keras_preprocessing.sequence import pad_sequences\n",
        "from sklearn.model_selection import train_test_split\n",
        "\n",
        "#preparing x for CNN\n",
        "MAX_FEATURES = 10001\n",
        "\n",
        "onehot_corpus = []\n",
        "for text in textList:\n",
        "    onehot_corpus.append(one_hot(text,MAX_FEATURES))\n",
        "    \n",
        "maxTextLen = 0\n",
        "for text in textList:\n",
        "    word_token=word_tokenize(text)\n",
        "    if(maxTextLen < len(word_token)):\n",
        "        maxTextLen = len(word_token)\n",
        "        \n",
        "print(\"Max number of words : \", maxTextLen)\n",
        "\n",
        "padded_corpus=pad_sequences(onehot_corpus,maxlen=maxTextLen,padding='post')"
      ],
      "metadata": {
        "id": "EcnAFZ1UhaQt",
        "colab": {
          "base_uri": "https://localhost:8080/"
        },
        "outputId": "df0d4b41-401e-4966-f0f7-19839c2b5856"
      },
      "execution_count": null,
      "outputs": [
        {
          "output_type": "stream",
          "name": "stdout",
          "text": [
            "Max number of words :  3671\n"
          ]
        }
      ]
    },
    {
      "cell_type": "code",
      "source": [
        "X = padded_corpus\n",
        "Y = data['label']"
      ],
      "metadata": {
        "id": "cmyqBfEaik5N"
      },
      "execution_count": null,
      "outputs": []
    },
    {
      "cell_type": "code",
      "source": [
        "# data"
      ],
      "metadata": {
        "id": "kd1L-_phjLLC"
      },
      "execution_count": null,
      "outputs": []
    },
    {
      "cell_type": "code",
      "source": [
        "x_train, x_test, y_train, y_test = train_test_split(X, Y, test_size=0.2, random_state=42)"
      ],
      "metadata": {
        "id": "HWRkw57YRVUV"
      },
      "execution_count": null,
      "outputs": []
    },
    {
      "cell_type": "code",
      "source": [
        "from keras.layers import Embedding, Conv1D, MaxPooling1D, Flatten\n",
        "from tensorflow.keras.models import Sequential\n",
        "from tensorflow.keras.layers import Dense, Dropout\n",
        "from tensorflow.keras.utils import plot_model\n",
        "\n",
        "MAX_FEATURES = 10001\n",
        "\n",
        "def build_cnn_model():\n",
        "    model = Sequential()\n",
        "    \n",
        "    model.add(Embedding(MAX_FEATURES, 100, input_length=maxTextLen))\n",
        "\n",
        "    model.add(Conv1D(64, 5, padding='same', activation='relu'))\n",
        "    model.add(Dropout(0.2))\n",
        "    model.add(MaxPooling1D(2))\n",
        "\n",
        "    model.add(Conv1D(128, 2, padding='same', activation='relu'))\n",
        "    model.add(Dropout(0.2))\n",
        "    model.add(MaxPooling1D(2))\n",
        "\n",
        "    model.add(Conv1D(64, 2, padding='same', activation='relu'))\n",
        "    model.add(Dropout(0.2))\n",
        "    model.add(MaxPooling1D(2))\n",
        "\n",
        "    model.add(Flatten())\n",
        "\n",
        "    model.add(Dense(units=64,activation=\"relu\"))\n",
        "    model.add(Dropout(0.5))\n",
        "\n",
        "    model.add(Dense(units=64,activation=\"relu\"))\n",
        "    model.add(Dropout(0.5))\n",
        "\n",
        "    model.add(Dense(units=6,activation=\"softmax\"))\n",
        "    \n",
        "    # optimizer = Adam(lr=0.000055,beta_1=0.9,beta_2=0.999)\n",
        "    \n",
        "    model.compile(optimizer='adam',metrics=[\"accuracy\"],loss=\"categorical_crossentropy\")\n",
        "    return model"
      ],
      "metadata": {
        "id": "wkhZcKVwhdUU"
      },
      "execution_count": null,
      "outputs": []
    },
    {
      "cell_type": "code",
      "source": [
        "model = build_cnn_model()\n",
        "plot_model(model,show_shapes=True)"
      ],
      "metadata": {
        "id": "ZO6eKbcuS_Kk",
        "colab": {
          "base_uri": "https://localhost:8080/",
          "height": 1000
        },
        "outputId": "166a1d72-ffa5-4d4a-c8d4-37aaa0de9569"
      },
      "execution_count": null,
      "outputs": [
        {
          "output_type": "execute_result",
          "data": {
            "image/png": "[encoded data removed]",
            "text/plain": [
              "<IPython.core.display.Image object>"
            ]
          },
          "metadata": {},
          "execution_count": 16
        }
      ]
    },
    {
      "cell_type": "code",
      "source": [
        "# possible_labels = ['schizophrenia', 'anxiety', 'BPD', 'depression', 'bipolar',\n",
        "#        'autism']"
      ],
      "metadata": {
        "id": "2Tp_2E8WBY1F"
      },
      "execution_count": null,
      "outputs": []
    },
    {
      "cell_type": "code",
      "source": [
        "from sklearn.metrics import classification_report, accuracy_score, f1_score, precision_score, confusion_matrix\n",
        "def showResults(test, pred):\n",
        "    print(classification_report(test, pred, target_names=possible_labels))\n",
        "    accuracy = accuracy_score(test, pred)\n",
        "    precision=precision_score(test, pred, average='weighted')\n",
        "    f1Score=f1_score(test, pred, average='weighted') \n",
        "    print(\"Accuracy  : {}\".format(accuracy))\n",
        "    print(\"Precision : {}\".format(precision))\n",
        "    print(\"F1-score : {}\".format(f1Score))\n",
        "    cm=confusion_matrix(test, pred)\n",
        "    print(cm)\n",
        "    print(\"\\n\")"
      ],
      "metadata": {
        "id": "DEvxn8x8TUON"
      },
      "execution_count": null,
      "outputs": []
    },
    {
      "cell_type": "markdown",
      "source": [
        "# Fitting model with stratified k-fold cross validation"
      ],
      "metadata": {
        "id": "fo4c-CWo5Xhp"
      }
    },
    {
      "cell_type": "code",
      "source": [
        "from tensorflow.keras.utils import to_categorical\n",
        "epochs=20\n",
        "batch_size=512\n",
        "\n",
        "skf = StratifiedKFold(n_splits=10, shuffle=True)\n",
        "skf.get_n_splits(x_train, y_train)\n",
        "foldNum=0\n",
        "for train_index, val_index in skf.split(x_train, y_train):\n",
        "    foldNum+=1\n",
        "    print(\"Results for fold\",foldNum)\n",
        "    X_train, X_val = X[train_index], X[val_index]\n",
        "    Y_train, Y_val = Y[train_index], Y[val_index]\n",
        "\n",
        "    # one hot encode\n",
        "    Y_train = to_categorical(Y_train)\n",
        "    Y_val = to_categorical(Y_val)\n",
        "    \n",
        "    history = model.fit(X_train, Y_train, \n",
        "                        validation_data = (X_val, Y_val), \n",
        "                        epochs=epochs, \n",
        "                        batch_size=batch_size)  \n",
        "    y_predict = model.predict(X_val)\n",
        "\n",
        "    #Converting one hot encoded test label to label    \n",
        "    pred = np.argmax(y_predict, axis=1)\n",
        "    val = np.argmax(Y_val, axis=1)\n",
        "    \n",
        "    showResults(val, pred)"
      ],
      "metadata": {
        "colab": {
          "base_uri": "https://localhost:8080/"
        },
        "id": "cPqsYLR9Q6Et",
        "outputId": "ccdb96e1-aeef-41a0-e47e-e94ccd96b86a"
      },
      "execution_count": null,
      "outputs": [
        {
          "output_type": "stream",
          "name": "stdout",
          "text": [
            "Results for fold 1\n",
            "Epoch 1/20\n",
            "388/388 [==============================] - 188s 457ms/step - loss: 1.1490 - accuracy: 0.5546 - val_loss: 0.9050 - val_accuracy: 0.6506\n",
            "Epoch 2/20\n",
            "388/388 [==============================] - 178s 460ms/step - loss: 0.8793 - accuracy: 0.6898 - val_loss: 0.7465 - val_accuracy: 0.7507\n",
            "Epoch 3/20\n",
            "388/388 [==============================] - 178s 459ms/step - loss: 0.7448 - accuracy: 0.7618 - val_loss: 0.6846 - val_accuracy: 0.7758\n",
            "Epoch 4/20\n",
            "388/388 [==============================] - 177s 457ms/step - loss: 0.6691 - accuracy: 0.7918 - val_loss: 0.6649 - val_accuracy: 0.7794\n",
            "Epoch 5/20\n",
            "388/388 [==============================] - 176s 455ms/step - loss: 0.6128 - accuracy: 0.8110 - val_loss: 0.6639 - val_accuracy: 0.7793\n",
            "Epoch 6/20\n",
            "388/388 [==============================] - 176s 454ms/step - loss: 0.5655 - accuracy: 0.8279 - val_loss: 0.6691 - val_accuracy: 0.7790\n",
            "Epoch 7/20\n",
            "388/388 [==============================] - 176s 454ms/step - loss: 0.5190 - accuracy: 0.8419 - val_loss: 0.7005 - val_accuracy: 0.7749\n",
            "Epoch 8/20\n",
            "388/388 [==============================] - 176s 454ms/step - loss: 0.4787 - accuracy: 0.8557 - val_loss: 0.7185 - val_accuracy: 0.7734\n",
            "Epoch 9/20\n",
            "388/388 [==============================] - 176s 454ms/step - loss: 0.4454 - accuracy: 0.8659 - val_loss: 0.7361 - val_accuracy: 0.7668\n",
            "Epoch 10/20\n",
            "388/388 [==============================] - 176s 454ms/step - loss: 0.4118 - accuracy: 0.8770 - val_loss: 0.7653 - val_accuracy: 0.7626\n",
            "Epoch 11/20\n",
            "388/388 [==============================] - 176s 455ms/step - loss: 0.3821 - accuracy: 0.8853 - val_loss: 0.8002 - val_accuracy: 0.7620\n",
            "Epoch 12/20\n",
            "388/388 [==============================] - 176s 454ms/step - loss: 0.3550 - accuracy: 0.8946 - val_loss: 0.8195 - val_accuracy: 0.7568\n",
            "Epoch 13/20\n",
            "388/388 [==============================] - 176s 453ms/step - loss: 0.3359 - accuracy: 0.9002 - val_loss: 0.8428 - val_accuracy: 0.7574\n",
            "Epoch 14/20\n",
            "388/388 [==============================] - 176s 454ms/step - loss: 0.3108 - accuracy: 0.9075 - val_loss: 0.9080 - val_accuracy: 0.7550\n",
            "Epoch 15/20\n",
            "388/388 [==============================] - 176s 453ms/step - loss: 0.2958 - accuracy: 0.9124 - val_loss: 0.9144 - val_accuracy: 0.7491\n",
            "Epoch 16/20\n",
            "388/388 [==============================] - 176s 454ms/step - loss: 0.2794 - accuracy: 0.9173 - val_loss: 0.9509 - val_accuracy: 0.7561\n",
            "Epoch 17/20\n",
            "388/388 [==============================] - 176s 453ms/step - loss: 0.2704 - accuracy: 0.9197 - val_loss: 0.9731 - val_accuracy: 0.7497\n",
            "Epoch 18/20\n",
            "388/388 [==============================] - 176s 453ms/step - loss: 0.2556 - accuracy: 0.9244 - val_loss: 0.9584 - val_accuracy: 0.7522\n",
            "Epoch 19/20\n",
            "388/388 [==============================] - 176s 453ms/step - loss: 0.2460 - accuracy: 0.9270 - val_loss: 1.0397 - val_accuracy: 0.7525\n",
            "Epoch 20/20\n",
            "388/388 [==============================] - 176s 453ms/step - loss: 0.2358 - accuracy: 0.9299 - val_loss: 1.0823 - val_accuracy: 0.7551\n",
            "690/690 [==============================] - 6s 8ms/step\n",
            "               precision    recall  f1-score   support\n",
            "\n",
            "schizophrenia       0.67      0.61      0.64      1449\n",
            "      anxiety       0.80      0.84      0.82      6884\n",
            "          BPD       0.76      0.64      0.70      3038\n",
            "   depression       0.72      0.81      0.76      6782\n",
            "      bipolar       0.78      0.65      0.71      3326\n",
            "       autism       0.82      0.74      0.78       594\n",
            "\n",
            "     accuracy                           0.76     22073\n",
            "    macro avg       0.76      0.71      0.73     22073\n",
            " weighted avg       0.76      0.76      0.75     22073\n",
            "\n",
            "Accuracy  : 0.7551307026684184\n",
            "Precision : 0.7563172572888941\n",
            "F1-score : 0.7531348492997232\n",
            "[[ 883  146   53  218  131   18]\n",
            " [  78 5753  144  752  126   31]\n",
            " [  75  260 1954  597  136   16]\n",
            " [  99  708  261 5473  216   25]\n",
            " [ 161  269  157  567 2163    9]\n",
            " [  30   56   13   44    9  442]]\n",
            "\n",
            "\n",
            "Results for fold 2\n",
            "Epoch 1/20\n",
            "388/388 [==============================] - 176s 453ms/step - loss: 0.3264 - accuracy: 0.9101 - val_loss: 0.1574 - val_accuracy: 0.9579\n",
            "Epoch 2/20\n",
            "388/388 [==============================] - 176s 453ms/step - loss: 0.2868 - accuracy: 0.9193 - val_loss: 0.1779 - val_accuracy: 0.9441\n",
            "Epoch 3/20\n",
            "388/388 [==============================] - 176s 453ms/step - loss: 0.2654 - accuracy: 0.9231 - val_loss: 0.1960 - val_accuracy: 0.9389\n",
            "Epoch 4/20\n",
            "388/388 [==============================] - 176s 453ms/step - loss: 0.2519 - accuracy: 0.9276 - val_loss: 0.2163 - val_accuracy: 0.9291\n",
            "Epoch 5/20\n",
            "388/388 [==============================] - 176s 454ms/step - loss: 0.2391 - accuracy: 0.9300 - val_loss: 0.2460 - val_accuracy: 0.9197\n",
            "Epoch 6/20\n",
            "388/388 [==============================] - 176s 453ms/step - loss: 0.2284 - accuracy: 0.9333 - val_loss: 0.2657 - val_accuracy: 0.9122\n",
            "Epoch 7/20\n",
            "388/388 [==============================] - 176s 454ms/step - loss: 0.2214 - accuracy: 0.9356 - val_loss: 0.2963 - val_accuracy: 0.9029\n",
            "Epoch 8/20\n",
            "388/388 [==============================] - 176s 454ms/step - loss: 0.2117 - accuracy: 0.9379 - val_loss: 0.3038 - val_accuracy: 0.9031\n",
            "Epoch 9/20\n",
            "388/388 [==============================] - 176s 454ms/step - loss: 0.2037 - accuracy: 0.9405 - val_loss: 0.3188 - val_accuracy: 0.8956\n",
            "Epoch 10/20\n",
            "388/388 [==============================] - 176s 454ms/step - loss: 0.1970 - accuracy: 0.9420 - val_loss: 0.3296 - val_accuracy: 0.8963\n",
            "Epoch 11/20\n",
            "388/388 [==============================] - 176s 454ms/step - loss: 0.1885 - accuracy: 0.9443 - val_loss: 0.3587 - val_accuracy: 0.8884\n",
            "Epoch 12/20\n",
            "388/388 [==============================] - 176s 454ms/step - loss: 0.1856 - accuracy: 0.9451 - val_loss: 0.3794 - val_accuracy: 0.8838\n",
            "Epoch 13/20\n",
            "388/388 [==============================] - 176s 454ms/step - loss: 0.1794 - accuracy: 0.9475 - val_loss: 0.4008 - val_accuracy: 0.8792\n",
            "Epoch 14/20\n",
            "388/388 [==============================] - 176s 454ms/step - loss: 0.1722 - accuracy: 0.9486 - val_loss: 0.3895 - val_accuracy: 0.8825\n",
            "Epoch 15/20\n",
            "388/388 [==============================] - 176s 454ms/step - loss: 0.1690 - accuracy: 0.9503 - val_loss: 0.4189 - val_accuracy: 0.8761\n",
            "Epoch 16/20\n",
            "388/388 [==============================] - 176s 454ms/step - loss: 0.1673 - accuracy: 0.9504 - val_loss: 0.4333 - val_accuracy: 0.8734\n",
            "Epoch 17/20\n",
            "388/388 [==============================] - 176s 453ms/step - loss: 0.1611 - accuracy: 0.9525 - val_loss: 0.4450 - val_accuracy: 0.8705\n",
            "Epoch 18/20\n",
            "388/388 [==============================] - 176s 454ms/step - loss: 0.1558 - accuracy: 0.9539 - val_loss: 0.4686 - val_accuracy: 0.8658\n",
            "Epoch 19/20\n",
            "388/388 [==============================] - 176s 454ms/step - loss: 0.1546 - accuracy: 0.9549 - val_loss: 0.4736 - val_accuracy: 0.8646\n",
            "Epoch 20/20\n",
            "388/388 [==============================] - 176s 454ms/step - loss: 0.1507 - accuracy: 0.9551 - val_loss: 0.5101 - val_accuracy: 0.8623\n",
            "690/690 [==============================] - 6s 8ms/step\n",
            "               precision    recall  f1-score   support\n",
            "\n",
            "schizophrenia       0.81      0.73      0.77      1402\n",
            "      anxiety       0.90      0.90      0.90      6879\n",
            "          BPD       0.85      0.78      0.82      3069\n",
            "   depression       0.85      0.91      0.87      6884\n",
            "      bipolar       0.83      0.82      0.83      3266\n",
            "       autism       0.91      0.87      0.89       573\n",
            "\n",
            "     accuracy                           0.86     22073\n",
            "    macro avg       0.86      0.83      0.85     22073\n",
            " weighted avg       0.86      0.86      0.86     22073\n",
            "\n",
            "Accuracy  : 0.8622751778190549\n",
            "Precision : 0.8622159600713304\n",
            "F1-score : 0.8615881106432405\n",
            "[[1025   71   62   91  145    8]\n",
            " [  57 6196   78  434   96   18]\n",
            " [  50  119 2407  330  159    4]\n",
            " [  34  316  150 6234  136   14]\n",
            " [  76  122  129  261 2675    3]\n",
            " [  18   31    9   17    2  496]]\n",
            "\n",
            "\n",
            "Results for fold 3\n",
            "Epoch 1/20\n",
            "388/388 [==============================] - 176s 453ms/step - loss: 0.2098 - accuracy: 0.9415 - val_loss: 0.0836 - val_accuracy: 0.9765\n",
            "Epoch 2/20\n",
            "388/388 [==============================] - 176s 454ms/step - loss: 0.1831 - accuracy: 0.9468 - val_loss: 0.0870 - val_accuracy: 0.9752\n",
            "Epoch 3/20\n",
            "388/388 [==============================] - 176s 453ms/step - loss: 0.1683 - accuracy: 0.9511 - val_loss: 0.0945 - val_accuracy: 0.9716\n",
            "Epoch 4/20\n",
            "388/388 [==============================] - 176s 453ms/step - loss: 0.1619 - accuracy: 0.9529 - val_loss: 0.1263 - val_accuracy: 0.9585\n",
            "Epoch 5/20\n",
            "388/388 [==============================] - 176s 454ms/step - loss: 0.1553 - accuracy: 0.9542 - val_loss: 0.1245 - val_accuracy: 0.9604\n",
            "Epoch 6/20\n",
            "388/388 [==============================] - 176s 454ms/step - loss: 0.1522 - accuracy: 0.9554 - val_loss: 0.1369 - val_accuracy: 0.9568\n",
            "Epoch 7/20\n",
            "388/388 [==============================] - 176s 454ms/step - loss: 0.1462 - accuracy: 0.9571 - val_loss: 0.1428 - val_accuracy: 0.9547\n",
            "Epoch 8/20\n",
            "388/388 [==============================] - 176s 453ms/step - loss: 0.1443 - accuracy: 0.9568 - val_loss: 0.1615 - val_accuracy: 0.9488\n",
            "Epoch 9/20\n",
            "388/388 [==============================] - 176s 454ms/step - loss: 0.1399 - accuracy: 0.9591 - val_loss: 0.1659 - val_accuracy: 0.9466\n",
            "Epoch 10/20\n",
            "388/388 [==============================] - 176s 454ms/step - loss: 0.1351 - accuracy: 0.9596 - val_loss: 0.1842 - val_accuracy: 0.9423\n",
            "Epoch 11/20\n",
            "388/388 [==============================] - 176s 454ms/step - loss: 0.1337 - accuracy: 0.9608 - val_loss: 0.2154 - val_accuracy: 0.9293\n",
            "Epoch 12/20\n",
            "388/388 [==============================] - 176s 454ms/step - loss: 0.1327 - accuracy: 0.9604 - val_loss: 0.2142 - val_accuracy: 0.9322\n",
            "Epoch 13/20\n",
            "388/388 [==============================] - 176s 454ms/step - loss: 0.1311 - accuracy: 0.9618 - val_loss: 0.2225 - val_accuracy: 0.9296\n",
            "Epoch 14/20\n",
            "388/388 [==============================] - 176s 453ms/step - loss: 0.1283 - accuracy: 0.9621 - val_loss: 0.2346 - val_accuracy: 0.9272\n",
            "Epoch 15/20\n",
            "388/388 [==============================] - 176s 454ms/step - loss: 0.1246 - accuracy: 0.9630 - val_loss: 0.2520 - val_accuracy: 0.9228\n",
            "Epoch 16/20\n",
            "388/388 [==============================] - 176s 454ms/step - loss: 0.1241 - accuracy: 0.9638 - val_loss: 0.2459 - val_accuracy: 0.9223\n",
            "Epoch 17/20\n",
            "388/388 [==============================] - 176s 454ms/step - loss: 0.1247 - accuracy: 0.9633 - val_loss: 0.2922 - val_accuracy: 0.9106\n",
            "Epoch 18/20\n",
            "388/388 [==============================] - 176s 454ms/step - loss: 0.1178 - accuracy: 0.9651 - val_loss: 0.3054 - val_accuracy: 0.9094\n",
            "Epoch 19/20\n",
            "388/388 [==============================] - 176s 454ms/step - loss: 0.1194 - accuracy: 0.9649 - val_loss: 0.2729 - val_accuracy: 0.9165\n",
            "Epoch 20/20\n",
            "388/388 [==============================] - 176s 454ms/step - loss: 0.1195 - accuracy: 0.9649 - val_loss: 0.2949 - val_accuracy: 0.9114\n",
            "690/690 [==============================] - 6s 8ms/step\n",
            "               precision    recall  f1-score   support\n",
            "\n",
            "schizophrenia       0.88      0.84      0.86      1412\n",
            "      anxiety       0.94      0.94      0.94      6874\n",
            "          BPD       0.92      0.84      0.88      3155\n",
            "   depression       0.88      0.96      0.92      6817\n",
            "      bipolar       0.92      0.86      0.89      3262\n",
            "       autism       0.96      0.90      0.93       553\n",
            "\n",
            "     accuracy                           0.91     22073\n",
            "    macro avg       0.92      0.89      0.90     22073\n",
            " weighted avg       0.91      0.91      0.91     22073\n",
            "\n",
            "Accuracy  : 0.911430254156662\n",
            "Precision : 0.9126715462115221\n",
            "F1-score : 0.9110277681371607\n",
            "[[1191   37   35   60   81    8]\n",
            " [  28 6446   33  325   36    6]\n",
            " [  54   80 2651  283   83    4]\n",
            " [  12  168   54 6530   52    1]\n",
            " [  60   81   93  221 2805    2]\n",
            " [   9   22    3   24    0  495]]\n",
            "\n",
            "\n",
            "Results for fold 4\n",
            "Epoch 1/20\n",
            "388/388 [==============================] - 176s 454ms/step - loss: 0.1545 - accuracy: 0.9559 - val_loss: 0.0457 - val_accuracy: 0.9868\n",
            "Epoch 2/20\n",
            "388/388 [==============================] - 176s 454ms/step - loss: 0.1370 - accuracy: 0.9601 - val_loss: 0.0536 - val_accuracy: 0.9847\n",
            "Epoch 3/20\n",
            "388/388 [==============================] - 176s 454ms/step - loss: 0.1302 - accuracy: 0.9614 - val_loss: 0.0607 - val_accuracy: 0.9821\n",
            "Epoch 4/20\n",
            "388/388 [==============================] - 176s 454ms/step - loss: 0.1237 - accuracy: 0.9639 - val_loss: 0.0653 - val_accuracy: 0.9802\n",
            "Epoch 5/20\n",
            "388/388 [==============================] - 176s 454ms/step - loss: 0.1207 - accuracy: 0.9649 - val_loss: 0.0804 - val_accuracy: 0.9735\n",
            "Epoch 6/20\n",
            "388/388 [==============================] - 176s 454ms/step - loss: 0.1177 - accuracy: 0.9656 - val_loss: 0.0832 - val_accuracy: 0.9738\n",
            "Epoch 7/20\n",
            "388/388 [==============================] - 176s 454ms/step - loss: 0.1149 - accuracy: 0.9663 - val_loss: 0.0988 - val_accuracy: 0.9672\n",
            "Epoch 8/20\n",
            "388/388 [==============================] - 176s 454ms/step - loss: 0.1137 - accuracy: 0.9665 - val_loss: 0.1032 - val_accuracy: 0.9653\n",
            "Epoch 9/20\n",
            "388/388 [==============================] - 176s 454ms/step - loss: 0.1114 - accuracy: 0.9670 - val_loss: 0.1035 - val_accuracy: 0.9657\n",
            "Epoch 10/20\n",
            "388/388 [==============================] - 176s 454ms/step - loss: 0.1094 - accuracy: 0.9676 - val_loss: 0.1256 - val_accuracy: 0.9585\n",
            "Epoch 11/20\n",
            "388/388 [==============================] - 176s 454ms/step - loss: 0.1078 - accuracy: 0.9685 - val_loss: 0.1311 - val_accuracy: 0.9569\n",
            "Epoch 12/20\n",
            "388/388 [==============================] - 176s 454ms/step - loss: 0.1064 - accuracy: 0.9686 - val_loss: 0.1347 - val_accuracy: 0.9562\n",
            "Epoch 13/20\n",
            "388/388 [==============================] - 176s 454ms/step - loss: 0.1054 - accuracy: 0.9691 - val_loss: 0.1436 - val_accuracy: 0.9539\n",
            "Epoch 14/20\n",
            "388/388 [==============================] - 176s 454ms/step - loss: 0.1044 - accuracy: 0.9693 - val_loss: 0.1512 - val_accuracy: 0.9499\n",
            "Epoch 15/20\n",
            "388/388 [==============================] - 176s 453ms/step - loss: 0.1032 - accuracy: 0.9695 - val_loss: 0.1639 - val_accuracy: 0.9464\n",
            "Epoch 16/20\n",
            "388/388 [==============================] - 176s 454ms/step - loss: 0.1034 - accuracy: 0.9699 - val_loss: 0.1760 - val_accuracy: 0.9453\n",
            "Epoch 17/20\n",
            "388/388 [==============================] - 176s 453ms/step - loss: 0.0989 - accuracy: 0.9710 - val_loss: 0.1760 - val_accuracy: 0.9448\n",
            "Epoch 18/20\n",
            "388/388 [==============================] - 176s 454ms/step - loss: 0.0982 - accuracy: 0.9710 - val_loss: 0.1867 - val_accuracy: 0.9413\n",
            "Epoch 19/20\n",
            "388/388 [==============================] - 176s 454ms/step - loss: 0.0953 - accuracy: 0.9718 - val_loss: 0.1976 - val_accuracy: 0.9396\n",
            "Epoch 20/20\n",
            "388/388 [==============================] - 176s 454ms/step - loss: 0.0962 - accuracy: 0.9720 - val_loss: 0.2180 - val_accuracy: 0.9332\n",
            "690/690 [==============================] - 6s 9ms/step\n",
            "               precision    recall  f1-score   support\n",
            "\n",
            "schizophrenia       0.92      0.89      0.91      1417\n",
            "      anxiety       0.96      0.95      0.95      6910\n",
            "          BPD       0.94      0.89      0.91      3044\n",
            "   depression       0.90      0.97      0.93      6913\n",
            "      bipolar       0.95      0.89      0.92      3219\n",
            "       autism       0.96      0.90      0.93       570\n",
            "\n",
            "     accuracy                           0.93     22073\n",
            "    macro avg       0.94      0.92      0.93     22073\n",
            " weighted avg       0.93      0.93      0.93     22073\n",
            "\n",
            "Accuracy  : 0.9331762787115481\n",
            "Precision : 0.9342855366784444\n",
            "F1-score : 0.9330601073322469\n",
            "[[1268   25   27   42   48    7]\n",
            " [  20 6556   34  276   18    6]\n",
            " [  16   51 2720  205   45    7]\n",
            " [  15  123   47 6690   36    2]\n",
            " [  45   42   75  206 2850    1]\n",
            " [  11   24    5   16    0  514]]\n",
            "\n",
            "\n",
            "Results for fold 5\n",
            "Epoch 1/20\n",
            "388/388 [==============================] - 178s 459ms/step - loss: 0.1279 - accuracy: 0.9636 - val_loss: 0.0352 - val_accuracy: 0.9921\n",
            "Epoch 2/20\n",
            "388/388 [==============================] - 176s 454ms/step - loss: 0.1151 - accuracy: 0.9666 - val_loss: 0.0385 - val_accuracy: 0.9892\n",
            "Epoch 3/20\n",
            "388/388 [==============================] - 176s 453ms/step - loss: 0.1054 - accuracy: 0.9688 - val_loss: 0.0486 - val_accuracy: 0.9865\n",
            "Epoch 4/20\n",
            "388/388 [==============================] - 176s 454ms/step - loss: 0.1049 - accuracy: 0.9697 - val_loss: 0.0548 - val_accuracy: 0.9831\n",
            "Epoch 5/20\n",
            "388/388 [==============================] - 176s 454ms/step - loss: 0.0978 - accuracy: 0.9713 - val_loss: 0.0525 - val_accuracy: 0.9836\n",
            "Epoch 6/20\n",
            "388/388 [==============================] - 176s 454ms/step - loss: 0.0983 - accuracy: 0.9712 - val_loss: 0.0666 - val_accuracy: 0.9792\n",
            "Epoch 7/20\n",
            "388/388 [==============================] - 176s 455ms/step - loss: 0.0993 - accuracy: 0.9709 - val_loss: 0.0785 - val_accuracy: 0.9739\n",
            "Epoch 8/20\n",
            "388/388 [==============================] - 176s 455ms/step - loss: 0.0978 - accuracy: 0.9712 - val_loss: 0.0779 - val_accuracy: 0.9751\n",
            "Epoch 9/20\n",
            "388/388 [==============================] - 176s 455ms/step - loss: 0.0946 - accuracy: 0.9722 - val_loss: 0.0849 - val_accuracy: 0.9725\n",
            "Epoch 10/20\n",
            "388/388 [==============================] - 176s 455ms/step - loss: 0.0922 - accuracy: 0.9731 - val_loss: 0.0907 - val_accuracy: 0.9706\n",
            "Epoch 11/20\n",
            "388/388 [==============================] - 176s 454ms/step - loss: 0.0927 - accuracy: 0.9727 - val_loss: 0.0914 - val_accuracy: 0.9712\n",
            "Epoch 12/20\n",
            "388/388 [==============================] - 176s 454ms/step - loss: 0.0938 - accuracy: 0.9723 - val_loss: 0.1050 - val_accuracy: 0.9657\n",
            "Epoch 13/20\n",
            "388/388 [==============================] - 176s 454ms/step - loss: 0.0914 - accuracy: 0.9732 - val_loss: 0.1073 - val_accuracy: 0.9655\n",
            "Epoch 14/20\n",
            "388/388 [==============================] - 176s 454ms/step - loss: 0.0876 - accuracy: 0.9745 - val_loss: 0.1209 - val_accuracy: 0.9605\n",
            "Epoch 15/20\n",
            "388/388 [==============================] - 176s 454ms/step - loss: 0.0861 - accuracy: 0.9746 - val_loss: 0.1186 - val_accuracy: 0.9620\n",
            "Epoch 16/20\n",
            "388/388 [==============================] - 176s 454ms/step - loss: 0.0872 - accuracy: 0.9744 - val_loss: 0.1400 - val_accuracy: 0.9542\n",
            "Epoch 17/20\n",
            "388/388 [==============================] - 176s 454ms/step - loss: 0.0869 - accuracy: 0.9742 - val_loss: 0.1384 - val_accuracy: 0.9565\n",
            "Epoch 18/20\n",
            "388/388 [==============================] - 176s 454ms/step - loss: 0.0880 - accuracy: 0.9744 - val_loss: 0.1341 - val_accuracy: 0.9572\n",
            "Epoch 19/20\n",
            "388/388 [==============================] - 176s 454ms/step - loss: 0.0839 - accuracy: 0.9753 - val_loss: 0.1525 - val_accuracy: 0.9517\n",
            "Epoch 20/20\n",
            "388/388 [==============================] - 176s 454ms/step - loss: 0.0850 - accuracy: 0.9752 - val_loss: 0.1516 - val_accuracy: 0.9512\n",
            "690/690 [==============================] - 6s 9ms/step\n",
            "               precision    recall  f1-score   support\n",
            "\n",
            "schizophrenia       0.93      0.92      0.92      1356\n",
            "      anxiety       0.96      0.97      0.97      6795\n",
            "          BPD       0.95      0.92      0.94      2975\n",
            "   depression       0.94      0.96      0.95      6933\n",
            "      bipolar       0.94      0.94      0.94      3402\n",
            "       autism       0.98      0.94      0.96       611\n",
            "\n",
            "     accuracy                           0.95     22072\n",
            "    macro avg       0.95      0.94      0.95     22072\n",
            " weighted avg       0.95      0.95      0.95     22072\n",
            "\n",
            "Accuracy  : 0.951205146792316\n",
            "Precision : 0.9512531602339708\n",
            "F1-score : 0.9511427830724681\n",
            "[[1241   24   14   22   54    1]\n",
            " [  16 6576   25  141   30    7]\n",
            " [  18   40 2734  127   55    1]\n",
            " [  11  136   54 6675   56    1]\n",
            " [  41   28   41   96 3196    0]\n",
            " [  11   17    3    7    0  573]]\n",
            "\n",
            "\n",
            "Results for fold 6\n",
            "Epoch 1/20\n",
            "388/388 [==============================] - 176s 454ms/step - loss: 0.1100 - accuracy: 0.9680 - val_loss: 0.0244 - val_accuracy: 0.9938\n",
            "Epoch 2/20\n",
            "388/388 [==============================] - 176s 455ms/step - loss: 0.0996 - accuracy: 0.9708 - val_loss: 0.0269 - val_accuracy: 0.9930\n",
            "Epoch 3/20\n",
            "388/388 [==============================] - 176s 454ms/step - loss: 0.0965 - accuracy: 0.9713 - val_loss: 0.0311 - val_accuracy: 0.9911\n",
            "Epoch 4/20\n",
            "388/388 [==============================] - 176s 454ms/step - loss: 0.0889 - accuracy: 0.9738 - val_loss: 0.0347 - val_accuracy: 0.9897\n",
            "Epoch 5/20\n",
            "388/388 [==============================] - 176s 454ms/step - loss: 0.0884 - accuracy: 0.9742 - val_loss: 0.0476 - val_accuracy: 0.9851\n",
            "Epoch 6/20\n",
            "388/388 [==============================] - 176s 454ms/step - loss: 0.0846 - accuracy: 0.9749 - val_loss: 0.0473 - val_accuracy: 0.9846\n",
            "Epoch 7/20\n",
            "388/388 [==============================] - 176s 454ms/step - loss: 0.0877 - accuracy: 0.9744 - val_loss: 0.0511 - val_accuracy: 0.9843\n",
            "Epoch 8/20\n",
            "388/388 [==============================] - 176s 454ms/step - loss: 0.0862 - accuracy: 0.9750 - val_loss: 0.0558 - val_accuracy: 0.9831\n",
            "Epoch 9/20\n",
            "388/388 [==============================] - 176s 454ms/step - loss: 0.0847 - accuracy: 0.9749 - val_loss: 0.0580 - val_accuracy: 0.9820\n",
            "Epoch 10/20\n",
            "388/388 [==============================] - 176s 454ms/step - loss: 0.0835 - accuracy: 0.9758 - val_loss: 0.0641 - val_accuracy: 0.9794\n",
            "Epoch 11/20\n",
            "388/388 [==============================] - 176s 454ms/step - loss: 0.0831 - accuracy: 0.9757 - val_loss: 0.0696 - val_accuracy: 0.9779\n",
            "Epoch 12/20\n",
            "388/388 [==============================] - 176s 454ms/step - loss: 0.0796 - accuracy: 0.9769 - val_loss: 0.0764 - val_accuracy: 0.9772\n",
            "Epoch 13/20\n",
            "388/388 [==============================] - 176s 454ms/step - loss: 0.0804 - accuracy: 0.9765 - val_loss: 0.1011 - val_accuracy: 0.9699\n",
            "Epoch 14/20\n",
            "388/388 [==============================] - 176s 454ms/step - loss: 0.0814 - accuracy: 0.9761 - val_loss: 0.0840 - val_accuracy: 0.9737\n",
            "Epoch 15/20\n",
            "388/388 [==============================] - 176s 454ms/step - loss: 0.0796 - accuracy: 0.9766 - val_loss: 0.0892 - val_accuracy: 0.9715\n",
            "Epoch 16/20\n",
            "388/388 [==============================] - 176s 454ms/step - loss: 0.0810 - accuracy: 0.9762 - val_loss: 0.0923 - val_accuracy: 0.9701\n",
            "Epoch 17/20\n",
            "388/388 [==============================] - 176s 455ms/step - loss: 0.0803 - accuracy: 0.9764 - val_loss: 0.1021 - val_accuracy: 0.9670\n",
            "Epoch 18/20\n",
            "388/388 [==============================] - 176s 454ms/step - loss: 0.0768 - accuracy: 0.9775 - val_loss: 0.1089 - val_accuracy: 0.9669\n",
            "Epoch 19/20\n",
            "388/388 [==============================] - 176s 454ms/step - loss: 0.0772 - accuracy: 0.9778 - val_loss: 0.1239 - val_accuracy: 0.9618\n",
            "Epoch 20/20\n",
            "388/388 [==============================] - 176s 454ms/step - loss: 0.0743 - accuracy: 0.9783 - val_loss: 0.1299 - val_accuracy: 0.9619\n",
            "690/690 [==============================] - 6s 8ms/step\n",
            "               precision    recall  f1-score   support\n",
            "\n",
            "schizophrenia       0.94      0.94      0.94      1378\n",
            "      anxiety       0.97      0.98      0.97      6998\n",
            "          BPD       0.94      0.96      0.95      2955\n",
            "   depression       0.96      0.97      0.96      6853\n",
            "      bipolar       0.99      0.91      0.95      3309\n",
            "       autism       0.97      0.97      0.97       579\n",
            "\n",
            "     accuracy                           0.96     22072\n",
            "    macro avg       0.96      0.96      0.96     22072\n",
            " weighted avg       0.96      0.96      0.96     22072\n",
            "\n",
            "Accuracy  : 0.9618974266038419\n",
            "Precision : 0.9622040684157228\n",
            "F1-score : 0.961811956681395\n",
            "[[1299   18   19   24   17    1]\n",
            " [  12 6837   19  115    6    9]\n",
            " [  15   33 2837   59   10    1]\n",
            " [   9  113   42 6671   13    5]\n",
            " [  41   53   84  106 3024    1]\n",
            " [   5    5    3    3    0  563]]\n",
            "\n",
            "\n",
            "Results for fold 7\n",
            "Epoch 1/20\n",
            "388/388 [==============================] - 176s 455ms/step - loss: 0.0983 - accuracy: 0.9723 - val_loss: 0.0220 - val_accuracy: 0.9945\n",
            "Epoch 2/20\n",
            "388/388 [==============================] - 176s 454ms/step - loss: 0.0875 - accuracy: 0.9740 - val_loss: 0.0219 - val_accuracy: 0.9937\n",
            "Epoch 3/20\n",
            "388/388 [==============================] - 176s 454ms/step - loss: 0.0833 - accuracy: 0.9758 - val_loss: 0.0264 - val_accuracy: 0.9927\n",
            "Epoch 4/20\n",
            "388/388 [==============================] - 176s 454ms/step - loss: 0.0819 - accuracy: 0.9763 - val_loss: 0.0302 - val_accuracy: 0.9915\n",
            "Epoch 5/20\n",
            "388/388 [==============================] - 176s 454ms/step - loss: 0.0781 - accuracy: 0.9769 - val_loss: 0.0337 - val_accuracy: 0.9910\n",
            "Epoch 6/20\n",
            "388/388 [==============================] - 176s 454ms/step - loss: 0.0777 - accuracy: 0.9772 - val_loss: 0.0374 - val_accuracy: 0.9886\n",
            "Epoch 7/20\n",
            "388/388 [==============================] - 176s 454ms/step - loss: 0.0777 - accuracy: 0.9773 - val_loss: 0.0427 - val_accuracy: 0.9873\n",
            "Epoch 8/20\n",
            "388/388 [==============================] - 176s 454ms/step - loss: 0.0760 - accuracy: 0.9781 - val_loss: 0.0427 - val_accuracy: 0.9866\n",
            "Epoch 9/20\n",
            "388/388 [==============================] - 176s 454ms/step - loss: 0.0735 - accuracy: 0.9787 - val_loss: 0.0465 - val_accuracy: 0.9855\n",
            "Epoch 10/20\n",
            "388/388 [==============================] - 176s 454ms/step - loss: 0.0746 - accuracy: 0.9783 - val_loss: 0.0585 - val_accuracy: 0.9815\n",
            "Epoch 11/20\n",
            "388/388 [==============================] - 176s 454ms/step - loss: 0.0742 - accuracy: 0.9782 - val_loss: 0.0556 - val_accuracy: 0.9822\n",
            "Epoch 12/20\n",
            "388/388 [==============================] - 176s 454ms/step - loss: 0.0701 - accuracy: 0.9790 - val_loss: 0.0591 - val_accuracy: 0.9816\n",
            "Epoch 13/20\n",
            "388/388 [==============================] - 176s 454ms/step - loss: 0.0708 - accuracy: 0.9795 - val_loss: 0.0646 - val_accuracy: 0.9788\n",
            "Epoch 14/20\n",
            "388/388 [==============================] - 176s 454ms/step - loss: 0.0714 - accuracy: 0.9796 - val_loss: 0.0693 - val_accuracy: 0.9776\n",
            "Epoch 15/20\n",
            "388/388 [==============================] - 176s 454ms/step - loss: 0.0719 - accuracy: 0.9793 - val_loss: 0.0755 - val_accuracy: 0.9755\n",
            "Epoch 16/20\n",
            "388/388 [==============================] - 176s 454ms/step - loss: 0.0711 - accuracy: 0.9794 - val_loss: 0.0863 - val_accuracy: 0.9731\n",
            "Epoch 17/20\n",
            "388/388 [==============================] - 176s 453ms/step - loss: 0.0709 - accuracy: 0.9794 - val_loss: 0.0811 - val_accuracy: 0.9754\n",
            "Epoch 18/20\n",
            "388/388 [==============================] - 176s 454ms/step - loss: 0.0672 - accuracy: 0.9802 - val_loss: 0.0861 - val_accuracy: 0.9738\n",
            "Epoch 19/20\n",
            "388/388 [==============================] - 176s 454ms/step - loss: 0.0696 - accuracy: 0.9797 - val_loss: 0.0929 - val_accuracy: 0.9700\n",
            "Epoch 20/20\n",
            "388/388 [==============================] - 176s 454ms/step - loss: 0.0698 - accuracy: 0.9799 - val_loss: 0.0981 - val_accuracy: 0.9685\n",
            "690/690 [==============================] - 6s 8ms/step\n",
            "               precision    recall  f1-score   support\n",
            "\n",
            "schizophrenia       0.95      0.94      0.95      1378\n",
            "      anxiety       0.98      0.98      0.98      6913\n",
            "          BPD       0.96      0.96      0.96      3081\n",
            "   depression       0.96      0.98      0.97      6918\n",
            "      bipolar       0.98      0.93      0.96      3255\n",
            "       autism       0.98      0.98      0.98       527\n",
            "\n",
            "     accuracy                           0.97     22072\n",
            "    macro avg       0.97      0.96      0.97     22072\n",
            " weighted avg       0.97      0.97      0.97     22072\n",
            "\n",
            "Accuracy  : 0.968512142080464\n",
            "Precision : 0.9687179089167693\n",
            "F1-score : 0.9684589424295432\n",
            "[[1296   15   26   15   23    3]\n",
            " [  12 6759   19  109   10    4]\n",
            " [  17   22 2956   69   15    2]\n",
            " [   3   62   30 6811   12    0]\n",
            " [  26   30   42  118 3039    0]\n",
            " [   4    1    2    4    0  516]]\n",
            "\n",
            "\n",
            "Results for fold 8\n",
            "Epoch 1/20\n",
            "388/388 [==============================] - 176s 454ms/step - loss: 0.0862 - accuracy: 0.9755 - val_loss: 0.0194 - val_accuracy: 0.9952\n",
            "Epoch 2/20\n",
            "388/388 [==============================] - 176s 454ms/step - loss: 0.0801 - accuracy: 0.9763 - val_loss: 0.0175 - val_accuracy: 0.9957\n",
            "Epoch 3/20\n",
            "388/388 [==============================] - 176s 454ms/step - loss: 0.0748 - accuracy: 0.9782 - val_loss: 0.0205 - val_accuracy: 0.9940\n",
            "Epoch 4/20\n",
            "388/388 [==============================] - 176s 454ms/step - loss: 0.0728 - accuracy: 0.9788 - val_loss: 0.0237 - val_accuracy: 0.9932\n",
            "Epoch 5/20\n",
            "388/388 [==============================] - 176s 454ms/step - loss: 0.0731 - accuracy: 0.9784 - val_loss: 0.0258 - val_accuracy: 0.9928\n",
            "Epoch 6/20\n",
            "388/388 [==============================] - 176s 454ms/step - loss: 0.0710 - accuracy: 0.9792 - val_loss: 0.0292 - val_accuracy: 0.9914\n",
            "Epoch 7/20\n",
            "388/388 [==============================] - 176s 454ms/step - loss: 0.0687 - accuracy: 0.9799 - val_loss: 0.0322 - val_accuracy: 0.9905\n",
            "Epoch 8/20\n",
            "388/388 [==============================] - 176s 454ms/step - loss: 0.0672 - accuracy: 0.9805 - val_loss: 0.0351 - val_accuracy: 0.9894\n",
            "Epoch 9/20\n",
            "388/388 [==============================] - 176s 454ms/step - loss: 0.0706 - accuracy: 0.9795 - val_loss: 0.0382 - val_accuracy: 0.9878\n",
            "Epoch 10/20\n",
            "388/388 [==============================] - 176s 454ms/step - loss: 0.0704 - accuracy: 0.9795 - val_loss: 0.0388 - val_accuracy: 0.9875\n",
            "Epoch 11/20\n",
            "388/388 [==============================] - 176s 454ms/step - loss: 0.0697 - accuracy: 0.9801 - val_loss: 0.0447 - val_accuracy: 0.9855\n",
            "Epoch 12/20\n",
            "388/388 [==============================] - 176s 454ms/step - loss: 0.0675 - accuracy: 0.9804 - val_loss: 0.0502 - val_accuracy: 0.9838\n",
            "Epoch 13/20\n",
            "388/388 [==============================] - 176s 454ms/step - loss: 0.0669 - accuracy: 0.9806 - val_loss: 0.0574 - val_accuracy: 0.9810\n",
            "Epoch 14/20\n",
            "388/388 [==============================] - 176s 454ms/step - loss: 0.0673 - accuracy: 0.9801 - val_loss: 0.0598 - val_accuracy: 0.9814\n",
            "Epoch 15/20\n",
            "388/388 [==============================] - 176s 455ms/step - loss: 0.0684 - accuracy: 0.9806 - val_loss: 0.0583 - val_accuracy: 0.9818\n",
            "Epoch 16/20\n",
            "388/388 [==============================] - 176s 454ms/step - loss: 0.0646 - accuracy: 0.9817 - val_loss: 0.0640 - val_accuracy: 0.9803\n",
            "Epoch 17/20\n",
            "388/388 [==============================] - 176s 454ms/step - loss: 0.0653 - accuracy: 0.9809 - val_loss: 0.0639 - val_accuracy: 0.9795\n",
            "Epoch 18/20\n",
            "388/388 [==============================] - 176s 454ms/step - loss: 0.0636 - accuracy: 0.9815 - val_loss: 0.0722 - val_accuracy: 0.9769\n",
            "Epoch 19/20\n",
            "388/388 [==============================] - 176s 454ms/step - loss: 0.0655 - accuracy: 0.9813 - val_loss: 0.0729 - val_accuracy: 0.9777\n",
            "Epoch 20/20\n",
            "388/388 [==============================] - 176s 454ms/step - loss: 0.0644 - accuracy: 0.9814 - val_loss: 0.0810 - val_accuracy: 0.9737\n",
            "690/690 [==============================] - 6s 8ms/step\n",
            "               precision    recall  f1-score   support\n",
            "\n",
            "schizophrenia       0.95      0.97      0.96      1388\n",
            "      anxiety       0.98      0.98      0.98      6934\n",
            "          BPD       0.98      0.96      0.97      3080\n",
            "   depression       0.96      0.99      0.97      6816\n",
            "      bipolar       0.98      0.95      0.97      3291\n",
            "       autism       0.98      0.98      0.98       563\n",
            "\n",
            "     accuracy                           0.97     22072\n",
            "    macro avg       0.97      0.97      0.97     22072\n",
            " weighted avg       0.97      0.97      0.97     22072\n",
            "\n",
            "Accuracy  : 0.9736770569046757\n",
            "Precision : 0.9738931416133024\n",
            "F1-score : 0.9736610742372502\n",
            "[[1347    5   10   15   10    1]\n",
            " [  16 6780    9  114    8    7]\n",
            " [  13   26 2970   57   13    1]\n",
            " [   3   48   15 6730   17    3]\n",
            " [  34   33   31   78 3115    0]\n",
            " [   2    5    2    5    0  549]]\n",
            "\n",
            "\n",
            "Results for fold 9\n"
          ]
        }
      ]
    },
    {
      "cell_type": "code",
      "source": [
        "#exporting the trained model file\n",
        "import pickle\n",
        "\n",
        "with open ('/content/drive/MyDrive/Colab Notebooks/Mental Health/Final_k-fold_cnn_modified_pkl_file.pkl', 'wb') as f:\n",
        "  pickle.dump(model, f)"
      ],
      "metadata": {
        "id": "gLWuGU9nvMmi"
      },
      "execution_count": null,
      "outputs": []
    },
    {
      "cell_type": "code",
      "source": [
        "history_dict = history.history\n",
        "acc = history_dict['accuracy']\n",
        "val_acc = history_dict['val_accuracy']\n",
        "loss = history_dict['loss']\n",
        "val_loss = history_dict['val_loss']\n",
        "epochs = history.epoch\n",
        "\n",
        "plt.figure(figsize=(9,6))\n",
        "plt.plot(epochs, loss, 'r', label='Training loss')\n",
        "plt.plot(epochs, val_loss, 'b', label='Validation loss')\n",
        "plt.title('Training and validation loss', size=10)\n",
        "plt.xlabel('Epochs', size=20)\n",
        "plt.ylabel('Loss', size=20)\n",
        "plt.legend(prop={'size': 10})\n",
        "plt.show()\n",
        "\n",
        "plt.figure(figsize=(9,6))\n",
        "plt.plot(epochs, acc, 'r', label='Training accuracy')\n",
        "plt.plot(epochs, val_acc, 'b', label='Validation accuracy')\n",
        "plt.title('Training and validation accuracy', size=10)\n",
        "plt.xlabel('Epochs', size=20)\n",
        "plt.ylabel('Accuracy', size=20)\n",
        "plt.legend(prop={'size': 10})\n",
        "plt.ylim((0.5,1))\n",
        "plt.show()"
      ],
      "metadata": {
        "id": "WPrElCxAhnus"
      },
      "execution_count": null,
      "outputs": []
    },
    {
      "cell_type": "code",
      "source": [
        "y_pred = model.predict(x_test)"
      ],
      "metadata": {
        "id": "9sCVrqLZhiuO"
      },
      "execution_count": null,
      "outputs": []
    },
    {
      "cell_type": "code",
      "source": [
        "#preparing y\n",
        "\n",
        "from sklearn.preprocessing import LabelEncoder\n",
        "from tensorflow.keras.utils import to_categorical\n",
        "\n",
        "le = LabelEncoder()\n",
        "labelEncode = le.fit_transform(data[\"Category\"])\n",
        "print(\"LabelEncode\")\n",
        "print(labelEncode)\n",
        "categorical_y = to_categorical(labelEncode)\n",
        "print(\"To_Categorical\")\n",
        "print(categorical_y)"
      ],
      "metadata": {
        "id": "w2epDjY4uwWQ"
      },
      "execution_count": null,
      "outputs": []
    },
    {
      "cell_type": "code",
      "source": [
        "from sklearn.metrics import accuracy_score, confusion_matrix\n",
        "import seaborn as sns\n",
        "cnn_accuracy = accuracy_score(y_test.argmax(axis=-1),y_pred.argmax(axis=-1))\n",
        "#print(\"CNN Accuracy:\",cnn_accuracy)\n",
        "cnn_cn = confusion_matrix(y_test.argmax(axis=-1),y_pred.argmax(axis=-1))\n",
        "plt.subplots(figsize=(10,6))\n",
        "sns.heatmap(cnn_cn,annot=True,fmt=\"1d\",cbar=False,xticklabels=le.classes_,yticklabels=le.classes_)\n",
        "plt.title(\"CNN Accuracy: {}\".format(cnn_accuracy),fontsize=50)\n",
        "plt.xlabel(\"Predicted\",fontsize=15)\n",
        "plt.ylabel(\"Actual\",fontsize=15)\n",
        "plt.show()"
      ],
      "metadata": {
        "id": "IPbmD35shlIk"
      },
      "execution_count": null,
      "outputs": []
    }
  ]
}
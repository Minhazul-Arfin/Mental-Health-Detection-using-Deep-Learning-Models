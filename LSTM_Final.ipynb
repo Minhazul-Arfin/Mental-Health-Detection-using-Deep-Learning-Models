{
  "nbformat": 4,
  "nbformat_minor": 0,
  "metadata": {
    "colab": {
      "provenance": [],
      "collapsed_sections": [],
      "machine_shape": "hm"
    },
    "kernelspec": {
      "name": "python3",
      "display_name": "Python 3"
    },
    "language_info": {
      "name": "python"
    },
    "gpuClass": "standard",
    "accelerator": "GPU"
  },
  "cells": [
    {
      "cell_type": "code",
      "source": [
        "!pip install chart-studio --quiet"
      ],
      "metadata": {
        "colab": {
          "base_uri": "https://localhost:8080/"
        },
        "id": "Rq1DHU4MYriO",
        "outputId": "8610a8f0-847b-4bb4-8f06-9cd5f52695d6"
      },
      "execution_count": 1,
      "outputs": [
        {
          "output_type": "stream",
          "name": "stdout",
          "text": [
            "\u001b[?25l\r\u001b[K     |█████                           | 10 kB 27.9 MB/s eta 0:00:01\r\u001b[K     |██████████▏                     | 20 kB 29.9 MB/s eta 0:00:01\r\u001b[K     |███████████████▎                | 30 kB 27.6 MB/s eta 0:00:01\r\u001b[K     |████████████████████▍           | 40 kB 14.9 MB/s eta 0:00:01\r\u001b[K     |█████████████████████████▍      | 51 kB 17.2 MB/s eta 0:00:01\r\u001b[K     |██████████████████████████████▌ | 61 kB 16.4 MB/s eta 0:00:01\r\u001b[K     |████████████████████████████████| 64 kB 3.1 MB/s \n",
            "\u001b[?25h  Building wheel for retrying (setup.py) ... \u001b[?25l\u001b[?25hdone\n"
          ]
        }
      ]
    },
    {
      "cell_type": "code",
      "source": [
        "import numpy as np \n",
        "import pandas as pd\n",
        "import matplotlib.pyplot as plt\n",
        "import seaborn as sns\n",
        "from keras.preprocessing.text import Tokenizer\n",
        "from keras_preprocessing.sequence import pad_sequences\n",
        "from keras.models import Sequential\n",
        "from keras.layers import Dense, Embedding, LSTM, SpatialDropout1D\n",
        "from sklearn.model_selection import train_test_split\n",
        "from keras.utils.np_utils import to_categorical\n",
        "from keras.callbacks import EarlyStopping\n",
        "from keras.layers import Dropout\n",
        "import re\n",
        "from nltk.corpus import stopwords\n",
        "import nltk\n",
        "nltk.download('stopwords')\n",
        "from bs4 import BeautifulSoup\n",
        "import plotly.graph_objs as go\n",
        "from chart_studio import plotly\n",
        "import cufflinks\n",
        "from IPython.core.interactiveshell import InteractiveShell\n",
        "import plotly.figure_factory as ff\n",
        "InteractiveShell.ast_node_interactivity = 'all'\n",
        "from plotly.offline import iplot\n",
        "cufflinks.go_offline()\n",
        "cufflinks.set_config_file(world_readable=True, theme='pearl')\n",
        "import nltk\n",
        "nltk.download('stopwords')"
      ],
      "metadata": {
        "colab": {
          "base_uri": "https://localhost:8080/",
          "height": 107
        },
        "id": "cVs2znmD3hTY",
        "outputId": "c90bb731-b1d0-4aaf-d4cd-94e0f86f26c6"
      },
      "execution_count": 2,
      "outputs": [
        {
          "output_type": "stream",
          "name": "stderr",
          "text": [
            "[nltk_data] Downloading package stopwords to /root/nltk_data...\n",
            "[nltk_data]   Unzipping corpora/stopwords.zip.\n"
          ]
        },
        {
          "output_type": "display_data",
          "data": {
            "text/html": [
              "        <script type=\"text/javascript\">\n",
              "        window.PlotlyConfig = {MathJaxConfig: 'local'};\n",
              "        if (window.MathJax) {MathJax.Hub.Config({SVG: {font: \"STIX-Web\"}});}\n",
              "        if (typeof require !== 'undefined') {\n",
              "        require.undef(\"plotly\");\n",
              "        requirejs.config({\n",
              "            paths: {\n",
              "                'plotly': ['https://cdn.plot.ly/plotly-2.8.3.min']\n",
              "            }\n",
              "        });\n",
              "        require(['plotly'], function(Plotly) {\n",
              "            window._Plotly = Plotly;\n",
              "        });\n",
              "        }\n",
              "        </script>\n",
              "        "
            ]
          },
          "metadata": {}
        },
        {
          "output_type": "stream",
          "name": "stderr",
          "text": [
            "[nltk_data] Downloading package stopwords to /root/nltk_data...\n",
            "[nltk_data]   Package stopwords is already up-to-date!\n"
          ]
        },
        {
          "output_type": "execute_result",
          "data": {
            "text/plain": [
              "True"
            ]
          },
          "metadata": {},
          "execution_count": 2
        }
      ]
    },
    {
      "cell_type": "code",
      "source": [
        "from google.colab import drive\n",
        "drive.mount('/content/drive')"
      ],
      "metadata": {
        "colab": {
          "base_uri": "https://localhost:8080/"
        },
        "id": "te57yUaU30RX",
        "outputId": "e396405c-0255-47aa-cdf5-1a4a2941759f"
      },
      "execution_count": 3,
      "outputs": [
        {
          "output_type": "stream",
          "name": "stdout",
          "text": [
            "Mounted at /content/drive\n"
          ]
        }
      ]
    },
    {
      "cell_type": "code",
      "source": [
        "df = pd.read_csv(\"/content/drive/MyDrive/Colab Notebooks/Mental Health/Mental-health-related-subreddits-modified.csv\")\n",
        "df.head()"
      ],
      "metadata": {
        "colab": {
          "base_uri": "https://localhost:8080/",
          "height": 206
        },
        "id": "pzKg8uwh4An5",
        "outputId": "c676c581-f5e1-4246-d6ab-6d0ddec63b70"
      },
      "execution_count": 4,
      "outputs": [
        {
          "output_type": "execute_result",
          "data": {
            "text/plain": [
              "                                             Content       Category  label\n",
              "0  guys the civil war movies and games. keep givi...  schizophrenia      0\n",
              "1  What do I have? Hi everyone, I just found this...        anxiety      1\n",
              "2  Buster from Arthur... A possibly random and we...  schizophrenia      0\n",
              "3  anxiety attack at the movies I took about 50mg...        anxiety      1\n",
              "4  Today’s reflections on depression I don’t know...            BPD      2"
            ],
            "text/html": [
              "\n",
              "  <div id=\"df-0036d17a-0bcc-4042-a108-542457299dec\">\n",
              "    <div class=\"colab-df-container\">\n",
              "      <div>\n",
              "<style scoped>\n",
              "    .dataframe tbody tr th:only-of-type {\n",
              "        vertical-align: middle;\n",
              "    }\n",
              "\n",
              "    .dataframe tbody tr th {\n",
              "        vertical-align: top;\n",
              "    }\n",
              "\n",
              "    .dataframe thead th {\n",
              "        text-align: right;\n",
              "    }\n",
              "</style>\n",
              "<table border=\"1\" class=\"dataframe\">\n",
              "  <thead>\n",
              "    <tr style=\"text-align: right;\">\n",
              "      <th></th>\n",
              "      <th>Content</th>\n",
              "      <th>Category</th>\n",
              "      <th>label</th>\n",
              "    </tr>\n",
              "  </thead>\n",
              "  <tbody>\n",
              "    <tr>\n",
              "      <th>0</th>\n",
              "      <td>guys the civil war movies and games. keep givi...</td>\n",
              "      <td>schizophrenia</td>\n",
              "      <td>0</td>\n",
              "    </tr>\n",
              "    <tr>\n",
              "      <th>1</th>\n",
              "      <td>What do I have? Hi everyone, I just found this...</td>\n",
              "      <td>anxiety</td>\n",
              "      <td>1</td>\n",
              "    </tr>\n",
              "    <tr>\n",
              "      <th>2</th>\n",
              "      <td>Buster from Arthur... A possibly random and we...</td>\n",
              "      <td>schizophrenia</td>\n",
              "      <td>0</td>\n",
              "    </tr>\n",
              "    <tr>\n",
              "      <th>3</th>\n",
              "      <td>anxiety attack at the movies I took about 50mg...</td>\n",
              "      <td>anxiety</td>\n",
              "      <td>1</td>\n",
              "    </tr>\n",
              "    <tr>\n",
              "      <th>4</th>\n",
              "      <td>Today’s reflections on depression I don’t know...</td>\n",
              "      <td>BPD</td>\n",
              "      <td>2</td>\n",
              "    </tr>\n",
              "  </tbody>\n",
              "</table>\n",
              "</div>\n",
              "      <button class=\"colab-df-convert\" onclick=\"convertToInteractive('df-0036d17a-0bcc-4042-a108-542457299dec')\"\n",
              "              title=\"Convert this dataframe to an interactive table.\"\n",
              "              style=\"display:none;\">\n",
              "        \n",
              "  <svg xmlns=\"http://www.w3.org/2000/svg\" height=\"24px\"viewBox=\"0 0 24 24\"\n",
              "       width=\"24px\">\n",
              "    <path d=\"M0 0h24v24H0V0z\" fill=\"none\"/>\n",
              "    <path d=\"M18.56 5.44l.94 2.06.94-2.06 2.06-.94-2.06-.94-.94-2.06-.94 2.06-2.06.94zm-11 1L8.5 8.5l.94-2.06 2.06-.94-2.06-.94L8.5 2.5l-.94 2.06-2.06.94zm10 10l.94 2.06.94-2.06 2.06-.94-2.06-.94-.94-2.06-.94 2.06-2.06.94z\"/><path d=\"M17.41 7.96l-1.37-1.37c-.4-.4-.92-.59-1.43-.59-.52 0-1.04.2-1.43.59L10.3 9.45l-7.72 7.72c-.78.78-.78 2.05 0 2.83L4 21.41c.39.39.9.59 1.41.59.51 0 1.02-.2 1.41-.59l7.78-7.78 2.81-2.81c.8-.78.8-2.07 0-2.86zM5.41 20L4 18.59l7.72-7.72 1.47 1.35L5.41 20z\"/>\n",
              "  </svg>\n",
              "      </button>\n",
              "      \n",
              "  <style>\n",
              "    .colab-df-container {\n",
              "      display:flex;\n",
              "      flex-wrap:wrap;\n",
              "      gap: 12px;\n",
              "    }\n",
              "\n",
              "    .colab-df-convert {\n",
              "      background-color: #E8F0FE;\n",
              "      border: none;\n",
              "      border-radius: 50%;\n",
              "      cursor: pointer;\n",
              "      display: none;\n",
              "      fill: #1967D2;\n",
              "      height: 32px;\n",
              "      padding: 0 0 0 0;\n",
              "      width: 32px;\n",
              "    }\n",
              "\n",
              "    .colab-df-convert:hover {\n",
              "      background-color: #E2EBFA;\n",
              "      box-shadow: 0px 1px 2px rgba(60, 64, 67, 0.3), 0px 1px 3px 1px rgba(60, 64, 67, 0.15);\n",
              "      fill: #174EA6;\n",
              "    }\n",
              "\n",
              "    [theme=dark] .colab-df-convert {\n",
              "      background-color: #3B4455;\n",
              "      fill: #D2E3FC;\n",
              "    }\n",
              "\n",
              "    [theme=dark] .colab-df-convert:hover {\n",
              "      background-color: #434B5C;\n",
              "      box-shadow: 0px 1px 3px 1px rgba(0, 0, 0, 0.15);\n",
              "      filter: drop-shadow(0px 1px 2px rgba(0, 0, 0, 0.3));\n",
              "      fill: #FFFFFF;\n",
              "    }\n",
              "  </style>\n",
              "\n",
              "      <script>\n",
              "        const buttonEl =\n",
              "          document.querySelector('#df-0036d17a-0bcc-4042-a108-542457299dec button.colab-df-convert');\n",
              "        buttonEl.style.display =\n",
              "          google.colab.kernel.accessAllowed ? 'block' : 'none';\n",
              "\n",
              "        async function convertToInteractive(key) {\n",
              "          const element = document.querySelector('#df-0036d17a-0bcc-4042-a108-542457299dec');\n",
              "          const dataTable =\n",
              "            await google.colab.kernel.invokeFunction('convertToInteractive',\n",
              "                                                     [key], {});\n",
              "          if (!dataTable) return;\n",
              "\n",
              "          const docLinkHtml = 'Like what you see? Visit the ' +\n",
              "            '<a target=\"_blank\" href=https://colab.research.google.com/notebooks/data_table.ipynb>data table notebook</a>'\n",
              "            + ' to learn more about interactive tables.';\n",
              "          element.innerHTML = '';\n",
              "          dataTable['output_type'] = 'display_data';\n",
              "          await google.colab.output.renderOutput(dataTable, element);\n",
              "          const docLink = document.createElement('div');\n",
              "          docLink.innerHTML = docLinkHtml;\n",
              "          element.appendChild(docLink);\n",
              "        }\n",
              "      </script>\n",
              "    </div>\n",
              "  </div>\n",
              "  "
            ]
          },
          "metadata": {},
          "execution_count": 4
        }
      ]
    },
    {
      "cell_type": "code",
      "source": [
        "df.Category.value_counts()"
      ],
      "metadata": {
        "colab": {
          "base_uri": "https://localhost:8080/"
        },
        "id": "_89yGHkB4E9P",
        "outputId": "38f1ba6a-b376-4d9f-8d64-6e25e39c5880"
      },
      "execution_count": 5,
      "outputs": [
        {
          "output_type": "execute_result",
          "data": {
            "text/plain": [
              "anxiety          86132\n",
              "depression       85994\n",
              "bipolar          41052\n",
              "BPD              38137\n",
              "schizophrenia    17459\n",
              "autism            7132\n",
              "Name: Category, dtype: int64"
            ]
          },
          "metadata": {},
          "execution_count": 5
        }
      ]
    },
    {
      "cell_type": "code",
      "source": [
        "df.shape"
      ],
      "metadata": {
        "colab": {
          "base_uri": "https://localhost:8080/"
        },
        "id": "dWm1W3Pm6j4l",
        "outputId": "1ec5dcad-a01c-4968-e245-150ccb0285ae"
      },
      "execution_count": 6,
      "outputs": [
        {
          "output_type": "execute_result",
          "data": {
            "text/plain": [
              "(275906, 3)"
            ]
          },
          "metadata": {},
          "execution_count": 6
        }
      ]
    },
    {
      "cell_type": "code",
      "source": [
        "import seaborn as sns\n",
        "import matplotlib.pyplot as plt\n",
        "\n",
        "plt.figure(figsize=(10, 6))\n",
        "sns.countplot(x = 'Category', data=df)"
      ],
      "metadata": {
        "colab": {
          "base_uri": "https://localhost:8080/",
          "height": 406
        },
        "id": "xblS-nMr7Df9",
        "outputId": "513a8937-0c0d-4886-9663-74e7bc5716bd"
      },
      "execution_count": 7,
      "outputs": [
        {
          "output_type": "execute_result",
          "data": {
            "text/plain": [
              "<Figure size 720x432 with 0 Axes>"
            ]
          },
          "metadata": {},
          "execution_count": 7
        },
        {
          "output_type": "execute_result",
          "data": {
            "text/plain": [
              "<matplotlib.axes._subplots.AxesSubplot at 0x7fbe23dacbd0>"
            ]
          },
          "metadata": {},
          "execution_count": 7
        },
        {
          "output_type": "display_data",
          "data": {
            "text/plain": [
              "<Figure size 720x432 with 1 Axes>"
            ],
            "image/png": "[encoded data removed]"
          },
          "metadata": {
            "needs_background": "light"
          }
        }
      ]
    },
    {
      "cell_type": "code",
      "source": [
        "import nltk\n",
        "nltk.download('punkt')"
      ],
      "metadata": {
        "colab": {
          "base_uri": "https://localhost:8080/"
        },
        "id": "2rRi6agZ8ABO",
        "outputId": "9b862cc5-09d4-495e-cc48-a893634feebd"
      },
      "execution_count": 8,
      "outputs": [
        {
          "output_type": "stream",
          "name": "stderr",
          "text": [
            "[nltk_data] Downloading package punkt to /root/nltk_data...\n",
            "[nltk_data]   Unzipping tokenizers/punkt.zip.\n"
          ]
        },
        {
          "output_type": "execute_result",
          "data": {
            "text/plain": [
              "True"
            ]
          },
          "metadata": {},
          "execution_count": 8
        }
      ]
    },
    {
      "cell_type": "code",
      "source": [
        "def print_plot(index):\n",
        "    example = df[df.index == index][['Content', 'Category']].values[0]\n",
        "    if len(example) > 0:\n",
        "        print(example[0])\n",
        "        print('Product:', example[1])"
      ],
      "metadata": {
        "id": "0wKMJ0EY4WX5"
      },
      "execution_count": 9,
      "outputs": []
    },
    {
      "cell_type": "code",
      "source": [
        "print_plot(50)"
      ],
      "metadata": {
        "colab": {
          "base_uri": "https://localhost:8080/"
        },
        "id": "DLQuzIY342Pf",
        "outputId": "21800931-a546-4ae3-cac3-00147697a164"
      },
      "execution_count": 10,
      "outputs": [
        {
          "output_type": "stream",
          "name": "stdout",
          "text": [
            "Depressing Christmas Eve My mom had chemotherapy today and turns out the cancer she had was the most aggressive type there is and that it spreads the fastest. So it puts me and my brother at risk later in life and i know i shouldn't think about it now but it sucks to know. I also have to deal with my brother's pressuring into watching a movie and the unnecessary grumpiness and whinning of my dad. My mom's case just makes me feel like a shitty daughter and like i don't support her enough. It doesn't help that my dad doesn't even emotionally support her. This sucks.\n",
            "Product: depression\n"
          ]
        }
      ]
    },
    {
      "cell_type": "code",
      "source": [
        "df = df.reset_index(drop=True)\n",
        "REPLACE_BY_SPACE_RE = re.compile('[/(){}\\[\\]\\|@,;]')\n",
        "BAD_SYMBOLS_RE = re.compile('[^0-9a-z #+_]')\n",
        "STOPWORDS = set(stopwords.words('english'))\n",
        "\n",
        "def clean_text(text):\n",
        "    text = text.lower()\n",
        "    text = REPLACE_BY_SPACE_RE.sub(' ', text)\n",
        "    text = BAD_SYMBOLS_RE.sub('', text) \n",
        "    text = text.replace('x', '')\n",
        "    text = ' '.join(word for word in text.split() if word not in STOPWORDS)\n",
        "    return text\n",
        "df['Content'] = df['Content'].apply(clean_text)"
      ],
      "metadata": {
        "id": "i1ApQetO45cW"
      },
      "execution_count": 11,
      "outputs": []
    },
    {
      "cell_type": "code",
      "source": [
        "df['Content'] = df['Content'].str.replace('\\d+', '')"
      ],
      "metadata": {
        "colab": {
          "base_uri": "https://localhost:8080/"
        },
        "id": "b1fmoAuH45Zu",
        "outputId": "3af84049-571f-43fd-882e-6f05f296f128"
      },
      "execution_count": 12,
      "outputs": [
        {
          "output_type": "stream",
          "name": "stderr",
          "text": [
            "/usr/local/lib/python3.7/dist-packages/ipykernel_launcher.py:1: FutureWarning:\n",
            "\n",
            "The default value of regex will change from True to False in a future version.\n",
            "\n"
          ]
        }
      ]
    },
    {
      "cell_type": "code",
      "source": [
        "print_plot(10)"
      ],
      "metadata": {
        "colab": {
          "base_uri": "https://localhost:8080/"
        },
        "id": "HPoxH4yC45XG",
        "outputId": "a1530938-5f59-46ee-ca20-5852d31b8c7b"
      },
      "execution_count": 13,
      "outputs": [
        {
          "output_type": "stream",
          "name": "stdout",
          "text": [
            "im child adult body barely take care much less function wider world im awkward barely socialise ive never relationship done anything intimate girl chose course im uni easiest course ba didnt want stress continue coast like high school zero job eperience speak idea want life zero motivation ambitions aspirations free time play video games watch tv anime live everyday waiting net distraction carry net weeks whether new tv show video game younger siblings much adjusted still feel angst pointlessness life anger toward shortcomings high schooler supposed survive real world wants person\n",
            "Product: depression\n"
          ]
        }
      ]
    },
    {
      "cell_type": "code",
      "source": [
        "MAX_NB_WORDS = 50000\n",
        "MAX_SEQUENCE_LENGTH = 1000\n",
        "EMBEDDING_DIM = 100\n",
        "\n",
        "tokenizer = Tokenizer(num_words=MAX_NB_WORDS, filters='!\"#$%&()*+,-./:;<=>?@[\\]^_`{|}~', lower=True)\n",
        "tokenizer.fit_on_texts(df['Content'].values)\n",
        "word_index = tokenizer.word_index\n",
        "print('Found %s unique tokens.' % len(word_index))"
      ],
      "metadata": {
        "colab": {
          "base_uri": "https://localhost:8080/"
        },
        "id": "e0X-sEeY45Si",
        "outputId": "926467cd-7a7d-4bd4-e1b4-e805574f9ca1"
      },
      "execution_count": 14,
      "outputs": [
        {
          "output_type": "stream",
          "name": "stdout",
          "text": [
            "Found 292585 unique tokens.\n"
          ]
        }
      ]
    },
    {
      "cell_type": "code",
      "source": [
        "X = tokenizer.texts_to_sequences(df['Content'].values)\n",
        "X = pad_sequences(X, maxlen=MAX_SEQUENCE_LENGTH)\n",
        "print('Shape of data tensor:', X.shape)"
      ],
      "metadata": {
        "colab": {
          "base_uri": "https://localhost:8080/"
        },
        "id": "cI_TCN8X45QH",
        "outputId": "ca3dfb25-820d-4a2d-cf45-1d88fcd3869b"
      },
      "execution_count": 15,
      "outputs": [
        {
          "output_type": "stream",
          "name": "stdout",
          "text": [
            "Shape of data tensor: (275906, 1000)\n"
          ]
        }
      ]
    },
    {
      "cell_type": "code",
      "source": [
        "Y = df['label']\n",
        "print('Shape of label tensor:', Y.shape)"
      ],
      "metadata": {
        "colab": {
          "base_uri": "https://localhost:8080/"
        },
        "id": "xd5A1HFX45N3",
        "outputId": "8f127c42-3249-4cc1-c0bc-b56776c32f55"
      },
      "execution_count": 16,
      "outputs": [
        {
          "output_type": "stream",
          "name": "stdout",
          "text": [
            "Shape of label tensor: (275906,)\n"
          ]
        }
      ]
    },
    {
      "cell_type": "code",
      "source": [
        "x_train, x_test, y_train, y_test = train_test_split(X, Y, test_size = 0.20, random_state = 42)\n",
        "print(x_train.shape,y_train.shape)\n",
        "print(x_test.shape,y_test.shape)"
      ],
      "metadata": {
        "colab": {
          "base_uri": "https://localhost:8080/"
        },
        "id": "swz2-8b845LW",
        "outputId": "e798346f-f14d-4b90-a74a-8ac74f5482cc"
      },
      "execution_count": 17,
      "outputs": [
        {
          "output_type": "stream",
          "name": "stdout",
          "text": [
            "(220724, 1000) (220724,)\n",
            "(55182, 1000) (55182,)\n"
          ]
        }
      ]
    },
    {
      "cell_type": "code",
      "source": [
        "import tensorflow as tf\n",
        "from tensorflow.python.keras import regularizers\n",
        "from tensorflow.keras.utils import plot_model\n",
        "\n",
        "MAX_FEATURES = 20001\n",
        "maxTextLen = 1000\n",
        "\n",
        "def build_lstm_model():\n",
        "  model = Sequential()\n",
        "  model.add(Embedding(MAX_FEATURES, 100, input_length=maxTextLen))\n",
        "  #model.add(SpatialDropout1D(0.2))\n",
        "  model.add(LSTM(100, activation='tanh', recurrent_activation='sigmoid', recurrent_dropout=0, unroll=False, use_bias=True))\n",
        "  model.add(Dropout(0.5))\n",
        "  model.add(Dense(units=64, activation=\"relu\"))\n",
        "\n",
        "  model.add(Dense(6, activation='softmax'))\n",
        "  model.compile(loss='categorical_crossentropy', optimizer='adam', metrics=['accuracy'])\n",
        "  return model"
      ],
      "metadata": {
        "id": "TgidZmvNdLiu"
      },
      "execution_count": 18,
      "outputs": []
    },
    {
      "cell_type": "code",
      "source": [
        "model = build_lstm_model()\n",
        "plot_model(model,show_shapes=True)"
      ],
      "metadata": {
        "colab": {
          "base_uri": "https://localhost:8080/",
          "height": 644
        },
        "id": "6gw8aRawc1RI",
        "outputId": "1a2867d0-ea66-4d24-bc32-6fead69bcdf7"
      },
      "execution_count": 19,
      "outputs": [
        {
          "output_type": "execute_result",
          "data": {
            "image/png": "[encoded data removed]",
            "text/plain": [
              "<IPython.core.display.Image object>"
            ]
          },
          "metadata": {},
          "execution_count": 19
        }
      ]
    },
    {
      "cell_type": "code",
      "source": [
        "print(model.summary())"
      ],
      "metadata": {
        "colab": {
          "base_uri": "https://localhost:8080/"
        },
        "id": "k547tkQTdXZU",
        "outputId": "83b46b64-0bdf-4ace-f434-15942c75a8d2"
      },
      "execution_count": 20,
      "outputs": [
        {
          "output_type": "stream",
          "name": "stdout",
          "text": [
            "Model: \"sequential\"\n",
            "_________________________________________________________________\n",
            " Layer (type)                Output Shape              Param #   \n",
            "=================================================================\n",
            " embedding (Embedding)       (None, 1000, 100)         2000100   \n",
            "                                                                 \n",
            " lstm (LSTM)                 (None, 100)               80400     \n",
            "                                                                 \n",
            " dropout (Dropout)           (None, 100)               0         \n",
            "                                                                 \n",
            " dense (Dense)               (None, 64)                6464      \n",
            "                                                                 \n",
            " dense_1 (Dense)             (None, 6)                 390       \n",
            "                                                                 \n",
            "=================================================================\n",
            "Total params: 2,087,354\n",
            "Trainable params: 2,087,354\n",
            "Non-trainable params: 0\n",
            "_________________________________________________________________\n",
            "None\n"
          ]
        }
      ]
    },
    {
      "cell_type": "code",
      "source": [
        "# model.compile(optimizer='sgd',\n",
        "#               loss = tf.keras.losses.CosineSimilarity(axis=1),\n",
        "#               metrics = ['accuracy'])"
      ],
      "metadata": {
        "id": "dP8SmHQs9KA8"
      },
      "execution_count": 21,
      "outputs": []
    },
    {
      "cell_type": "code",
      "source": [
        "possible_labels = ['schizophrenia', 'anxiety', 'BPD', 'depression', 'bipolar',\n",
        "       'autism']"
      ],
      "metadata": {
        "id": "1O58W_0i-40-"
      },
      "execution_count": 22,
      "outputs": []
    },
    {
      "cell_type": "code",
      "source": [
        "from sklearn.metrics import classification_report, accuracy_score, f1_score, precision_score, confusion_matrix\n",
        "def showResults(test, pred):\n",
        "    print(classification_report(test, pred, target_names=possible_labels))\n",
        "    accuracy = accuracy_score(test, pred)\n",
        "    precision=precision_score(test, pred, average='weighted')\n",
        "    f1Score=f1_score(test, pred, average='weighted') \n",
        "    print(\"Accuracy  : {}\".format(accuracy))\n",
        "    print(\"Precision : {}\".format(precision))\n",
        "    print(\"F1-score : {}\".format(f1Score))\n",
        "    cm=confusion_matrix(test, pred)\n",
        "    print(cm)\n",
        "    print(\"\\n\")"
      ],
      "metadata": {
        "id": "XFnDm_4W-2Q4"
      },
      "execution_count": 23,
      "outputs": []
    },
    {
      "cell_type": "code",
      "source": [
        "from tensorflow.keras.utils import to_categorical\n",
        "from sklearn.model_selection import StratifiedKFold\n",
        "\n",
        "epochs=20\n",
        "batch_size=1000\n",
        "\n",
        "skf = StratifiedKFold(n_splits=10, shuffle=True)\n",
        "skf.get_n_splits(x_train, y_train)\n",
        "foldNum=0\n",
        "for train_index, val_index in skf.split(x_train, y_train):\n",
        "    foldNum+=1\n",
        "    print(\"Results for fold\",foldNum)\n",
        "    X_train, X_val = X[train_index], X[val_index]\n",
        "    Y_train, Y_val = Y[train_index], Y[val_index]\n",
        "\n",
        "    # one hot encode\n",
        "    Y_train = to_categorical(Y_train)\n",
        "    Y_val = to_categorical(Y_val)\n",
        "    \n",
        "    lstm_history = model.fit(X_train, Y_train, \n",
        "                        validation_data = (X_val, Y_val), \n",
        "                        epochs=epochs, \n",
        "                        batch_size=batch_size)  \n",
        "    y_predict = model.predict(X_val)\n",
        "\n",
        "    #Converting one hot encoded test label to label    \n",
        "    pred = np.argmax(y_predict, axis=1)\n",
        "    val = np.argmax(Y_val, axis=1)\n",
        "    \n",
        "    showResults(val, pred)"
      ],
      "metadata": {
        "id": "M1X5YrsJHjbq",
        "colab": {
          "base_uri": "https://localhost:8080/"
        },
        "outputId": "ffce2318-a92b-4e83-a0b6-48121c58b510"
      },
      "execution_count": 24,
      "outputs": [
        {
          "data": {
            "text/plain": [
              "10"
            ]
          },
          "execution_count": 24,
          "metadata": {},
          "output_type": "execute_result"
        },
        {
          "output_type": "stream",
          "name": "stdout",
          "text": [
            "Results for fold 1\n",
            "Epoch 1/20\n",
            "199/199 [==============================] - 62s 277ms/step - loss: 1.2583 - accuracy: 0.5130 - val_loss: 0.9532 - val_accuracy: 0.6496\n",
            "Epoch 2/20\n",
            "199/199 [==============================] - 58s 294ms/step - loss: 0.9389 - accuracy: 0.6766 - val_loss: 0.8398 - val_accuracy: 0.7255\n",
            "Epoch 3/20\n",
            "199/199 [==============================] - 59s 295ms/step - loss: 0.7398 - accuracy: 0.7604 - val_loss: 0.7226 - val_accuracy: 0.7693\n",
            "Epoch 4/20\n",
            "199/199 [==============================] - 59s 299ms/step - loss: 0.6894 - accuracy: 0.7799 - val_loss: 0.7203 - val_accuracy: 0.7708\n",
            "Epoch 5/20\n",
            "199/199 [==============================] - 59s 298ms/step - loss: 0.6320 - accuracy: 0.8041 - val_loss: 0.7927 - val_accuracy: 0.7457\n",
            "Epoch 6/20\n",
            "199/199 [==============================] - 59s 295ms/step - loss: 0.7226 - accuracy: 0.7788 - val_loss: 0.7789 - val_accuracy: 0.7510\n",
            "Epoch 7/20\n",
            "199/199 [==============================] - 59s 296ms/step - loss: 0.6792 - accuracy: 0.7855 - val_loss: 0.7322 - val_accuracy: 0.7651\n",
            "Epoch 8/20\n",
            "199/199 [==============================] - 59s 295ms/step - loss: 0.6527 - accuracy: 0.7958 - val_loss: 0.7519 - val_accuracy: 0.7559\n",
            "Epoch 9/20\n",
            "199/199 [==============================] - 58s 293ms/step - loss: 0.6191 - accuracy: 0.8045 - val_loss: 0.7431 - val_accuracy: 0.7543\n",
            "Epoch 10/20\n",
            "199/199 [==============================] - 58s 291ms/step - loss: 0.6902 - accuracy: 0.7772 - val_loss: 0.8119 - val_accuracy: 0.7543\n",
            "Epoch 11/20\n",
            "199/199 [==============================] - 57s 288ms/step - loss: 0.7967 - accuracy: 0.7314 - val_loss: 0.9599 - val_accuracy: 0.6700\n",
            "Epoch 12/20\n",
            "199/199 [==============================] - 58s 291ms/step - loss: 0.7023 - accuracy: 0.7721 - val_loss: 0.7297 - val_accuracy: 0.7697\n",
            "Epoch 13/20\n",
            "199/199 [==============================] - 58s 291ms/step - loss: 0.5781 - accuracy: 0.8198 - val_loss: 0.7168 - val_accuracy: 0.7750\n",
            "Epoch 14/20\n",
            "199/199 [==============================] - 58s 290ms/step - loss: 0.5369 - accuracy: 0.8344 - val_loss: 0.6970 - val_accuracy: 0.7803\n",
            "Epoch 15/20\n",
            "199/199 [==============================] - 58s 289ms/step - loss: 0.5411 - accuracy: 0.8332 - val_loss: 0.7225 - val_accuracy: 0.7708\n",
            "Epoch 16/20\n",
            "199/199 [==============================] - 58s 290ms/step - loss: 0.5044 - accuracy: 0.8453 - val_loss: 0.7191 - val_accuracy: 0.7746\n",
            "Epoch 17/20\n",
            "199/199 [==============================] - 57s 289ms/step - loss: 0.4753 - accuracy: 0.8553 - val_loss: 0.7200 - val_accuracy: 0.7778\n",
            "Epoch 18/20\n",
            "199/199 [==============================] - 57s 288ms/step - loss: 0.4594 - accuracy: 0.8607 - val_loss: 0.7334 - val_accuracy: 0.7749\n",
            "Epoch 19/20\n",
            "199/199 [==============================] - 57s 289ms/step - loss: 0.4452 - accuracy: 0.8655 - val_loss: 0.7404 - val_accuracy: 0.7742\n",
            "Epoch 20/20\n",
            "199/199 [==============================] - 57s 288ms/step - loss: 0.4454 - accuracy: 0.8652 - val_loss: 0.7572 - val_accuracy: 0.7665\n",
            "690/690 [==============================] - 10s 15ms/step\n",
            "               precision    recall  f1-score   support\n",
            "\n",
            "schizophrenia       0.63      0.65      0.64      1437\n",
            "      anxiety       0.82      0.85      0.83      6880\n",
            "          BPD       0.73      0.69      0.71      3011\n",
            "   depression       0.76      0.79      0.77      6964\n",
            "      bipolar       0.76      0.70      0.73      3216\n",
            "       autism       0.84      0.64      0.73       565\n",
            "\n",
            "     accuracy                           0.77     22073\n",
            "    macro avg       0.76      0.72      0.74     22073\n",
            " weighted avg       0.77      0.77      0.77     22073\n",
            "\n",
            "Accuracy  : 0.7665020613419109\n",
            "Precision : 0.7664460245670343\n",
            "F1-score : 0.7656969475978842\n",
            "[[ 936  120   54  172  142   13]\n",
            " [  94 5817  154  621  175   19]\n",
            " [  69  208 2086  504  136    8]\n",
            " [ 162  725  342 5469  245   21]\n",
            " [ 147  208  197  410 2247    7]\n",
            " [  72   57   21   44    7  364]]\n",
            "\n",
            "\n",
            "Results for fold 2\n",
            "Epoch 1/20\n",
            "199/199 [==============================] - 57s 288ms/step - loss: 0.4671 - accuracy: 0.8586 - val_loss: 0.4099 - val_accuracy: 0.8751\n",
            "Epoch 2/20\n",
            "199/199 [==============================] - 57s 289ms/step - loss: 0.4408 - accuracy: 0.8680 - val_loss: 0.4276 - val_accuracy: 0.8662\n",
            "Epoch 3/20\n",
            "199/199 [==============================] - 57s 288ms/step - loss: 0.4242 - accuracy: 0.8728 - val_loss: 0.4423 - val_accuracy: 0.8603\n",
            "Epoch 4/20\n",
            "199/199 [==============================] - 57s 288ms/step - loss: 0.4736 - accuracy: 0.8548 - val_loss: 0.4862 - val_accuracy: 0.8423\n",
            "Epoch 5/20\n",
            "199/199 [==============================] - 57s 288ms/step - loss: 0.4262 - accuracy: 0.8707 - val_loss: 0.4941 - val_accuracy: 0.8414\n",
            "Epoch 6/20\n",
            "199/199 [==============================] - 57s 288ms/step - loss: 0.4045 - accuracy: 0.8788 - val_loss: 0.5008 - val_accuracy: 0.8393\n",
            "Epoch 7/20\n",
            "199/199 [==============================] - 57s 288ms/step - loss: 0.3862 - accuracy: 0.8848 - val_loss: 0.5212 - val_accuracy: 0.8341\n",
            "Epoch 8/20\n",
            "199/199 [==============================] - 57s 287ms/step - loss: 0.3723 - accuracy: 0.8900 - val_loss: 0.5576 - val_accuracy: 0.8269\n",
            "Epoch 9/20\n",
            "199/199 [==============================] - 57s 288ms/step - loss: 0.4652 - accuracy: 0.8683 - val_loss: 0.7486 - val_accuracy: 0.7671\n",
            "Epoch 10/20\n",
            "199/199 [==============================] - 57s 288ms/step - loss: 0.7036 - accuracy: 0.7691 - val_loss: 0.6533 - val_accuracy: 0.7935\n",
            "Epoch 11/20\n",
            "199/199 [==============================] - 57s 288ms/step - loss: 0.5043 - accuracy: 0.8453 - val_loss: 0.6485 - val_accuracy: 0.8024\n",
            "Epoch 12/20\n",
            "199/199 [==============================] - 57s 288ms/step - loss: 0.4463 - accuracy: 0.8650 - val_loss: 0.5948 - val_accuracy: 0.8151\n",
            "Epoch 13/20\n",
            "199/199 [==============================] - 57s 287ms/step - loss: 0.3840 - accuracy: 0.8844 - val_loss: 0.6011 - val_accuracy: 0.8140\n",
            "Epoch 14/20\n",
            "199/199 [==============================] - 57s 288ms/step - loss: 0.3615 - accuracy: 0.8923 - val_loss: 0.6270 - val_accuracy: 0.8127\n",
            "Epoch 15/20\n",
            "199/199 [==============================] - 57s 288ms/step - loss: 0.3405 - accuracy: 0.8999 - val_loss: 0.6328 - val_accuracy: 0.8098\n",
            "Epoch 16/20\n",
            "199/199 [==============================] - 57s 288ms/step - loss: 0.3519 - accuracy: 0.8952 - val_loss: 0.7068 - val_accuracy: 0.7906\n",
            "Epoch 17/20\n",
            "199/199 [==============================] - 57s 288ms/step - loss: 0.3540 - accuracy: 0.8942 - val_loss: 0.6676 - val_accuracy: 0.8028\n",
            "Epoch 18/20\n",
            "199/199 [==============================] - 57s 287ms/step - loss: 0.3351 - accuracy: 0.9016 - val_loss: 0.6793 - val_accuracy: 0.8032\n",
            "Epoch 19/20\n",
            "199/199 [==============================] - 57s 287ms/step - loss: 0.3077 - accuracy: 0.9105 - val_loss: 0.7046 - val_accuracy: 0.7998\n",
            "Epoch 20/20\n",
            "199/199 [==============================] - 57s 287ms/step - loss: 0.2904 - accuracy: 0.9169 - val_loss: 0.7144 - val_accuracy: 0.7974\n",
            "690/690 [==============================] - 10s 14ms/step\n",
            "               precision    recall  f1-score   support\n",
            "\n",
            "schizophrenia       0.75      0.69      0.72      1463\n",
            "      anxiety       0.86      0.85      0.86      6839\n",
            "          BPD       0.75      0.72      0.73      3069\n",
            "   depression       0.78      0.82      0.80      6838\n",
            "      bipolar       0.76      0.75      0.75      3308\n",
            "       autism       0.84      0.81      0.82       556\n",
            "\n",
            "     accuracy                           0.80     22073\n",
            "    macro avg       0.79      0.77      0.78     22073\n",
            " weighted avg       0.80      0.80      0.80     22073\n",
            "\n",
            "Accuracy  : 0.7973542336791555\n",
            "Precision : 0.7972333550945896\n",
            "F1-score : 0.7969596432502316\n",
            "[[1010   93   50  141  148   21]\n",
            " [  51 5834  171  618  133   32]\n",
            " [  38  193 2199  449  179   11]\n",
            " [  85  462  336 5632  307   16]\n",
            " [ 156  158  155  358 2474    7]\n",
            " [  14   37   17   26   11  451]]\n",
            "\n",
            "\n",
            "Results for fold 3\n",
            "Epoch 1/20\n",
            "199/199 [==============================] - 57s 287ms/step - loss: 0.3323 - accuracy: 0.9054 - val_loss: 0.2737 - val_accuracy: 0.9196\n",
            "Epoch 2/20\n",
            "199/199 [==============================] - 57s 288ms/step - loss: 0.3732 - accuracy: 0.8925 - val_loss: 0.3071 - val_accuracy: 0.9044\n",
            "Epoch 3/20\n",
            "199/199 [==============================] - 57s 287ms/step - loss: 0.3080 - accuracy: 0.9114 - val_loss: 0.3122 - val_accuracy: 0.9026\n",
            "Epoch 4/20\n",
            "199/199 [==============================] - 57s 288ms/step - loss: 0.3144 - accuracy: 0.9093 - val_loss: 0.4173 - val_accuracy: 0.8713\n",
            "Epoch 5/20\n",
            "199/199 [==============================] - 57s 288ms/step - loss: 0.3117 - accuracy: 0.9077 - val_loss: 0.3834 - val_accuracy: 0.8794\n",
            "Epoch 6/20\n",
            "199/199 [==============================] - 57s 288ms/step - loss: 0.2768 - accuracy: 0.9207 - val_loss: 0.3850 - val_accuracy: 0.8811\n",
            "Epoch 7/20\n",
            "199/199 [==============================] - 57s 289ms/step - loss: 0.2624 - accuracy: 0.9247 - val_loss: 0.4098 - val_accuracy: 0.8735\n",
            "Epoch 8/20\n",
            "199/199 [==============================] - 57s 289ms/step - loss: 0.2515 - accuracy: 0.9276 - val_loss: 0.4408 - val_accuracy: 0.8679\n",
            "Epoch 9/20\n",
            "199/199 [==============================] - 57s 287ms/step - loss: 0.2495 - accuracy: 0.9278 - val_loss: 0.4569 - val_accuracy: 0.8616\n",
            "Epoch 10/20\n",
            "199/199 [==============================] - 57s 287ms/step - loss: 0.2386 - accuracy: 0.9313 - val_loss: 0.4731 - val_accuracy: 0.8569\n",
            "Epoch 11/20\n",
            "199/199 [==============================] - 57s 287ms/step - loss: 0.2274 - accuracy: 0.9347 - val_loss: 0.5036 - val_accuracy: 0.8555\n",
            "Epoch 12/20\n",
            "199/199 [==============================] - 57s 288ms/step - loss: 0.2197 - accuracy: 0.9368 - val_loss: 0.5389 - val_accuracy: 0.8450\n",
            "Epoch 13/20\n",
            "199/199 [==============================] - 57s 288ms/step - loss: 0.2236 - accuracy: 0.9350 - val_loss: 0.5461 - val_accuracy: 0.8431\n",
            "Epoch 14/20\n",
            "199/199 [==============================] - 57s 288ms/step - loss: 0.2080 - accuracy: 0.9400 - val_loss: 0.5924 - val_accuracy: 0.8422\n",
            "Epoch 15/20\n",
            "199/199 [==============================] - 57s 288ms/step - loss: 0.2091 - accuracy: 0.9393 - val_loss: 0.6073 - val_accuracy: 0.8396\n",
            "Epoch 16/20\n",
            "199/199 [==============================] - 57s 287ms/step - loss: 0.1890 - accuracy: 0.9464 - val_loss: 0.6290 - val_accuracy: 0.8367\n",
            "Epoch 17/20\n",
            "199/199 [==============================] - 57s 287ms/step - loss: 0.1867 - accuracy: 0.9465 - val_loss: 0.6603 - val_accuracy: 0.8323\n",
            "Epoch 18/20\n",
            "199/199 [==============================] - 57s 287ms/step - loss: 0.1967 - accuracy: 0.9432 - val_loss: 0.6928 - val_accuracy: 0.8270\n",
            "Epoch 19/20\n",
            "199/199 [==============================] - 57s 286ms/step - loss: 0.1819 - accuracy: 0.9475 - val_loss: 0.7295 - val_accuracy: 0.8286\n",
            "Epoch 20/20\n",
            "199/199 [==============================] - 57s 287ms/step - loss: 0.1672 - accuracy: 0.9523 - val_loss: 0.7521 - val_accuracy: 0.8268\n",
            "690/690 [==============================] - 10s 14ms/step\n",
            "               precision    recall  f1-score   support\n",
            "\n",
            "schizophrenia       0.75      0.75      0.75      1415\n",
            "      anxiety       0.89      0.85      0.87      6939\n",
            "          BPD       0.82      0.74      0.78      3069\n",
            "   depression       0.78      0.88      0.83      6766\n",
            "      bipolar       0.82      0.76      0.79      3297\n",
            "       autism       0.89      0.88      0.89       587\n",
            "\n",
            "     accuracy                           0.83     22073\n",
            "    macro avg       0.83      0.81      0.82     22073\n",
            " weighted avg       0.83      0.83      0.83     22073\n",
            "\n",
            "Accuracy  : 0.8268019752638971\n",
            "Precision : 0.8292586512571818\n",
            "F1-score : 0.8265487469233921\n",
            "[[1055   67   32  131  114   16]\n",
            " [  65 5932  141  685   97   19]\n",
            " [  54  148 2280  438  139   10]\n",
            " [  84  344  181 5961  184   12]\n",
            " [ 140  133  130  383 2506    5]\n",
            " [  14   27    8   17    5  516]]\n",
            "\n",
            "\n",
            "Results for fold 4\n",
            "Epoch 1/20\n",
            "199/199 [==============================] - 57s 286ms/step - loss: 0.2306 - accuracy: 0.9365 - val_loss: 0.1513 - val_accuracy: 0.9562\n",
            "Epoch 2/20\n",
            "199/199 [==============================] - 57s 287ms/step - loss: 0.2061 - accuracy: 0.9418 - val_loss: 0.1623 - val_accuracy: 0.9513\n",
            "Epoch 3/20\n",
            "199/199 [==============================] - 57s 287ms/step - loss: 0.1820 - accuracy: 0.9485 - val_loss: 0.1852 - val_accuracy: 0.9424\n",
            "Epoch 4/20\n",
            "199/199 [==============================] - 57s 286ms/step - loss: 0.1785 - accuracy: 0.9487 - val_loss: 0.1987 - val_accuracy: 0.9387\n",
            "Epoch 5/20\n",
            "199/199 [==============================] - 57s 286ms/step - loss: 0.1639 - accuracy: 0.9535 - val_loss: 0.3674 - val_accuracy: 0.8992\n",
            "Epoch 6/20\n",
            "199/199 [==============================] - 57s 287ms/step - loss: 0.2087 - accuracy: 0.9399 - val_loss: 0.2481 - val_accuracy: 0.9230\n",
            "Epoch 7/20\n",
            "199/199 [==============================] - 57s 287ms/step - loss: 0.1665 - accuracy: 0.9522 - val_loss: 0.2702 - val_accuracy: 0.9180\n",
            "Epoch 8/20\n",
            "199/199 [==============================] - 57s 286ms/step - loss: 0.1503 - accuracy: 0.9573 - val_loss: 0.2960 - val_accuracy: 0.9102\n",
            "Epoch 9/20\n",
            "199/199 [==============================] - 57s 287ms/step - loss: 0.1372 - accuracy: 0.9607 - val_loss: 0.3247 - val_accuracy: 0.9079\n",
            "Epoch 10/20\n",
            "199/199 [==============================] - 57s 287ms/step - loss: 0.1338 - accuracy: 0.9618 - val_loss: 0.3459 - val_accuracy: 0.9061\n",
            "Epoch 11/20\n",
            "199/199 [==============================] - 57s 286ms/step - loss: 0.1273 - accuracy: 0.9635 - val_loss: 0.3779 - val_accuracy: 0.8981\n",
            "Epoch 12/20\n",
            "199/199 [==============================] - 57s 286ms/step - loss: 0.1303 - accuracy: 0.9624 - val_loss: 0.3952 - val_accuracy: 0.8921\n",
            "Epoch 13/20\n",
            "199/199 [==============================] - 57s 286ms/step - loss: 0.1381 - accuracy: 0.9594 - val_loss: 0.4109 - val_accuracy: 0.8900\n",
            "Epoch 14/20\n",
            "199/199 [==============================] - 57s 287ms/step - loss: 0.1274 - accuracy: 0.9632 - val_loss: 0.4275 - val_accuracy: 0.8907\n",
            "Epoch 15/20\n",
            "199/199 [==============================] - 57s 287ms/step - loss: 0.1094 - accuracy: 0.9684 - val_loss: 0.4920 - val_accuracy: 0.8783\n",
            "Epoch 16/20\n",
            "199/199 [==============================] - 57s 287ms/step - loss: 0.1083 - accuracy: 0.9693 - val_loss: 0.4971 - val_accuracy: 0.8815\n",
            "Epoch 17/20\n",
            "199/199 [==============================] - 57s 287ms/step - loss: 0.1041 - accuracy: 0.9699 - val_loss: 0.5357 - val_accuracy: 0.8745\n",
            "Epoch 18/20\n",
            "199/199 [==============================] - 57s 288ms/step - loss: 0.1019 - accuracy: 0.9702 - val_loss: 0.5512 - val_accuracy: 0.8772\n",
            "Epoch 19/20\n",
            "199/199 [==============================] - 57s 288ms/step - loss: 0.1061 - accuracy: 0.9694 - val_loss: 0.5654 - val_accuracy: 0.8709\n",
            "Epoch 20/20\n",
            "199/199 [==============================] - 57s 288ms/step - loss: 0.1029 - accuracy: 0.9697 - val_loss: 0.5555 - val_accuracy: 0.8694\n",
            "690/690 [==============================] - 10s 14ms/step\n",
            "               precision    recall  f1-score   support\n",
            "\n",
            "schizophrenia       0.82      0.81      0.82      1376\n",
            "      anxiety       0.92      0.90      0.91      7004\n",
            "          BPD       0.86      0.82      0.84      3044\n",
            "   depression       0.86      0.88      0.87      6887\n",
            "      bipolar       0.81      0.85      0.83      3210\n",
            "       autism       0.92      0.88      0.90       552\n",
            "\n",
            "     accuracy                           0.87     22073\n",
            "    macro avg       0.86      0.86      0.86     22073\n",
            " weighted avg       0.87      0.87      0.87     22073\n",
            "\n",
            "Accuracy  : 0.8694332442350383\n",
            "Precision : 0.8701790987367077\n",
            "F1-score : 0.8696095193973542\n",
            "[[1116   45   33   67  108    7]\n",
            " [  49 6308   91  399  141   16]\n",
            " [  36  114 2497  250  142    5]\n",
            " [  67  305  203 6044  259    9]\n",
            " [  80   89   80  220 2738    3]\n",
            " [   9   21   14   15    5  488]]\n",
            "\n",
            "\n",
            "Results for fold 5\n",
            "Epoch 1/20\n",
            "199/199 [==============================] - 58s 291ms/step - loss: 0.1530 - accuracy: 0.9587 - val_loss: 0.0872 - val_accuracy: 0.9761\n",
            "Epoch 2/20\n",
            "199/199 [==============================] - 57s 287ms/step - loss: 0.1253 - accuracy: 0.9649 - val_loss: 0.0925 - val_accuracy: 0.9723\n",
            "Epoch 3/20\n",
            "199/199 [==============================] - 57s 288ms/step - loss: 0.1026 - accuracy: 0.9713 - val_loss: 0.1025 - val_accuracy: 0.9686\n",
            "Epoch 4/20\n",
            "199/199 [==============================] - 57s 289ms/step - loss: 0.0943 - accuracy: 0.9733 - val_loss: 0.1165 - val_accuracy: 0.9648\n",
            "Epoch 5/20\n",
            "199/199 [==============================] - 58s 289ms/step - loss: 0.0877 - accuracy: 0.9751 - val_loss: 0.1272 - val_accuracy: 0.9628\n",
            "Epoch 6/20\n",
            "199/199 [==============================] - 57s 289ms/step - loss: 0.0841 - accuracy: 0.9758 - val_loss: 0.1507 - val_accuracy: 0.9559\n",
            "Epoch 7/20\n",
            "199/199 [==============================] - 57s 289ms/step - loss: 0.0856 - accuracy: 0.9753 - val_loss: 0.1587 - val_accuracy: 0.9538\n",
            "Epoch 8/20\n",
            "199/199 [==============================] - 57s 289ms/step - loss: 0.0816 - accuracy: 0.9762 - val_loss: 0.1950 - val_accuracy: 0.9465\n",
            "Epoch 9/20\n",
            "199/199 [==============================] - 57s 289ms/step - loss: 0.0828 - accuracy: 0.9760 - val_loss: 0.2765 - val_accuracy: 0.9286\n",
            "Epoch 10/20\n",
            "199/199 [==============================] - 58s 289ms/step - loss: 0.0777 - accuracy: 0.9773 - val_loss: 0.2154 - val_accuracy: 0.9422\n",
            "Epoch 11/20\n",
            "199/199 [==============================] - 58s 290ms/step - loss: 0.0686 - accuracy: 0.9799 - val_loss: 0.2443 - val_accuracy: 0.9385\n",
            "Epoch 12/20\n",
            "199/199 [==============================] - 58s 290ms/step - loss: 0.0740 - accuracy: 0.9791 - val_loss: 0.2790 - val_accuracy: 0.9300\n",
            "Epoch 13/20\n",
            "199/199 [==============================] - 58s 290ms/step - loss: 0.0775 - accuracy: 0.9779 - val_loss: 0.4012 - val_accuracy: 0.8988\n",
            "Epoch 14/20\n",
            "199/199 [==============================] - 58s 289ms/step - loss: 0.1200 - accuracy: 0.9654 - val_loss: 0.3104 - val_accuracy: 0.9198\n",
            "Epoch 15/20\n",
            "199/199 [==============================] - 58s 289ms/step - loss: 0.0939 - accuracy: 0.9726 - val_loss: 0.3163 - val_accuracy: 0.9172\n",
            "Epoch 16/20\n",
            "199/199 [==============================] - 58s 289ms/step - loss: 0.0738 - accuracy: 0.9782 - val_loss: 0.3473 - val_accuracy: 0.9123\n",
            "Epoch 17/20\n",
            "199/199 [==============================] - 58s 289ms/step - loss: 0.0637 - accuracy: 0.9811 - val_loss: 0.3892 - val_accuracy: 0.9125\n",
            "Epoch 18/20\n",
            "199/199 [==============================] - 57s 289ms/step - loss: 0.0588 - accuracy: 0.9827 - val_loss: 0.4018 - val_accuracy: 0.9117\n",
            "Epoch 19/20\n",
            "199/199 [==============================] - 58s 289ms/step - loss: 0.0507 - accuracy: 0.9852 - val_loss: 0.4154 - val_accuracy: 0.9107\n",
            "Epoch 20/20\n",
            "199/199 [==============================] - 58s 290ms/step - loss: 0.0494 - accuracy: 0.9855 - val_loss: 0.4703 - val_accuracy: 0.9081\n",
            "690/690 [==============================] - 10s 14ms/step\n",
            "               precision    recall  f1-score   support\n",
            "\n",
            "schizophrenia       0.88      0.83      0.85      1377\n",
            "      anxiety       0.93      0.94      0.94      6918\n",
            "          BPD       0.91      0.86      0.88      3065\n",
            "   depression       0.90      0.92      0.91      6836\n",
            "      bipolar       0.88      0.89      0.89      3268\n",
            "       autism       0.97      0.90      0.93       608\n",
            "\n",
            "     accuracy                           0.91     22072\n",
            "    macro avg       0.91      0.89      0.90     22072\n",
            " weighted avg       0.91      0.91      0.91     22072\n",
            "\n",
            "Accuracy  : 0.9081188836534977\n",
            "Precision : 0.9082259045447325\n",
            "F1-score : 0.9079501731363849\n",
            "[[1147   43   20   67   98    2]\n",
            " [  21 6502   54  259   77    5]\n",
            " [  30   87 2636  228   82    2]\n",
            " [  48  247  119 6294  120    8]\n",
            " [  55   67   59  170 2916    1]\n",
            " [   9   25   10   11    4  549]]\n",
            "\n",
            "\n",
            "Results for fold 6\n",
            "Epoch 1/20\n",
            "199/199 [==============================] - 58s 290ms/step - loss: 0.0942 - accuracy: 0.9753 - val_loss: 0.0451 - val_accuracy: 0.9867\n",
            "Epoch 2/20\n",
            "199/199 [==============================] - 58s 291ms/step - loss: 0.0656 - accuracy: 0.9812 - val_loss: 0.0453 - val_accuracy: 0.9854\n",
            "Epoch 3/20\n",
            "199/199 [==============================] - 58s 290ms/step - loss: 0.0585 - accuracy: 0.9832 - val_loss: 0.0534 - val_accuracy: 0.9829\n",
            "Epoch 4/20\n",
            "199/199 [==============================] - 58s 290ms/step - loss: 0.0620 - accuracy: 0.9823 - val_loss: 0.0775 - val_accuracy: 0.9764\n",
            "Epoch 5/20\n",
            "199/199 [==============================] - 58s 290ms/step - loss: 0.0543 - accuracy: 0.9840 - val_loss: 0.0797 - val_accuracy: 0.9749\n",
            "Epoch 6/20\n",
            "199/199 [==============================] - 58s 289ms/step - loss: 0.0694 - accuracy: 0.9801 - val_loss: 0.0976 - val_accuracy: 0.9709\n",
            "Epoch 7/20\n",
            "199/199 [==============================] - 58s 289ms/step - loss: 0.0497 - accuracy: 0.9854 - val_loss: 0.1100 - val_accuracy: 0.9694\n",
            "Epoch 8/20\n",
            "199/199 [==============================] - 58s 290ms/step - loss: 0.0451 - accuracy: 0.9867 - val_loss: 0.1131 - val_accuracy: 0.9673\n",
            "Epoch 9/20\n",
            "199/199 [==============================] - 58s 290ms/step - loss: 0.0421 - accuracy: 0.9879 - val_loss: 0.1284 - val_accuracy: 0.9654\n",
            "Epoch 10/20\n",
            "199/199 [==============================] - 58s 290ms/step - loss: 0.0428 - accuracy: 0.9873 - val_loss: 0.1582 - val_accuracy: 0.9583\n",
            "Epoch 11/20\n",
            "199/199 [==============================] - 58s 290ms/step - loss: 0.0551 - accuracy: 0.9855 - val_loss: 0.4192 - val_accuracy: 0.9135\n",
            "Epoch 12/20\n",
            "199/199 [==============================] - 58s 291ms/step - loss: 0.0864 - accuracy: 0.9745 - val_loss: 0.1827 - val_accuracy: 0.9494\n",
            "Epoch 13/20\n",
            "199/199 [==============================] - 58s 291ms/step - loss: 0.0421 - accuracy: 0.9877 - val_loss: 0.1979 - val_accuracy: 0.9493\n",
            "Epoch 14/20\n",
            "199/199 [==============================] - 58s 291ms/step - loss: 0.0377 - accuracy: 0.9893 - val_loss: 0.2122 - val_accuracy: 0.9487\n",
            "Epoch 15/20\n",
            "199/199 [==============================] - 58s 290ms/step - loss: 0.0358 - accuracy: 0.9897 - val_loss: 0.2195 - val_accuracy: 0.9467\n",
            "Epoch 16/20\n",
            "199/199 [==============================] - 58s 290ms/step - loss: 0.0335 - accuracy: 0.9900 - val_loss: 0.2308 - val_accuracy: 0.9459\n",
            "Epoch 17/20\n",
            "199/199 [==============================] - 58s 290ms/step - loss: 0.0324 - accuracy: 0.9907 - val_loss: 0.2510 - val_accuracy: 0.9408\n",
            "Epoch 18/20\n",
            "199/199 [==============================] - 58s 291ms/step - loss: 0.0349 - accuracy: 0.9897 - val_loss: 0.2748 - val_accuracy: 0.9399\n",
            "Epoch 19/20\n",
            "199/199 [==============================] - 58s 291ms/step - loss: 0.0333 - accuracy: 0.9901 - val_loss: 0.2705 - val_accuracy: 0.9408\n",
            "Epoch 20/20\n",
            "199/199 [==============================] - 58s 291ms/step - loss: 0.0430 - accuracy: 0.9875 - val_loss: 0.2789 - val_accuracy: 0.9358\n",
            "690/690 [==============================] - 10s 14ms/step\n",
            "               precision    recall  f1-score   support\n",
            "\n",
            "schizophrenia       0.91      0.92      0.92      1398\n",
            "      anxiety       0.95      0.95      0.95      6770\n",
            "          BPD       0.93      0.90      0.91      2988\n",
            "   depression       0.93      0.94      0.94      6983\n",
            "      bipolar       0.93      0.93      0.93      3334\n",
            "       autism       0.97      0.96      0.96       599\n",
            "\n",
            "     accuracy                           0.94     22072\n",
            "    macro avg       0.94      0.93      0.93     22072\n",
            " weighted avg       0.94      0.94      0.94     22072\n",
            "\n",
            "Accuracy  : 0.9358010148604566\n",
            "Precision : 0.9358014434414679\n",
            "F1-score : 0.9357710425661314\n",
            "[[1290   22   27   34   25    0]\n",
            " [  30 6455   41  188   50    6]\n",
            " [  18   67 2694  142   60    7]\n",
            " [  36  187   93 6553  111    3]\n",
            " [  41   42   52  109 3088    2]\n",
            " [   5   11    2    5    1  575]]\n",
            "\n",
            "\n",
            "Results for fold 7\n",
            "Epoch 1/20\n",
            "199/199 [==============================] - 58s 292ms/step - loss: 0.0628 - accuracy: 0.9830 - val_loss: 0.0381 - val_accuracy: 0.9899\n",
            "Epoch 2/20\n",
            "199/199 [==============================] - 58s 292ms/step - loss: 0.0411 - accuracy: 0.9882 - val_loss: 0.0309 - val_accuracy: 0.9906\n",
            "Epoch 3/20\n",
            "199/199 [==============================] - 58s 291ms/step - loss: 0.0356 - accuracy: 0.9897 - val_loss: 0.0369 - val_accuracy: 0.9879\n",
            "Epoch 4/20\n",
            "199/199 [==============================] - 58s 291ms/step - loss: 0.0320 - accuracy: 0.9906 - val_loss: 0.0418 - val_accuracy: 0.9875\n",
            "Epoch 5/20\n",
            "199/199 [==============================] - 58s 291ms/step - loss: 0.0306 - accuracy: 0.9910 - val_loss: 0.0489 - val_accuracy: 0.9850\n",
            "Epoch 6/20\n",
            "199/199 [==============================] - 58s 291ms/step - loss: 0.0290 - accuracy: 0.9913 - val_loss: 0.0578 - val_accuracy: 0.9820\n",
            "Epoch 7/20\n",
            "199/199 [==============================] - 58s 292ms/step - loss: 0.0321 - accuracy: 0.9907 - val_loss: 0.0663 - val_accuracy: 0.9804\n",
            "Epoch 8/20\n",
            "199/199 [==============================] - 58s 292ms/step - loss: 0.0289 - accuracy: 0.9916 - val_loss: 0.0959 - val_accuracy: 0.9749\n",
            "Epoch 9/20\n",
            "199/199 [==============================] - 58s 292ms/step - loss: 0.0304 - accuracy: 0.9911 - val_loss: 0.0923 - val_accuracy: 0.9753\n",
            "Epoch 10/20\n",
            "199/199 [==============================] - 58s 291ms/step - loss: 0.0262 - accuracy: 0.9922 - val_loss: 0.0913 - val_accuracy: 0.9751\n",
            "Epoch 11/20\n",
            "199/199 [==============================] - 58s 292ms/step - loss: 0.0249 - accuracy: 0.9927 - val_loss: 0.1060 - val_accuracy: 0.9730\n",
            "Epoch 12/20\n",
            "199/199 [==============================] - 58s 293ms/step - loss: 0.0239 - accuracy: 0.9929 - val_loss: 0.1233 - val_accuracy: 0.9692\n",
            "Epoch 13/20\n",
            "199/199 [==============================] - 58s 293ms/step - loss: 0.0234 - accuracy: 0.9930 - val_loss: 0.1247 - val_accuracy: 0.9698\n",
            "Epoch 14/20\n",
            "199/199 [==============================] - 58s 293ms/step - loss: 0.0248 - accuracy: 0.9926 - val_loss: 0.1408 - val_accuracy: 0.9651\n",
            "Epoch 15/20\n",
            "199/199 [==============================] - 58s 294ms/step - loss: 0.0308 - accuracy: 0.9912 - val_loss: 0.1537 - val_accuracy: 0.9607\n",
            "Epoch 16/20\n",
            "199/199 [==============================] - 58s 294ms/step - loss: 0.0336 - accuracy: 0.9900 - val_loss: 0.1713 - val_accuracy: 0.9587\n",
            "Epoch 17/20\n",
            "199/199 [==============================] - 58s 294ms/step - loss: 0.0236 - accuracy: 0.9931 - val_loss: 0.1820 - val_accuracy: 0.9583\n",
            "Epoch 18/20\n",
            "199/199 [==============================] - 58s 293ms/step - loss: 0.0303 - accuracy: 0.9912 - val_loss: 0.1719 - val_accuracy: 0.9590\n",
            "Epoch 19/20\n",
            "199/199 [==============================] - 58s 293ms/step - loss: 0.0212 - accuracy: 0.9939 - val_loss: 0.1860 - val_accuracy: 0.9567\n",
            "Epoch 20/20\n",
            "199/199 [==============================] - 58s 293ms/step - loss: 0.0243 - accuracy: 0.9927 - val_loss: 0.1870 - val_accuracy: 0.9563\n",
            "690/690 [==============================] - 10s 14ms/step\n",
            "               precision    recall  f1-score   support\n",
            "\n",
            "schizophrenia       0.93      0.93      0.93      1381\n",
            "      anxiety       0.98      0.96      0.97      6953\n",
            "          BPD       0.95      0.94      0.95      3055\n",
            "   depression       0.94      0.97      0.96      6879\n",
            "      bipolar       0.96      0.94      0.95      3246\n",
            "       autism       0.96      0.96      0.96       558\n",
            "\n",
            "     accuracy                           0.96     22072\n",
            "    macro avg       0.95      0.95      0.95     22072\n",
            " weighted avg       0.96      0.96      0.96     22072\n",
            "\n",
            "Accuracy  : 0.9563247553461399\n",
            "Precision : 0.956490022818997\n",
            "F1-score : 0.9563355465247788\n",
            "[[1287   16   14   32   27    5]\n",
            " [  23 6705   40  151   32    2]\n",
            " [  11   40 2866  104   30    4]\n",
            " [  32   76   57 6657   52    5]\n",
            " [  28   31   26  100 3057    4]\n",
            " [   4    3    6    8    1  536]]\n",
            "\n",
            "\n",
            "Results for fold 8\n",
            "Epoch 1/20\n",
            "199/199 [==============================] - 59s 294ms/step - loss: 0.0437 - accuracy: 0.9879 - val_loss: 0.0196 - val_accuracy: 0.9944\n",
            "Epoch 2/20\n",
            "199/199 [==============================] - 58s 294ms/step - loss: 0.0303 - accuracy: 0.9912 - val_loss: 0.0217 - val_accuracy: 0.9933\n",
            "Epoch 3/20\n",
            "199/199 [==============================] - 59s 294ms/step - loss: 0.0220 - accuracy: 0.9937 - val_loss: 0.0262 - val_accuracy: 0.9923\n",
            "Epoch 4/20\n",
            "199/199 [==============================] - 58s 294ms/step - loss: 0.0185 - accuracy: 0.9945 - val_loss: 0.0329 - val_accuracy: 0.9909\n",
            "Epoch 5/20\n",
            "199/199 [==============================] - 58s 294ms/step - loss: 0.0203 - accuracy: 0.9942 - val_loss: 0.0365 - val_accuracy: 0.9900\n",
            "Epoch 6/20\n",
            "199/199 [==============================] - 58s 293ms/step - loss: 0.0194 - accuracy: 0.9940 - val_loss: 0.0445 - val_accuracy: 0.9874\n",
            "Epoch 7/20\n",
            "199/199 [==============================] - 59s 295ms/step - loss: 0.0356 - accuracy: 0.9895 - val_loss: 0.0567 - val_accuracy: 0.9841\n",
            "Epoch 8/20\n",
            "199/199 [==============================] - 59s 295ms/step - loss: 0.0201 - accuracy: 0.9941 - val_loss: 0.0564 - val_accuracy: 0.9837\n",
            "Epoch 9/20\n",
            "199/199 [==============================] - 59s 294ms/step - loss: 0.0194 - accuracy: 0.9944 - val_loss: 0.0646 - val_accuracy: 0.9820\n",
            "Epoch 10/20\n",
            "199/199 [==============================] - 58s 294ms/step - loss: 0.0198 - accuracy: 0.9941 - val_loss: 0.0668 - val_accuracy: 0.9817\n",
            "Epoch 11/20\n",
            "199/199 [==============================] - 59s 295ms/step - loss: 0.0176 - accuracy: 0.9947 - val_loss: 0.0700 - val_accuracy: 0.9810\n",
            "Epoch 12/20\n",
            "199/199 [==============================] - 59s 294ms/step - loss: 0.0156 - accuracy: 0.9952 - val_loss: 0.0739 - val_accuracy: 0.9800\n",
            "Epoch 13/20\n",
            "199/199 [==============================] - 59s 294ms/step - loss: 0.0183 - accuracy: 0.9944 - val_loss: 0.0826 - val_accuracy: 0.9775\n",
            "Epoch 14/20\n",
            "199/199 [==============================] - 58s 294ms/step - loss: 0.0182 - accuracy: 0.9945 - val_loss: 0.1066 - val_accuracy: 0.9741\n",
            "Epoch 15/20\n",
            "199/199 [==============================] - 58s 294ms/step - loss: 0.0197 - accuracy: 0.9943 - val_loss: 0.1138 - val_accuracy: 0.9721\n",
            "Epoch 16/20\n",
            "199/199 [==============================] - 59s 295ms/step - loss: 0.0326 - accuracy: 0.9911 - val_loss: 0.1193 - val_accuracy: 0.9698\n",
            "Epoch 17/20\n",
            "199/199 [==============================] - 59s 295ms/step - loss: 0.0156 - accuracy: 0.9953 - val_loss: 0.1133 - val_accuracy: 0.9721\n",
            "Epoch 18/20\n",
            "199/199 [==============================] - 59s 295ms/step - loss: 0.0129 - accuracy: 0.9960 - val_loss: 0.1226 - val_accuracy: 0.9706\n",
            "Epoch 19/20\n",
            "199/199 [==============================] - 59s 295ms/step - loss: 0.0122 - accuracy: 0.9963 - val_loss: 0.1447 - val_accuracy: 0.9677\n",
            "Epoch 20/20\n",
            "199/199 [==============================] - 59s 295ms/step - loss: 0.0205 - accuracy: 0.9940 - val_loss: 0.1476 - val_accuracy: 0.9667\n",
            "690/690 [==============================] - 10s 14ms/step\n",
            "               precision    recall  f1-score   support\n",
            "\n",
            "schizophrenia       0.95      0.95      0.95      1400\n",
            "      anxiety       0.98      0.97      0.97      6848\n",
            "          BPD       0.96      0.95      0.96      3042\n",
            "   depression       0.96      0.97      0.97      6909\n",
            "      bipolar       0.96      0.96      0.96      3323\n",
            "       autism       0.99      0.97      0.98       550\n",
            "\n",
            "     accuracy                           0.97     22072\n",
            "    macro avg       0.97      0.96      0.97     22072\n",
            " weighted avg       0.97      0.97      0.97     22072\n",
            "\n",
            "Accuracy  : 0.9667451975353389\n",
            "Precision : 0.9667724003803466\n",
            "F1-score : 0.9667470766731825\n",
            "[[1332   19    9   16   24    0]\n",
            " [  17 6668   25  108   26    4]\n",
            " [   7   21 2904   90   20    0]\n",
            " [  23   92   39 6703   52    0]\n",
            " [  13   28   37   49 3196    0]\n",
            " [   5    4    1    5    0  535]]\n",
            "\n",
            "\n",
            "Results for fold 9\n",
            "Epoch 1/20\n",
            "199/199 [==============================] - 59s 296ms/step - loss: 0.0362 - accuracy: 0.9898 - val_loss: 0.0109 - val_accuracy: 0.9961\n",
            "Epoch 2/20\n",
            "199/199 [==============================] - 59s 296ms/step - loss: 0.0211 - accuracy: 0.9938 - val_loss: 0.0119 - val_accuracy: 0.9956\n",
            "Epoch 3/20\n",
            "199/199 [==============================] - 59s 295ms/step - loss: 0.0177 - accuracy: 0.9947 - val_loss: 0.0185 - val_accuracy: 0.9940\n",
            "Epoch 4/20\n",
            "199/199 [==============================] - 59s 295ms/step - loss: 0.0147 - accuracy: 0.9956 - val_loss: 0.0217 - val_accuracy: 0.9930\n",
            "Epoch 5/20\n",
            "199/199 [==============================] - 59s 294ms/step - loss: 0.0148 - accuracy: 0.9956 - val_loss: 0.0224 - val_accuracy: 0.9928\n",
            "Epoch 6/20\n",
            "199/199 [==============================] - 59s 295ms/step - loss: 0.0237 - accuracy: 0.9936 - val_loss: 0.0285 - val_accuracy: 0.9906\n",
            "Epoch 7/20\n",
            "199/199 [==============================] - 59s 295ms/step - loss: 0.0147 - accuracy: 0.9956 - val_loss: 0.0287 - val_accuracy: 0.9910\n",
            "Epoch 8/20\n",
            "199/199 [==============================] - 59s 296ms/step - loss: 0.0142 - accuracy: 0.9958 - val_loss: 0.0379 - val_accuracy: 0.9887\n",
            "Epoch 9/20\n",
            "199/199 [==============================] - 59s 295ms/step - loss: 0.0137 - accuracy: 0.9959 - val_loss: 0.0432 - val_accuracy: 0.9876\n",
            "Epoch 10/20\n",
            "199/199 [==============================] - 59s 295ms/step - loss: 0.0129 - accuracy: 0.9960 - val_loss: 0.0555 - val_accuracy: 0.9852\n",
            "Epoch 11/20\n",
            "199/199 [==============================] - 59s 295ms/step - loss: 0.0121 - accuracy: 0.9961 - val_loss: 0.0541 - val_accuracy: 0.9858\n",
            "Epoch 12/20\n",
            "199/199 [==============================] - 59s 295ms/step - loss: 0.0116 - accuracy: 0.9963 - val_loss: 0.0613 - val_accuracy: 0.9850\n",
            "Epoch 13/20\n",
            "199/199 [==============================] - 59s 295ms/step - loss: 0.0134 - accuracy: 0.9958 - val_loss: 0.0713 - val_accuracy: 0.9821\n",
            "Epoch 14/20\n",
            "199/199 [==============================] - 59s 295ms/step - loss: 0.0158 - accuracy: 0.9953 - val_loss: 0.0646 - val_accuracy: 0.9830\n",
            "Epoch 15/20\n",
            "199/199 [==============================] - 59s 295ms/step - loss: 0.0118 - accuracy: 0.9963 - val_loss: 0.0711 - val_accuracy: 0.9813\n",
            "Epoch 16/20\n",
            "199/199 [==============================] - 59s 295ms/step - loss: 0.0105 - accuracy: 0.9967 - val_loss: 0.0782 - val_accuracy: 0.9825\n",
            "Epoch 17/20\n",
            "199/199 [==============================] - 58s 294ms/step - loss: 0.0123 - accuracy: 0.9964 - val_loss: 0.0811 - val_accuracy: 0.9802\n",
            "Epoch 18/20\n",
            "199/199 [==============================] - 59s 295ms/step - loss: 0.0149 - accuracy: 0.9955 - val_loss: 0.0920 - val_accuracy: 0.9774\n",
            "Epoch 19/20\n",
            "199/199 [==============================] - 59s 294ms/step - loss: 0.0236 - accuracy: 0.9930 - val_loss: 0.0922 - val_accuracy: 0.9775\n",
            "Epoch 20/20\n",
            "199/199 [==============================] - 58s 294ms/step - loss: 0.0125 - accuracy: 0.9962 - val_loss: 0.1100 - val_accuracy: 0.9741\n",
            "690/690 [==============================] - 10s 14ms/step\n",
            "               precision    recall  f1-score   support\n",
            "\n",
            "schizophrenia       0.96      0.96      0.96      1381\n",
            "      anxiety       0.99      0.97      0.98      6898\n",
            "          BPD       0.98      0.97      0.97      3134\n",
            "   depression       0.97      0.98      0.97      6792\n",
            "      bipolar       0.96      0.98      0.97      3330\n",
            "       autism       0.98      0.98      0.98       537\n",
            "\n",
            "     accuracy                           0.97     22072\n",
            "    macro avg       0.97      0.97      0.97     22072\n",
            " weighted avg       0.97      0.97      0.97     22072\n",
            "\n",
            "Accuracy  : 0.974084813338166\n",
            "Precision : 0.9742153504507164\n",
            "F1-score : 0.9741048916459869\n",
            "[[1323    9    7   10   31    1]\n",
            " [  11 6715   27  108   33    4]\n",
            " [   7   15 3025   62   23    2]\n",
            " [  15   44   25 6656   52    0]\n",
            " [  19   10   13   30 3256    2]\n",
            " [   2    3    3    2    2  525]]\n",
            "\n",
            "\n",
            "Results for fold 10\n",
            "Epoch 1/20\n",
            "199/199 [==============================] - 59s 295ms/step - loss: 0.0235 - accuracy: 0.9935 - val_loss: 0.0094 - val_accuracy: 0.9968\n",
            "Epoch 2/20\n",
            "199/199 [==============================] - 59s 295ms/step - loss: 0.0131 - accuracy: 0.9959 - val_loss: 0.0101 - val_accuracy: 0.9964\n",
            "Epoch 3/20\n",
            "199/199 [==============================] - 59s 296ms/step - loss: 0.0104 - accuracy: 0.9968 - val_loss: 0.0146 - val_accuracy: 0.9958\n",
            "Epoch 4/20\n",
            "199/199 [==============================] - 59s 295ms/step - loss: 0.0104 - accuracy: 0.9967 - val_loss: 0.0168 - val_accuracy: 0.9951\n",
            "Epoch 5/20\n",
            "199/199 [==============================] - 59s 295ms/step - loss: 0.0100 - accuracy: 0.9970 - val_loss: 0.0219 - val_accuracy: 0.9939\n",
            "Epoch 6/20\n",
            "199/199 [==============================] - 59s 295ms/step - loss: 0.0123 - accuracy: 0.9964 - val_loss: 0.0238 - val_accuracy: 0.9923\n",
            "Epoch 7/20\n",
            "199/199 [==============================] - 59s 295ms/step - loss: 0.0137 - accuracy: 0.9958 - val_loss: 0.0388 - val_accuracy: 0.9891\n",
            "Epoch 8/20\n",
            "199/199 [==============================] - 59s 295ms/step - loss: 0.0146 - accuracy: 0.9958 - val_loss: 0.0343 - val_accuracy: 0.9901\n",
            "Epoch 9/20\n",
            "199/199 [==============================] - 59s 295ms/step - loss: 0.0119 - accuracy: 0.9965 - val_loss: 0.0327 - val_accuracy: 0.9907\n",
            "Epoch 10/20\n",
            "199/199 [==============================] - 59s 295ms/step - loss: 0.0147 - accuracy: 0.9959 - val_loss: 0.0374 - val_accuracy: 0.9896\n",
            "Epoch 11/20\n",
            "199/199 [==============================] - 59s 295ms/step - loss: 0.0119 - accuracy: 0.9964 - val_loss: 0.0478 - val_accuracy: 0.9870\n",
            "Epoch 12/20\n",
            "199/199 [==============================] - 59s 294ms/step - loss: 0.0100 - accuracy: 0.9967 - val_loss: 0.0616 - val_accuracy: 0.9846\n",
            "Epoch 13/20\n",
            "199/199 [==============================] - 59s 295ms/step - loss: 0.0126 - accuracy: 0.9964 - val_loss: 0.0621 - val_accuracy: 0.9850\n",
            "Epoch 14/20\n",
            "199/199 [==============================] - 59s 295ms/step - loss: 0.0112 - accuracy: 0.9966 - val_loss: 0.0595 - val_accuracy: 0.9851\n",
            "Epoch 15/20\n",
            "199/199 [==============================] - 59s 295ms/step - loss: 0.0113 - accuracy: 0.9966 - val_loss: 0.0652 - val_accuracy: 0.9840\n",
            "Epoch 16/20\n",
            "199/199 [==============================] - 59s 295ms/step - loss: 0.0096 - accuracy: 0.9968 - val_loss: 0.0565 - val_accuracy: 0.9860\n",
            "Epoch 17/20\n",
            "199/199 [==============================] - 59s 294ms/step - loss: 0.0087 - accuracy: 0.9973 - val_loss: 0.0668 - val_accuracy: 0.9831\n",
            "Epoch 18/20\n",
            "199/199 [==============================] - 59s 295ms/step - loss: 0.0087 - accuracy: 0.9971 - val_loss: 0.0670 - val_accuracy: 0.9842\n",
            "Epoch 19/20\n",
            "199/199 [==============================] - 58s 294ms/step - loss: 0.0559 - accuracy: 0.9862 - val_loss: 0.1063 - val_accuracy: 0.9715\n",
            "Epoch 20/20\n",
            "199/199 [==============================] - 59s 295ms/step - loss: 0.0246 - accuracy: 0.9929 - val_loss: 0.0818 - val_accuracy: 0.9779\n",
            "690/690 [==============================] - 10s 15ms/step\n",
            "               precision    recall  f1-score   support\n",
            "\n",
            "schizophrenia       0.97      0.98      0.97      1404\n",
            "      anxiety       0.98      0.98      0.98      6928\n",
            "          BPD       0.98      0.96      0.97      2989\n",
            "   depression       0.98      0.98      0.98      6821\n",
            "      bipolar       0.97      0.98      0.98      3351\n",
            "       autism       0.99      0.98      0.98       579\n",
            "\n",
            "     accuracy                           0.98     22072\n",
            "    macro avg       0.98      0.98      0.98     22072\n",
            " weighted avg       0.98      0.98      0.98     22072\n",
            "\n",
            "Accuracy  : 0.977890540050743\n",
            "Precision : 0.9779048252004509\n",
            "F1-score : 0.9778880053539496\n",
            "[[1370    5    1   11   17    0]\n",
            " [   9 6807   20   66   23    3]\n",
            " [   6   20 2884   63   15    1]\n",
            " [  10   68   26 6687   29    1]\n",
            " [  14   20   18   28 3271    0]\n",
            " [   5    3    3    2    1  565]]\n",
            "\n",
            "\n"
          ]
        }
      ]
    },
    {
      "cell_type": "code",
      "source": [
        "import pickle\n",
        "\n",
        "with open ('/content/drive/MyDrive/Colab Notebooks/Mental Health/Final_k-fold_lstm_model_main-modified.pkl', 'wb') as f:\n",
        "  pickle.dump(model, f)"
      ],
      "metadata": {
        "colab": {
          "base_uri": "https://localhost:8080/"
        },
        "id": "sRujZYi8a19x",
        "outputId": "91861ff8-f7c0-4869-9f26-d53c377bd848"
      },
      "execution_count": 25,
      "outputs": [
        {
          "output_type": "stream",
          "name": "stderr",
          "text": [
            "WARNING:absl:Found untraced functions such as lstm_cell_layer_call_fn, lstm_cell_layer_call_and_return_conditional_losses while saving (showing 2 of 2). These functions will not be directly callable after loading.\n"
          ]
        }
      ]
    },
    {
      "cell_type": "code",
      "source": [
        "from sklearn.preprocessing import LabelEncoder\n",
        "from tensorflow.keras.utils import to_categorical\n",
        "\n",
        "data= pd.read_csv(\"/content/drive/MyDrive/Colab Notebooks/Mental health/Mental-health-related-subreddits-modified.csv\")\n",
        "le = LabelEncoder()\n",
        "labelEncode = le.fit_transform(data[\"Category\"])"
      ],
      "metadata": {
        "id": "0VL0gTM5bMif",
        "colab": {
          "base_uri": "https://localhost:8080/",
          "height": 428
        },
        "outputId": "8feca167-7a91-4af8-8828-49265c25209d"
      },
      "execution_count": 26,
      "outputs": [
        {
          "output_type": "error",
          "ename": "FileNotFoundError",
          "evalue": "ignored",
          "traceback": [
            "\u001b[0;31m---------------------------------------------------------------------------\u001b[0m",
            "\u001b[0;31mFileNotFoundError\u001b[0m                         Traceback (most recent call last)",
            "\u001b[0;32m<ipython-input-26-05e480990e73>\u001b[0m in \u001b[0;36m<module>\u001b[0;34m\u001b[0m\n\u001b[1;32m      2\u001b[0m \u001b[0;32mfrom\u001b[0m \u001b[0mtensorflow\u001b[0m\u001b[0;34m.\u001b[0m\u001b[0mkeras\u001b[0m\u001b[0;34m.\u001b[0m\u001b[0mutils\u001b[0m \u001b[0;32mimport\u001b[0m \u001b[0mto_categorical\u001b[0m\u001b[0;34m\u001b[0m\u001b[0;34m\u001b[0m\u001b[0m\n\u001b[1;32m      3\u001b[0m \u001b[0;34m\u001b[0m\u001b[0m\n\u001b[0;32m----> 4\u001b[0;31m \u001b[0mdata\u001b[0m\u001b[0;34m=\u001b[0m \u001b[0mpd\u001b[0m\u001b[0;34m.\u001b[0m\u001b[0mread_csv\u001b[0m\u001b[0;34m(\u001b[0m\u001b[0;34m\"/content/drive/MyDrive/Colab Notebooks/Mental health/Mental-health-related-subreddits-modified.csv\"\u001b[0m\u001b[0;34m)\u001b[0m\u001b[0;34m\u001b[0m\u001b[0;34m\u001b[0m\u001b[0m\n\u001b[0m\u001b[1;32m      5\u001b[0m \u001b[0mle\u001b[0m \u001b[0;34m=\u001b[0m \u001b[0mLabelEncoder\u001b[0m\u001b[0;34m(\u001b[0m\u001b[0;34m)\u001b[0m\u001b[0;34m\u001b[0m\u001b[0;34m\u001b[0m\u001b[0m\n\u001b[1;32m      6\u001b[0m \u001b[0mlabelEncode\u001b[0m \u001b[0;34m=\u001b[0m \u001b[0mle\u001b[0m\u001b[0;34m.\u001b[0m\u001b[0mfit_transform\u001b[0m\u001b[0;34m(\u001b[0m\u001b[0mdata\u001b[0m\u001b[0;34m[\u001b[0m\u001b[0;34m\"Category\"\u001b[0m\u001b[0;34m]\u001b[0m\u001b[0;34m)\u001b[0m\u001b[0;34m\u001b[0m\u001b[0;34m\u001b[0m\u001b[0m\n",
            "\u001b[0;32m/usr/local/lib/python3.7/dist-packages/pandas/util/_decorators.py\u001b[0m in \u001b[0;36mwrapper\u001b[0;34m(*args, **kwargs)\u001b[0m\n\u001b[1;32m    309\u001b[0m                     \u001b[0mstacklevel\u001b[0m\u001b[0;34m=\u001b[0m\u001b[0mstacklevel\u001b[0m\u001b[0;34m,\u001b[0m\u001b[0;34m\u001b[0m\u001b[0;34m\u001b[0m\u001b[0m\n\u001b[1;32m    310\u001b[0m                 )\n\u001b[0;32m--> 311\u001b[0;31m             \u001b[0;32mreturn\u001b[0m \u001b[0mfunc\u001b[0m\u001b[0;34m(\u001b[0m\u001b[0;34m*\u001b[0m\u001b[0margs\u001b[0m\u001b[0;34m,\u001b[0m \u001b[0;34m**\u001b[0m\u001b[0mkwargs\u001b[0m\u001b[0;34m)\u001b[0m\u001b[0;34m\u001b[0m\u001b[0;34m\u001b[0m\u001b[0m\n\u001b[0m\u001b[1;32m    312\u001b[0m \u001b[0;34m\u001b[0m\u001b[0m\n\u001b[1;32m    313\u001b[0m         \u001b[0;32mreturn\u001b[0m \u001b[0mwrapper\u001b[0m\u001b[0;34m\u001b[0m\u001b[0;34m\u001b[0m\u001b[0m\n",
            "\u001b[0;32m/usr/local/lib/python3.7/dist-packages/pandas/io/parsers/readers.py\u001b[0m in \u001b[0;36mread_csv\u001b[0;34m(filepath_or_buffer, sep, delimiter, header, names, index_col, usecols, squeeze, prefix, mangle_dupe_cols, dtype, engine, converters, true_values, false_values, skipinitialspace, skiprows, skipfooter, nrows, na_values, keep_default_na, na_filter, verbose, skip_blank_lines, parse_dates, infer_datetime_format, keep_date_col, date_parser, dayfirst, cache_dates, iterator, chunksize, compression, thousands, decimal, lineterminator, quotechar, quoting, doublequote, escapechar, comment, encoding, encoding_errors, dialect, error_bad_lines, warn_bad_lines, on_bad_lines, delim_whitespace, low_memory, memory_map, float_precision, storage_options)\u001b[0m\n\u001b[1;32m    584\u001b[0m     \u001b[0mkwds\u001b[0m\u001b[0;34m.\u001b[0m\u001b[0mupdate\u001b[0m\u001b[0;34m(\u001b[0m\u001b[0mkwds_defaults\u001b[0m\u001b[0;34m)\u001b[0m\u001b[0;34m\u001b[0m\u001b[0;34m\u001b[0m\u001b[0m\n\u001b[1;32m    585\u001b[0m \u001b[0;34m\u001b[0m\u001b[0m\n\u001b[0;32m--> 586\u001b[0;31m     \u001b[0;32mreturn\u001b[0m \u001b[0m_read\u001b[0m\u001b[0;34m(\u001b[0m\u001b[0mfilepath_or_buffer\u001b[0m\u001b[0;34m,\u001b[0m \u001b[0mkwds\u001b[0m\u001b[0;34m)\u001b[0m\u001b[0;34m\u001b[0m\u001b[0;34m\u001b[0m\u001b[0m\n\u001b[0m\u001b[1;32m    587\u001b[0m \u001b[0;34m\u001b[0m\u001b[0m\n\u001b[1;32m    588\u001b[0m \u001b[0;34m\u001b[0m\u001b[0m\n",
            "\u001b[0;32m/usr/local/lib/python3.7/dist-packages/pandas/io/parsers/readers.py\u001b[0m in \u001b[0;36m_read\u001b[0;34m(filepath_or_buffer, kwds)\u001b[0m\n\u001b[1;32m    480\u001b[0m \u001b[0;34m\u001b[0m\u001b[0m\n\u001b[1;32m    481\u001b[0m     \u001b[0;31m# Create the parser.\u001b[0m\u001b[0;34m\u001b[0m\u001b[0;34m\u001b[0m\u001b[0;34m\u001b[0m\u001b[0m\n\u001b[0;32m--> 482\u001b[0;31m     \u001b[0mparser\u001b[0m \u001b[0;34m=\u001b[0m \u001b[0mTextFileReader\u001b[0m\u001b[0;34m(\u001b[0m\u001b[0mfilepath_or_buffer\u001b[0m\u001b[0;34m,\u001b[0m \u001b[0;34m**\u001b[0m\u001b[0mkwds\u001b[0m\u001b[0;34m)\u001b[0m\u001b[0;34m\u001b[0m\u001b[0;34m\u001b[0m\u001b[0m\n\u001b[0m\u001b[1;32m    483\u001b[0m \u001b[0;34m\u001b[0m\u001b[0m\n\u001b[1;32m    484\u001b[0m     \u001b[0;32mif\u001b[0m \u001b[0mchunksize\u001b[0m \u001b[0;32mor\u001b[0m \u001b[0miterator\u001b[0m\u001b[0;34m:\u001b[0m\u001b[0;34m\u001b[0m\u001b[0;34m\u001b[0m\u001b[0m\n",
            "\u001b[0;32m/usr/local/lib/python3.7/dist-packages/pandas/io/parsers/readers.py\u001b[0m in \u001b[0;36m__init__\u001b[0;34m(self, f, engine, **kwds)\u001b[0m\n\u001b[1;32m    809\u001b[0m             \u001b[0mself\u001b[0m\u001b[0;34m.\u001b[0m\u001b[0moptions\u001b[0m\u001b[0;34m[\u001b[0m\u001b[0;34m\"has_index_names\"\u001b[0m\u001b[0;34m]\u001b[0m \u001b[0;34m=\u001b[0m \u001b[0mkwds\u001b[0m\u001b[0;34m[\u001b[0m\u001b[0;34m\"has_index_names\"\u001b[0m\u001b[0;34m]\u001b[0m\u001b[0;34m\u001b[0m\u001b[0;34m\u001b[0m\u001b[0m\n\u001b[1;32m    810\u001b[0m \u001b[0;34m\u001b[0m\u001b[0m\n\u001b[0;32m--> 811\u001b[0;31m         \u001b[0mself\u001b[0m\u001b[0;34m.\u001b[0m\u001b[0m_engine\u001b[0m \u001b[0;34m=\u001b[0m \u001b[0mself\u001b[0m\u001b[0;34m.\u001b[0m\u001b[0m_make_engine\u001b[0m\u001b[0;34m(\u001b[0m\u001b[0mself\u001b[0m\u001b[0;34m.\u001b[0m\u001b[0mengine\u001b[0m\u001b[0;34m)\u001b[0m\u001b[0;34m\u001b[0m\u001b[0;34m\u001b[0m\u001b[0m\n\u001b[0m\u001b[1;32m    812\u001b[0m \u001b[0;34m\u001b[0m\u001b[0m\n\u001b[1;32m    813\u001b[0m     \u001b[0;32mdef\u001b[0m \u001b[0mclose\u001b[0m\u001b[0;34m(\u001b[0m\u001b[0mself\u001b[0m\u001b[0;34m)\u001b[0m\u001b[0;34m:\u001b[0m\u001b[0;34m\u001b[0m\u001b[0;34m\u001b[0m\u001b[0m\n",
            "\u001b[0;32m/usr/local/lib/python3.7/dist-packages/pandas/io/parsers/readers.py\u001b[0m in \u001b[0;36m_make_engine\u001b[0;34m(self, engine)\u001b[0m\n\u001b[1;32m   1038\u001b[0m             )\n\u001b[1;32m   1039\u001b[0m         \u001b[0;31m# error: Too many arguments for \"ParserBase\"\u001b[0m\u001b[0;34m\u001b[0m\u001b[0;34m\u001b[0m\u001b[0;34m\u001b[0m\u001b[0m\n\u001b[0;32m-> 1040\u001b[0;31m         \u001b[0;32mreturn\u001b[0m \u001b[0mmapping\u001b[0m\u001b[0;34m[\u001b[0m\u001b[0mengine\u001b[0m\u001b[0;34m]\u001b[0m\u001b[0;34m(\u001b[0m\u001b[0mself\u001b[0m\u001b[0;34m.\u001b[0m\u001b[0mf\u001b[0m\u001b[0;34m,\u001b[0m \u001b[0;34m**\u001b[0m\u001b[0mself\u001b[0m\u001b[0;34m.\u001b[0m\u001b[0moptions\u001b[0m\u001b[0;34m)\u001b[0m  \u001b[0;31m# type: ignore[call-arg]\u001b[0m\u001b[0;34m\u001b[0m\u001b[0;34m\u001b[0m\u001b[0m\n\u001b[0m\u001b[1;32m   1041\u001b[0m \u001b[0;34m\u001b[0m\u001b[0m\n\u001b[1;32m   1042\u001b[0m     \u001b[0;32mdef\u001b[0m \u001b[0m_failover_to_python\u001b[0m\u001b[0;34m(\u001b[0m\u001b[0mself\u001b[0m\u001b[0;34m)\u001b[0m\u001b[0;34m:\u001b[0m\u001b[0;34m\u001b[0m\u001b[0;34m\u001b[0m\u001b[0m\n",
            "\u001b[0;32m/usr/local/lib/python3.7/dist-packages/pandas/io/parsers/c_parser_wrapper.py\u001b[0m in \u001b[0;36m__init__\u001b[0;34m(self, src, **kwds)\u001b[0m\n\u001b[1;32m     49\u001b[0m \u001b[0;34m\u001b[0m\u001b[0m\n\u001b[1;32m     50\u001b[0m         \u001b[0;31m# open handles\u001b[0m\u001b[0;34m\u001b[0m\u001b[0;34m\u001b[0m\u001b[0;34m\u001b[0m\u001b[0m\n\u001b[0;32m---> 51\u001b[0;31m         \u001b[0mself\u001b[0m\u001b[0;34m.\u001b[0m\u001b[0m_open_handles\u001b[0m\u001b[0;34m(\u001b[0m\u001b[0msrc\u001b[0m\u001b[0;34m,\u001b[0m \u001b[0mkwds\u001b[0m\u001b[0;34m)\u001b[0m\u001b[0;34m\u001b[0m\u001b[0;34m\u001b[0m\u001b[0m\n\u001b[0m\u001b[1;32m     52\u001b[0m         \u001b[0;32massert\u001b[0m \u001b[0mself\u001b[0m\u001b[0;34m.\u001b[0m\u001b[0mhandles\u001b[0m \u001b[0;32mis\u001b[0m \u001b[0;32mnot\u001b[0m \u001b[0;32mNone\u001b[0m\u001b[0;34m\u001b[0m\u001b[0;34m\u001b[0m\u001b[0m\n\u001b[1;32m     53\u001b[0m \u001b[0;34m\u001b[0m\u001b[0m\n",
            "\u001b[0;32m/usr/local/lib/python3.7/dist-packages/pandas/io/parsers/base_parser.py\u001b[0m in \u001b[0;36m_open_handles\u001b[0;34m(self, src, kwds)\u001b[0m\n\u001b[1;32m    227\u001b[0m             \u001b[0mmemory_map\u001b[0m\u001b[0;34m=\u001b[0m\u001b[0mkwds\u001b[0m\u001b[0;34m.\u001b[0m\u001b[0mget\u001b[0m\u001b[0;34m(\u001b[0m\u001b[0;34m\"memory_map\"\u001b[0m\u001b[0;34m,\u001b[0m \u001b[0;32mFalse\u001b[0m\u001b[0;34m)\u001b[0m\u001b[0;34m,\u001b[0m\u001b[0;34m\u001b[0m\u001b[0;34m\u001b[0m\u001b[0m\n\u001b[1;32m    228\u001b[0m             \u001b[0mstorage_options\u001b[0m\u001b[0;34m=\u001b[0m\u001b[0mkwds\u001b[0m\u001b[0;34m.\u001b[0m\u001b[0mget\u001b[0m\u001b[0;34m(\u001b[0m\u001b[0;34m\"storage_options\"\u001b[0m\u001b[0;34m,\u001b[0m \u001b[0;32mNone\u001b[0m\u001b[0;34m)\u001b[0m\u001b[0;34m,\u001b[0m\u001b[0;34m\u001b[0m\u001b[0;34m\u001b[0m\u001b[0m\n\u001b[0;32m--> 229\u001b[0;31m             \u001b[0merrors\u001b[0m\u001b[0;34m=\u001b[0m\u001b[0mkwds\u001b[0m\u001b[0;34m.\u001b[0m\u001b[0mget\u001b[0m\u001b[0;34m(\u001b[0m\u001b[0;34m\"encoding_errors\"\u001b[0m\u001b[0;34m,\u001b[0m \u001b[0;34m\"strict\"\u001b[0m\u001b[0;34m)\u001b[0m\u001b[0;34m,\u001b[0m\u001b[0;34m\u001b[0m\u001b[0;34m\u001b[0m\u001b[0m\n\u001b[0m\u001b[1;32m    230\u001b[0m         )\n\u001b[1;32m    231\u001b[0m \u001b[0;34m\u001b[0m\u001b[0m\n",
            "\u001b[0;32m/usr/local/lib/python3.7/dist-packages/pandas/io/common.py\u001b[0m in \u001b[0;36mget_handle\u001b[0;34m(path_or_buf, mode, encoding, compression, memory_map, is_text, errors, storage_options)\u001b[0m\n\u001b[1;32m    705\u001b[0m                 \u001b[0mencoding\u001b[0m\u001b[0;34m=\u001b[0m\u001b[0mioargs\u001b[0m\u001b[0;34m.\u001b[0m\u001b[0mencoding\u001b[0m\u001b[0;34m,\u001b[0m\u001b[0;34m\u001b[0m\u001b[0;34m\u001b[0m\u001b[0m\n\u001b[1;32m    706\u001b[0m                 \u001b[0merrors\u001b[0m\u001b[0;34m=\u001b[0m\u001b[0merrors\u001b[0m\u001b[0;34m,\u001b[0m\u001b[0;34m\u001b[0m\u001b[0;34m\u001b[0m\u001b[0m\n\u001b[0;32m--> 707\u001b[0;31m                 \u001b[0mnewline\u001b[0m\u001b[0;34m=\u001b[0m\u001b[0;34m\"\"\u001b[0m\u001b[0;34m,\u001b[0m\u001b[0;34m\u001b[0m\u001b[0;34m\u001b[0m\u001b[0m\n\u001b[0m\u001b[1;32m    708\u001b[0m             )\n\u001b[1;32m    709\u001b[0m         \u001b[0;32melse\u001b[0m\u001b[0;34m:\u001b[0m\u001b[0;34m\u001b[0m\u001b[0;34m\u001b[0m\u001b[0m\n",
            "\u001b[0;31mFileNotFoundError\u001b[0m: [Errno 2] No such file or directory: '/content/drive/MyDrive/Colab Notebooks/Mental health/Mental-health-related-subreddits-modified.csv'"
          ]
        }
      ]
    },
    {
      "cell_type": "code",
      "source": [
        "y_pred = model.predict(x_test)"
      ],
      "metadata": {
        "id": "oO0V1w-Sbc-B"
      },
      "execution_count": null,
      "outputs": []
    },
    {
      "cell_type": "code",
      "source": [
        "y_pred = np.argmax(y_pred, axis=-1) "
      ],
      "metadata": {
        "id": "kB_2A8LHbh6i"
      },
      "execution_count": null,
      "outputs": []
    },
    {
      "cell_type": "code",
      "source": [
        "y_test=np.argmax(y_test, axis=-1)"
      ],
      "metadata": {
        "id": "M2Dv-DyTbicX"
      },
      "execution_count": null,
      "outputs": []
    },
    {
      "cell_type": "code",
      "source": [
        "#accuracy calculation\n",
        "loss_and_metrics = model.evaluate(x_train,y_train,batch_size=256)\n",
        "print(\"The train accuracy is: \"+str(loss_and_metrics[1]))"
      ],
      "metadata": {
        "id": "GN3Y9M2Cb7x2"
      },
      "execution_count": null,
      "outputs": []
    },
    {
      "cell_type": "code",
      "source": [
        "# loss_and_metrics = model.evaluate(x_test,y_test,batch_size=256)\n",
        "# print(\"The test accuracy is: \"+str(loss_and_metrics[1]))"
      ],
      "metadata": {
        "id": "811I288kb-Uj"
      },
      "execution_count": null,
      "outputs": []
    },
    {
      "cell_type": "code",
      "source": [
        "# from sklearn import metrics\n",
        "# from sklearn.metrics import precision_recall_fscore_support\n",
        "# from sklearn.metrics import accuracy_score\n",
        "# from sklearn.metrics import classification_report\n",
        "# import seaborn as sns\n",
        "\n",
        "# cnn_model = metrics.confusion_matrix(y_test, y_pred)\n",
        "\n",
        "# cm_df = pd.DataFrame(cnn_model,index = ['Anxiety' ,'BPD' ,'autism', 'bipolar','depression', 'schizophrenia'], \n",
        "#                      columns = ['Anxiety' ,'BPD' ,'autism', 'bipolar','depression', 'schizophrenia'])\n",
        "\n",
        "# plt.figure(figsize=(16, 10))\n",
        "# sns.heatmap(cm_df, annot=True, fmt=\".3f\");\n",
        "# plt.ylabel('Actual label');\n",
        "# plt.xlabel('Predicted label');\n",
        "# all_sample_title = 'Accuracy Score LSTM: {0}'.format(loss_and_metrics[1])\n",
        "# plt.title(all_sample_title, size = 15);\n",
        "\n",
        "# report = pd.DataFrame(classification_report(y_true = y_test, y_pred = y_pred, output_dict=True)).transpose()\n",
        "# report = report.rename(index={'0': 'Anxiety','1':'BPD','2':'autism','3':'bipolar','4':'depression','5':'schizophrenia'})\n",
        "# report[['precision','recall','f1-score']]=report[['precision','recall','f1-score']].apply(lambda x: round(x*100,2))\n",
        "# display(report)"
      ],
      "metadata": {
        "id": "m16hndOTcISH"
      },
      "execution_count": null,
      "outputs": []
    },
    {
      "cell_type": "code",
      "source": [
        "history_dict = lstm_history.history\n",
        "acc = history_dict['accuracy']\n",
        "val_acc = history_dict['val_accuracy']\n",
        "loss = history_dict['loss']\n",
        "val_loss = history_dict['val_loss']\n",
        "epochs = lstm_history.epoch\n",
        "\n",
        "plt.figure(figsize=(9,6))\n",
        "plt.plot(epochs, loss, 'r', label='Training loss')\n",
        "plt.plot(epochs, val_loss, 'b', label='Validation loss')\n",
        "plt.title('Training and validation loss', size=10)\n",
        "plt.xlabel('Epochs', size=20)\n",
        "plt.ylabel('Loss', size=20)\n",
        "plt.legend(prop={'size': 10})\n",
        "plt.show()\n",
        "\n",
        "plt.figure(figsize=(9,6))\n",
        "plt.plot(epochs, acc, 'r', label='Training accuracy')\n",
        "plt.plot(epochs, val_acc, 'b', label='Validation accuracy')\n",
        "plt.title('Training and validation accuracy', size=10)\n",
        "plt.xlabel('Epochs', size=20)\n",
        "plt.ylabel('Accuracy', size=20)\n",
        "plt.legend(prop={'size': 10})\n",
        "plt.ylim((0.5,1))\n",
        "plt.show()"
      ],
      "metadata": {
        "id": "K_TuWJH3czam"
      },
      "execution_count": null,
      "outputs": []
    },
    {
      "cell_type": "code",
      "source": [
        "plt.title('Loss')\n",
        "plt.plot(history.history['loss'], label='train')\n",
        "plt.plot(history.history['val_loss'], label='test')\n",
        "plt.legend()\n",
        "plt.show();"
      ],
      "metadata": {
        "id": "Qk3UrOeJ6DPY"
      },
      "execution_count": null,
      "outputs": []
    },
    {
      "cell_type": "code",
      "source": [
        "plt.title('Accuracy')\n",
        "plt.plot(history.history['accuracy'], label='train')\n",
        "plt.plot(history.history['val_accuracy'], label='test')\n",
        "plt.legend()\n",
        "plt.show();"
      ],
      "metadata": {
        "id": "cdjM4GOW6DM-"
      },
      "execution_count": null,
      "outputs": []
    },
    {
      "cell_type": "code",
      "source": [
        "accr = model.evaluate(x_test,y_test)\n",
        "print('Test set\\n  Loss: {:0.4f}\\n  Accuracy: {:0.4f}'.format(accr[0],accr[1]))"
      ],
      "metadata": {
        "id": "8owAyF4N6DRv"
      },
      "execution_count": null,
      "outputs": []
    }
  ]
}